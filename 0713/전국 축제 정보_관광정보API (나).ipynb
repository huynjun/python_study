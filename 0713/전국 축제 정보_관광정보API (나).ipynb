{
 "cells": [
  {
   "cell_type": "code",
   "execution_count": 1,
   "id": "512b629e",
   "metadata": {},
   "outputs": [],
   "source": [
    "import requests\n",
    "import pandas as pd\n",
    "from bs4 import BeautifulSoup as bs\n",
    "from tqdm import tqdm"
   ]
  },
  {
   "cell_type": "code",
   "execution_count": 2,
   "id": "95f0a4aa",
   "metadata": {},
   "outputs": [],
   "source": [
    "def url_parser(sDate, eDate, row=10):\n",
    "    ### API 연결 및 데이터 파싱\n",
    "    key=\"VFYXI%2F3A5kIk7QVsO1epAlZSb6ZtCO9N5VC%2FMF3pW6oZ7%2BsFrvH1Y9y0UfmVzTnA0k2FasoNM6t6JsY7%2BEwNEw%3D%3D\"\n",
    "    # 기본 url+사용자 key\n",
    "    url='http://api.visitkorea.or.kr/openapi/service/rest/KorService/searchFestival?serviceKey='+key\n",
    "    url=url+'&MobileOS=ETC&MobileApp=AppTest&arrange=A&listYN=Y' #기본 필수 옵션\n",
    "    url=url+\"&numOfRows=\"+str(row)      # 한페이지 출력 데이터 개수\n",
    "    url=url+\"&eventStartDate=\"+str(sDate)  #조회 시작일\n",
    "    url=url+\"&eventEndDate=\"+str(eDate)    #조회 종료일\n",
    "    #print(url)\n",
    "    xml_soup=requests.get(url)\n",
    "    if xml_soup.status_code !=200:\n",
    "        print(\"API를 연결하지 못 했습니다.\")\n",
    "        exit()\n",
    "        \n",
    "    soup=bs(xml_soup.content, 'html.parser') #xml_soup.text 변경 가능\n",
    "    return soup\n",
    "\n"
   ]
  },
  {
   "cell_type": "code",
   "execution_count": 3,
   "id": "0958b3b0",
   "metadata": {},
   "outputs": [],
   "source": [
    "def tour_info(sDate, eDate, soup):\n",
    "    ### 파싱한 데이터에서 원하는 데이터 추출 및 DataFrame로 변경\n",
    "    row=soup.find('totalcount').text\n",
    "    soup=url_parser(sDate, eDate, row)\n",
    "\n",
    "    items=soup.find_all('item')\n",
    "    df_list=[]\n",
    "\n",
    "    for item in items:\n",
    "        staD=item.find('eventstartdate').text\n",
    "        endD=item.find('eventenddate').get_text()\n",
    "        titD=item.find('title').get_text()\n",
    "        try:\n",
    "            addD=item.find('addr1').get_text()\n",
    "        except:\n",
    "            addD=\"온라인 개최\"\n",
    "        try:\n",
    "            telD=item.find('tel').get_text()\n",
    "        except:\n",
    "            telD=\"-\"\n",
    "        try:\n",
    "            lngD=item.find('mapx').get_text()\n",
    "            latD=item.find('mapy').get_text()\n",
    "        except:\n",
    "            lngD=0\n",
    "            latD=0\n",
    "\n",
    "\n",
    "\n",
    "\n",
    "        df_list.append({'시작 날짜': staD, '종료 날짜':endD, '축제명':titD, '주소':addD,\n",
    "                       '전화번호':telD, '위도':latD, '경도': lngD} )\n",
    "    df1=pd.DataFrame(df_list)\n",
    "\n",
    "    return df1\n",
    "\n"
   ]
  },
  {
   "cell_type": "code",
   "execution_count": null,
   "id": "fe3ad289",
   "metadata": {
    "scrolled": true
   },
   "outputs": [],
   "source": [
    "#if __name__== \"__main__\":\n",
    "sDate=input('조회 시작일:(예:20200101)')\n",
    "eDate=input('조회 종료일:(예:20201231)')\n",
    "\n",
    "\n",
    "soup=url_parser(sDate, eDate)\n",
    "df1=tour_info(sDate, eDate, soup)\n",
    "#df1.to_csv('c:/pydata/tour_'+str(sDate)+\"_\"+str(eDate)+'.csv', index=False)\n",
    "\n",
    "display(df1)"
   ]
  },
  {
   "cell_type": "markdown",
   "id": "afdfa09a",
   "metadata": {},
   "source": [
    "### 축제 데이터 분석\n",
    "- 1. 2020년~2021년 축제 건수 비교(시작일 기준)\n",
    "- 2. 축제유형(집합/비대면 축제)\n",
    "- 3. 지역별 축제 현황"
   ]
  },
  {
   "cell_type": "code",
   "execution_count": 13,
   "id": "0e59c3af",
   "metadata": {},
   "outputs": [
    {
     "name": "stdout",
     "output_type": "stream",
     "text": [
      "8 362 357\n"
     ]
    }
   ],
   "source": [
    "cnt19=0;cnt20=0;cnt21=0\n",
    "\n",
    "\n",
    "for cntDate in  df1['시작 날짜']:\n",
    "    if cntDate[0:4] == \"2019\":\n",
    "        cnt19+=1\n",
    "    if cntDate[0:4] == \"2020\":\n",
    "        cnt20+=1\n",
    "    if cntDate[0:4] == \"2021\":\n",
    "        cnt21+=1\n",
    "\n",
    "print(cnt19, cnt20, cnt21)\n",
    "        \n"
   ]
  },
  {
   "cell_type": "code",
   "execution_count": 14,
   "id": "a1de1ecd",
   "metadata": {},
   "outputs": [],
   "source": [
    "df1['시작년']=df1['시작 날짜'].str[:4]\n",
    "df2=df1.groupby(['시작년'])['축제명'].count()"
   ]
  },
  {
   "cell_type": "code",
   "execution_count": 15,
   "id": "0bb565a3",
   "metadata": {},
   "outputs": [
    {
     "name": "stderr",
     "output_type": "stream",
     "text": [
      "C:\\Users\\user1\\miniconda3\\envs\\multi\\lib\\site-packages\\matplotlib\\backends\\backend_agg.py:240: RuntimeWarning: Glyph 49884 missing from current font.\n",
      "  font.set_text(s, 0.0, flags=flags)\n",
      "C:\\Users\\user1\\miniconda3\\envs\\multi\\lib\\site-packages\\matplotlib\\backends\\backend_agg.py:240: RuntimeWarning: Glyph 51089 missing from current font.\n",
      "  font.set_text(s, 0.0, flags=flags)\n",
      "C:\\Users\\user1\\miniconda3\\envs\\multi\\lib\\site-packages\\matplotlib\\backends\\backend_agg.py:240: RuntimeWarning: Glyph 45380 missing from current font.\n",
      "  font.set_text(s, 0.0, flags=flags)\n",
      "C:\\Users\\user1\\miniconda3\\envs\\multi\\lib\\site-packages\\matplotlib\\backends\\backend_agg.py:203: RuntimeWarning: Glyph 49884 missing from current font.\n",
      "  font.set_text(s, 0, flags=flags)\n",
      "C:\\Users\\user1\\miniconda3\\envs\\multi\\lib\\site-packages\\matplotlib\\backends\\backend_agg.py:203: RuntimeWarning: Glyph 51089 missing from current font.\n",
      "  font.set_text(s, 0, flags=flags)\n",
      "C:\\Users\\user1\\miniconda3\\envs\\multi\\lib\\site-packages\\matplotlib\\backends\\backend_agg.py:203: RuntimeWarning: Glyph 45380 missing from current font.\n",
      "  font.set_text(s, 0, flags=flags)\n"
     ]
    },
    {
     "data": {
      "image/png": "[encoded data removed]",
      "text/plain": [
       "<Figure size 432x288 with 1 Axes>"
      ]
     },
     "metadata": {
      "needs_background": "light"
     },
     "output_type": "display_data"
    }
   ],
   "source": [
    "import matplotlib.pyplot as plt\n",
    "\n",
    "df2.plot.bar()\n",
    "plt.show()"
   ]
  },
  {
   "cell_type": "code",
   "execution_count": 16,
   "id": "77b0f6da",
   "metadata": {},
   "outputs": [
    {
     "data": {
      "text/plain": [
       "시작 날짜    datetime64[ns]\n",
       "종료 날짜    datetime64[ns]\n",
       "축제명              object\n",
       "주소               object\n",
       "전화번호             object\n",
       "위도               object\n",
       "경도               object\n",
       "시작년              object\n",
       "dtype: object"
      ]
     },
     "execution_count": 16,
     "metadata": {},
     "output_type": "execute_result"
    }
   ],
   "source": [
    "from datetime import datetime\n",
    "\n",
    "df1['시작 날짜']=pd.to_datetime(df1['시작 날짜'])\n",
    "df1['종료 날짜']=pd.to_datetime(df1['종료 날짜'])\n",
    "df1.dtypes"
   ]
  },
  {
   "cell_type": "code",
   "execution_count": 17,
   "id": "a96cf93b",
   "metadata": {},
   "outputs": [
    {
     "data": {
      "text/plain": [
       "<AxesSubplot:ylabel='시작년'>"
      ]
     },
     "execution_count": 17,
     "metadata": {},
     "output_type": "execute_result"
    },
    {
     "data": {
      "image/png": "[encoded data removed]",
      "text/plain": [
       "<Figure size 432x288 with 1 Axes>"
      ]
     },
     "metadata": {
      "needs_background": "light"
     },
     "output_type": "display_data"
    }
   ],
   "source": [
    "df1['시작년']=df1['시작 날짜'].dt.year\n",
    "df1['시작월']=df1['시작 날짜'].dt.month\n",
    "df2=df1.groupby(['시작년'])['축제명'].count()\n",
    "df2.plot.barh()"
   ]
  },
  {
   "cell_type": "markdown",
   "id": "138c15f1",
   "metadata": {},
   "source": [
    "- 축제 시작 년/시작월을 기본으로 groupby \n",
    "- concat()으로 추가하기"
   ]
  },
  {
   "cell_type": "code",
   "execution_count": 18,
   "id": "85241e01",
   "metadata": {},
   "outputs": [
    {
     "name": "stdout",
     "output_type": "stream",
     "text": [
      "      시작년  2021Y     시작년  2020Y\n",
      "시작월                            \n",
      "1    2021     43  2020.0    3.0\n",
      "2    2021     17     NaN    NaN\n",
      "3    2021     18     NaN    NaN\n",
      "4    2021     54     NaN    NaN\n",
      "5    2021     64  2020.0    1.0\n",
      "6    2021     44  2020.0    2.0\n",
      "7    2021     38  2020.0    7.0\n",
      "8    2021     16  2020.0   50.0\n",
      "9    2021     21  2020.0   78.0\n",
      "10   2021     34  2020.0  121.0\n",
      "11   2021      6  2020.0   70.0\n",
      "12   2021      2  2020.0   30.0\n"
     ]
    }
   ],
   "source": [
    "df2=df1.groupby(['시작년', '시작월'])['축제명'].count() #축ㅈ제 시작년/시작월 기준 건수 확인\n",
    "df2=df2.reset_index() #'시작년' ,'시작월'을 데이터로 사용하기위해 index 재설정\n",
    "#print(df2[df2['시작년']==2021].set_index('시작월'))\n",
    "\n",
    "df3 = df2[df2['시작년']==2021].set_index('시작월') #index 시작월로 재설정\n",
    "df4 = df2[df2['시작년']==2020].set_index('시작월')\n",
    "\n",
    "df3 = df3.rename(columns = {df3.columns[1]: '2021Y'})        #각각의 재설정 데이터의 열 이름 변경\n",
    "df4 = df4.rename(columns = {df4.columns[1]: '2020Y'})\n",
    "\n",
    "df2 = pd.concat([df3, df4], axis = 1) #df3를 기준으로 열 추가 => 결과를 df2 저장\n",
    "del df3, df4 #df3,4, 삭제\n",
    "\n",
    "print(df2)\n"
   ]
  },
  {
   "cell_type": "code",
   "execution_count": 19,
   "id": "f997bfde",
   "metadata": {},
   "outputs": [
    {
     "name": "stdout",
     "output_type": "stream",
     "text": [
      "     축제명    축제명\n",
      "시작월            \n",
      "1     43    3.0\n",
      "2     17    NaN\n",
      "3     18    NaN\n",
      "4     54    NaN\n",
      "5     64    1.0\n",
      "6     44    2.0\n",
      "7     38    7.0\n",
      "8     16   50.0\n",
      "9     21   78.0\n",
      "10    34  121.0\n",
      "11     6   70.0\n",
      "12     2   30.0\n"
     ]
    }
   ],
   "source": [
    "df3=df1.groupby(['시작년','시작월'])['축제명'].count()\n",
    "df3=df3.reset_index()\n",
    "df3=pd.concat([df3[df3['시작년']==2021].set_index('시작월'),\n",
    "               df3[df3['시작년']==2020].set_index('시작월')], axis=1)\n",
    "df3.drop('시작년', axis=1, inplace=True)\n",
    "print(df3)"
   ]
  },
  {
   "cell_type": "code",
   "execution_count": 20,
   "id": "a8c72d83",
   "metadata": {},
   "outputs": [],
   "source": [
    "#df2.drop('시작년', axis=1, inplace=True)\n",
    "df2=df2.fillna(0)\n"
   ]
  },
  {
   "cell_type": "code",
   "execution_count": 21,
   "id": "5776b407",
   "metadata": {},
   "outputs": [
    {
     "name": "stderr",
     "output_type": "stream",
     "text": [
      "C:\\Users\\user1\\miniconda3\\envs\\multi\\lib\\site-packages\\matplotlib\\backends\\backend_agg.py:240: RuntimeWarning: Glyph 49884 missing from current font.\n",
      "  font.set_text(s, 0.0, flags=flags)\n",
      "C:\\Users\\user1\\miniconda3\\envs\\multi\\lib\\site-packages\\matplotlib\\backends\\backend_agg.py:240: RuntimeWarning: Glyph 51089 missing from current font.\n",
      "  font.set_text(s, 0.0, flags=flags)\n",
      "C:\\Users\\user1\\miniconda3\\envs\\multi\\lib\\site-packages\\matplotlib\\backends\\backend_agg.py:240: RuntimeWarning: Glyph 50900 missing from current font.\n",
      "  font.set_text(s, 0.0, flags=flags)\n",
      "C:\\Users\\user1\\miniconda3\\envs\\multi\\lib\\site-packages\\matplotlib\\backends\\backend_agg.py:240: RuntimeWarning: Glyph 45380 missing from current font.\n",
      "  font.set_text(s, 0.0, flags=flags)\n",
      "C:\\Users\\user1\\miniconda3\\envs\\multi\\lib\\site-packages\\matplotlib\\backends\\backend_agg.py:203: RuntimeWarning: Glyph 49884 missing from current font.\n",
      "  font.set_text(s, 0, flags=flags)\n",
      "C:\\Users\\user1\\miniconda3\\envs\\multi\\lib\\site-packages\\matplotlib\\backends\\backend_agg.py:203: RuntimeWarning: Glyph 51089 missing from current font.\n",
      "  font.set_text(s, 0, flags=flags)\n",
      "C:\\Users\\user1\\miniconda3\\envs\\multi\\lib\\site-packages\\matplotlib\\backends\\backend_agg.py:203: RuntimeWarning: Glyph 50900 missing from current font.\n",
      "  font.set_text(s, 0, flags=flags)\n",
      "C:\\Users\\user1\\miniconda3\\envs\\multi\\lib\\site-packages\\matplotlib\\backends\\backend_agg.py:203: RuntimeWarning: Glyph 45380 missing from current font.\n",
      "  font.set_text(s, 0, flags=flags)\n"
     ]
    },
    {
     "data": {
      "image/png": "[encoded data removed]",
      "text/plain": [
       "<Figure size 432x288 with 1 Axes>"
      ]
     },
     "metadata": {
      "needs_background": "light"
     },
     "output_type": "display_data"
    }
   ],
   "source": [
    "df2.plot.bar()\n",
    "plt.show()"
   ]
  },
  {
   "cell_type": "code",
   "execution_count": 22,
   "id": "1597ddcc",
   "metadata": {},
   "outputs": [
    {
     "name": "stdout",
     "output_type": "stream",
     "text": [
      "110\n",
      "252\n"
     ]
    }
   ],
   "source": [
    "print(df1[(df1['주소']=='온라인개최')&(df1['시작년']==2020)]['주소'].count())\n",
    "print(df1[(df1['주소']!='온라인개최')&(df1['시작년']==2020)]['주소'].count())"
   ]
  },
  {
   "cell_type": "code",
   "execution_count": 23,
   "id": "6bfd3905",
   "metadata": {},
   "outputs": [
    {
     "name": "stdout",
     "output_type": "stream",
     "text": [
      "34\n",
      "323\n"
     ]
    }
   ],
   "source": [
    "print(df1[(df1['주소']=='온라인개최')&(df1['시작년']==2021)]['주소'].count())\n",
    "print(df1[(df1['주소']!='온라인개최')&(df1['시작년']==2021)]['주소'].count())"
   ]
  },
  {
   "cell_type": "code",
   "execution_count": 24,
   "id": "e1eb1075",
   "metadata": {},
   "outputs": [
    {
     "data": {
      "text/plain": [
       "[[110, 252], [34, 323]]"
      ]
     },
     "execution_count": 24,
     "metadata": {},
     "output_type": "execute_result"
    }
   ],
   "source": [
    "pList=[]\n",
    "pList.append([df1[(df1['주소']=='온라인개최')&(df1['시작년']==2020)]['주소'].count(),\n",
    "             df1[(df1['주소']!='온라인개최')&(df1['시작년']==2020)]['주소'].count()])\n",
    "pList.append([df1[(df1['주소']=='온라인개최')&(df1['시작년']==2021)]['주소'].count(),\n",
    "             df1[(df1['주소']!='온라인개최')&(df1['시작년']==2021)]['주소'].count()])\n",
    "pList"
   ]
  },
  {
   "cell_type": "code",
   "execution_count": 25,
   "id": "708e06ee",
   "metadata": {},
   "outputs": [
    {
     "data": {
      "text/html": [
       "<div>\n",
       "<style scoped>\n",
       "    .dataframe tbody tr th:only-of-type {\n",
       "        vertical-align: middle;\n",
       "    }\n",
       "\n",
       "    .dataframe tbody tr th {\n",
       "        vertical-align: top;\n",
       "    }\n",
       "\n",
       "    .dataframe thead th {\n",
       "        text-align: right;\n",
       "    }\n",
       "</style>\n",
       "<table border=\"1\" class=\"dataframe\">\n",
       "  <thead>\n",
       "    <tr style=\"text-align: right;\">\n",
       "      <th></th>\n",
       "      <th>온라인</th>\n",
       "      <th>오프라인</th>\n",
       "    </tr>\n",
       "  </thead>\n",
       "  <tbody>\n",
       "    <tr>\n",
       "      <th>2020년</th>\n",
       "      <td>110</td>\n",
       "      <td>252</td>\n",
       "    </tr>\n",
       "    <tr>\n",
       "      <th>2021년</th>\n",
       "      <td>34</td>\n",
       "      <td>323</td>\n",
       "    </tr>\n",
       "  </tbody>\n",
       "</table>\n",
       "</div>"
      ],
      "text/plain": [
       "       온라인  오프라인\n",
       "2020년  110   252\n",
       "2021년   34   323"
      ]
     },
     "execution_count": 25,
     "metadata": {},
     "output_type": "execute_result"
    }
   ],
   "source": [
    "df2=pd.DataFrame(pList, columns=['온라인', '오프라인'], index=['2020년','2021년'])\n",
    "df2"
   ]
  },
  {
   "cell_type": "code",
   "execution_count": 26,
   "id": "8a1444db",
   "metadata": {},
   "outputs": [
    {
     "data": {
      "image/png": "[encoded data removed]",
      "text/plain": [
       "<Figure size 432x288 with 1 Axes>"
      ]
     },
     "metadata": {
      "needs_background": "light"
     },
     "output_type": "display_data"
    }
   ],
   "source": [
    "import matplotlib.font_manager as fm\n",
    "font_name=fm.FontProperties(fname=\"C:/Windows/Fonts/malgun.ttf\").get_name()\n",
    "plt.rc('font', family=font_name)\n",
    "\n",
    "\n",
    "df2.plot.bar(rot=0)\n",
    "\n",
    "plt.show()"
   ]
  },
  {
   "cell_type": "code",
   "execution_count": 27,
   "id": "87c4f851",
   "metadata": {},
   "outputs": [],
   "source": [
    "#!pip install seaborn"
   ]
  },
  {
   "cell_type": "code",
   "execution_count": 28,
   "id": "18a733dd",
   "metadata": {},
   "outputs": [
    {
     "data": {
      "image/png": "[encoded data removed]",
      "text/plain": [
       "<Figure size 720x360 with 2 Axes>"
      ]
     },
     "metadata": {},
     "output_type": "display_data"
    }
   ],
   "source": [
    "import seaborn as sns\n",
    "fig=plt.figure(figsize=(10, 5))\n",
    "#ax1=fig.add_subplot(1,2,1)\n",
    "#ax2=fig.add_subplot(1,2,2)\n",
    "\n",
    "plt.subplot(1,2,1)\n",
    "x=list(df2.iloc[0])\n",
    "xlab=df2.columns\n",
    "plt.pie(x, labels=xlab, autopct='%.1f%%')\n",
    "plt.title('2020년')\n",
    "\n",
    "plt.subplot(1,2,2)\n",
    "x=list(df2.iloc[1])\n",
    "xlab=df2.columns\n",
    "plt.pie(x, labels=xlab, autopct='%.1f%%')\n",
    "plt.title('2021년')\n",
    "\n",
    "plt.show()"
   ]
  },
  {
   "cell_type": "code",
   "execution_count": 29,
   "id": "5300c996",
   "metadata": {},
   "outputs": [
    {
     "data": {
      "text/plain": [
       "[110, 252]"
      ]
     },
     "execution_count": 29,
     "metadata": {},
     "output_type": "execute_result"
    }
   ],
   "source": [
    "[df2.iloc[0,0], df2.iloc[0,1]]"
   ]
  },
  {
   "cell_type": "code",
   "execution_count": 30,
   "id": "dc767f5b",
   "metadata": {},
   "outputs": [
    {
     "name": "stdout",
     "output_type": "stream",
     "text": [
      "[110, 252]\n",
      "[110, 252]\n"
     ]
    }
   ],
   "source": [
    "print(list(df2.loc['2020년']))\n",
    "print(list(df2.iloc[0]))"
   ]
  },
  {
   "cell_type": "markdown",
   "id": "04c6b941",
   "metadata": {},
   "source": [
    "### 지역별 축제 현황\n",
    "- 주소를 \" \" 기준으로 나누어 첫번쨰 값 선택\n",
    "- 해당 값을 이용해서 '지역' 열 생성 및 데이터 추가\n",
    "- 지역별 축제 현황(현황 테이블화, 시각화-막대그래프,원그래프, 히트맨 그래프)"
   ]
  },
  {
   "cell_type": "code",
   "execution_count": 31,
   "id": "73c46e10",
   "metadata": {
    "scrolled": true
   },
   "outputs": [
    {
     "data": {
      "text/html": [
       "<div>\n",
       "<style scoped>\n",
       "    .dataframe tbody tr th:only-of-type {\n",
       "        vertical-align: middle;\n",
       "    }\n",
       "\n",
       "    .dataframe tbody tr th {\n",
       "        vertical-align: top;\n",
       "    }\n",
       "\n",
       "    .dataframe thead th {\n",
       "        text-align: right;\n",
       "    }\n",
       "</style>\n",
       "<table border=\"1\" class=\"dataframe\">\n",
       "  <thead>\n",
       "    <tr style=\"text-align: right;\">\n",
       "      <th></th>\n",
       "      <th>시작 날짜</th>\n",
       "      <th>종료 날짜</th>\n",
       "      <th>축제명</th>\n",
       "      <th>주소</th>\n",
       "      <th>전화번호</th>\n",
       "      <th>위도</th>\n",
       "      <th>경도</th>\n",
       "      <th>시작년</th>\n",
       "      <th>시작월</th>\n",
       "    </tr>\n",
       "  </thead>\n",
       "  <tbody>\n",
       "    <tr>\n",
       "      <th>0</th>\n",
       "      <td>2021-03-06</td>\n",
       "      <td>2021-10-30</td>\n",
       "      <td>가무악극으로 만나는 토요 상설공연</td>\n",
       "      <td>충청남도 부여군 규암면 백제문로 388</td>\n",
       "      <td>041-832-5765</td>\n",
       "      <td>36.3048428766</td>\n",
       "      <td>126.8997016069</td>\n",
       "      <td>2021</td>\n",
       "      <td>3</td>\n",
       "    </tr>\n",
       "    <tr>\n",
       "      <th>1</th>\n",
       "      <td>2021-03-20</td>\n",
       "      <td>2021-06-30</td>\n",
       "      <td>가산수피아 '봄의 정원'</td>\n",
       "      <td>경상북도 칠곡군 가산면 학하들안2길 105</td>\n",
       "      <td>054-971-9861</td>\n",
       "      <td>36.0861545517</td>\n",
       "      <td>128.4850691574</td>\n",
       "      <td>2021</td>\n",
       "      <td>3</td>\n",
       "    </tr>\n",
       "    <tr>\n",
       "      <th>2</th>\n",
       "      <td>2021-01-16</td>\n",
       "      <td>2021-12-31</td>\n",
       "      <td>가족끼리 빙어체험 2021</td>\n",
       "      <td>경기도 양평군 단월면 곱다니길 55-2 수미마을 방문객센터</td>\n",
       "      <td>031-775-5205</td>\n",
       "      <td>37.5145504080</td>\n",
       "      <td>127.6574135888</td>\n",
       "      <td>2021</td>\n",
       "      <td>1</td>\n",
       "    </tr>\n",
       "    <tr>\n",
       "      <th>3</th>\n",
       "      <td>2021-03-01</td>\n",
       "      <td>2021-06-06</td>\n",
       "      <td>가족끼리딸기 캠피닉</td>\n",
       "      <td>경기도 양평군 단월면 곱다니길 55-2</td>\n",
       "      <td>031-775-5205</td>\n",
       "      <td>37.5144948588</td>\n",
       "      <td>127.6573663730</td>\n",
       "      <td>2021</td>\n",
       "      <td>3</td>\n",
       "    </tr>\n",
       "    <tr>\n",
       "      <th>4</th>\n",
       "      <td>2021-02-25</td>\n",
       "      <td>2021-02-28</td>\n",
       "      <td>가족오페라 &lt;마술피리&gt; 2021</td>\n",
       "      <td>대구광역시 북구 호암로 15</td>\n",
       "      <td>053-666-6170</td>\n",
       "      <td>35.8835072863</td>\n",
       "      <td>128.5922570230</td>\n",
       "      <td>2021</td>\n",
       "      <td>2</td>\n",
       "    </tr>\n",
       "    <tr>\n",
       "      <th>...</th>\n",
       "      <td>...</td>\n",
       "      <td>...</td>\n",
       "      <td>...</td>\n",
       "      <td>...</td>\n",
       "      <td>...</td>\n",
       "      <td>...</td>\n",
       "      <td>...</td>\n",
       "      <td>...</td>\n",
       "      <td>...</td>\n",
       "    </tr>\n",
       "    <tr>\n",
       "      <th>722</th>\n",
       "      <td>2021-10-13</td>\n",
       "      <td>2021-10-17</td>\n",
       "      <td>[문화관광축제] 추억의 충장축제 2021</td>\n",
       "      <td>광주광역시 동구 서남로 1</td>\n",
       "      <td>062-608-2421~4</td>\n",
       "      <td>35.1454973445</td>\n",
       "      <td>126.9231294053</td>\n",
       "      <td>2021</td>\n",
       "      <td>10</td>\n",
       "    </tr>\n",
       "    <tr>\n",
       "      <th>723</th>\n",
       "      <td>2021-05-23</td>\n",
       "      <td>2021-11-30</td>\n",
       "      <td>[문화관광축제] 춘천마임축제</td>\n",
       "      <td>강원도 춘천시 전역</td>\n",
       "      <td>033-242-0585</td>\n",
       "      <td>37.8766011603</td>\n",
       "      <td>127.7178558012</td>\n",
       "      <td>2021</td>\n",
       "      <td>5</td>\n",
       "    </tr>\n",
       "    <tr>\n",
       "      <th>724</th>\n",
       "      <td>2021-08-12</td>\n",
       "      <td>2021-08-21</td>\n",
       "      <td>[문화관광축제] 통영한산대첩축제</td>\n",
       "      <td>경상남도 통영시 통영해안로 328</td>\n",
       "      <td>055-644-5222</td>\n",
       "      <td>34.8438295639</td>\n",
       "      <td>128.4241721001</td>\n",
       "      <td>2021</td>\n",
       "      <td>8</td>\n",
       "    </tr>\n",
       "    <tr>\n",
       "      <th>725</th>\n",
       "      <td>2021-06-11</td>\n",
       "      <td>2021-06-13</td>\n",
       "      <td>[문화관광축제] 한산모시문화제</td>\n",
       "      <td>충청남도 서천군 한산면 충절로 1089</td>\n",
       "      <td>041-950-4256</td>\n",
       "      <td>36.0799251950</td>\n",
       "      <td>126.7987054614</td>\n",
       "      <td>2021</td>\n",
       "      <td>6</td>\n",
       "    </tr>\n",
       "    <tr>\n",
       "      <th>726</th>\n",
       "      <td>2020-10-15</td>\n",
       "      <td>2020-10-30</td>\n",
       "      <td>[문화관광축제] 횡성한우축제 2020</td>\n",
       "      <td>온라인개최</td>\n",
       "      <td>1522-1099</td>\n",
       "      <td>37.4981056564</td>\n",
       "      <td>127.9871481157</td>\n",
       "      <td>2020</td>\n",
       "      <td>10</td>\n",
       "    </tr>\n",
       "  </tbody>\n",
       "</table>\n",
       "<p>727 rows × 9 columns</p>\n",
       "</div>"
      ],
      "text/plain": [
       "         시작 날짜      종료 날짜                     축제명  \\\n",
       "0   2021-03-06 2021-10-30      가무악극으로 만나는 토요 상설공연   \n",
       "1   2021-03-20 2021-06-30           가산수피아 '봄의 정원'   \n",
       "2   2021-01-16 2021-12-31          가족끼리 빙어체험 2021   \n",
       "3   2021-03-01 2021-06-06              가족끼리딸기 캠피닉   \n",
       "4   2021-02-25 2021-02-28       가족오페라 <마술피리> 2021   \n",
       "..         ...        ...                     ...   \n",
       "722 2021-10-13 2021-10-17  [문화관광축제] 추억의 충장축제 2021   \n",
       "723 2021-05-23 2021-11-30         [문화관광축제] 춘천마임축제   \n",
       "724 2021-08-12 2021-08-21       [문화관광축제] 통영한산대첩축제   \n",
       "725 2021-06-11 2021-06-13        [문화관광축제] 한산모시문화제   \n",
       "726 2020-10-15 2020-10-30    [문화관광축제] 횡성한우축제 2020   \n",
       "\n",
       "                                   주소            전화번호             위도  \\\n",
       "0               충청남도 부여군 규암면 백제문로 388    041-832-5765  36.3048428766   \n",
       "1             경상북도 칠곡군 가산면 학하들안2길 105    054-971-9861  36.0861545517   \n",
       "2    경기도 양평군 단월면 곱다니길 55-2 수미마을 방문객센터    031-775-5205  37.5145504080   \n",
       "3               경기도 양평군 단월면 곱다니길 55-2    031-775-5205  37.5144948588   \n",
       "4                     대구광역시 북구 호암로 15    053-666-6170  35.8835072863   \n",
       "..                                ...             ...            ...   \n",
       "722                    광주광역시 동구 서남로 1  062-608-2421~4  35.1454973445   \n",
       "723                        강원도 춘천시 전역    033-242-0585  37.8766011603   \n",
       "724                경상남도 통영시 통영해안로 328    055-644-5222  34.8438295639   \n",
       "725             충청남도 서천군 한산면 충절로 1089    041-950-4256  36.0799251950   \n",
       "726                             온라인개최       1522-1099  37.4981056564   \n",
       "\n",
       "                 경도   시작년  시작월  \n",
       "0    126.8997016069  2021    3  \n",
       "1    128.4850691574  2021    3  \n",
       "2    127.6574135888  2021    1  \n",
       "3    127.6573663730  2021    3  \n",
       "4    128.5922570230  2021    2  \n",
       "..              ...   ...  ...  \n",
       "722  126.9231294053  2021   10  \n",
       "723  127.7178558012  2021    5  \n",
       "724  128.4241721001  2021    8  \n",
       "725  126.7987054614  2021    6  \n",
       "726  127.9871481157  2020   10  \n",
       "\n",
       "[727 rows x 9 columns]"
      ]
     },
     "execution_count": 31,
     "metadata": {},
     "output_type": "execute_result"
    }
   ],
   "source": []
  },
  {
   "cell_type": "code",
   "execution_count": 124,
   "id": "f587d29c",
   "metadata": {},
   "outputs": [
    {
     "data": {
      "text/html": [
       "<div>\n",
       "<style scoped>\n",
       "    .dataframe tbody tr th:only-of-type {\n",
       "        vertical-align: middle;\n",
       "    }\n",
       "\n",
       "    .dataframe tbody tr th {\n",
       "        vertical-align: top;\n",
       "    }\n",
       "\n",
       "    .dataframe thead th {\n",
       "        text-align: right;\n",
       "    }\n",
       "</style>\n",
       "<table border=\"1\" class=\"dataframe\">\n",
       "  <thead>\n",
       "    <tr style=\"text-align: right;\">\n",
       "      <th></th>\n",
       "      <th></th>\n",
       "      <th>축제명</th>\n",
       "    </tr>\n",
       "    <tr>\n",
       "      <th>시작년</th>\n",
       "      <th>지역</th>\n",
       "      <th></th>\n",
       "    </tr>\n",
       "  </thead>\n",
       "  <tbody>\n",
       "    <tr>\n",
       "      <th rowspan=\"5\" valign=\"top\">2019</th>\n",
       "      <th>강원도</th>\n",
       "      <td>2</td>\n",
       "    </tr>\n",
       "    <tr>\n",
       "      <th>경기도</th>\n",
       "      <td>2</td>\n",
       "    </tr>\n",
       "    <tr>\n",
       "      <th>서울특별시</th>\n",
       "      <td>1</td>\n",
       "    </tr>\n",
       "    <tr>\n",
       "      <th>온라인개최</th>\n",
       "      <td>1</td>\n",
       "    </tr>\n",
       "    <tr>\n",
       "      <th>제주특별자치도</th>\n",
       "      <td>2</td>\n",
       "    </tr>\n",
       "    <tr>\n",
       "      <th rowspan=\"27\" valign=\"top\">2020</th>\n",
       "      <th>강원도</th>\n",
       "      <td>20</td>\n",
       "    </tr>\n",
       "    <tr>\n",
       "      <th>경기도</th>\n",
       "      <td>43</td>\n",
       "    </tr>\n",
       "    <tr>\n",
       "      <th>경북</th>\n",
       "      <td>4</td>\n",
       "    </tr>\n",
       "    <tr>\n",
       "      <th>경상남도</th>\n",
       "      <td>16</td>\n",
       "    </tr>\n",
       "    <tr>\n",
       "      <th>경상북도</th>\n",
       "      <td>11</td>\n",
       "    </tr>\n",
       "    <tr>\n",
       "      <th>광주광역시</th>\n",
       "      <td>3</td>\n",
       "    </tr>\n",
       "    <tr>\n",
       "      <th>대구</th>\n",
       "      <td>2</td>\n",
       "    </tr>\n",
       "    <tr>\n",
       "      <th>대구광역시</th>\n",
       "      <td>14</td>\n",
       "    </tr>\n",
       "    <tr>\n",
       "      <th>대전광역시</th>\n",
       "      <td>4</td>\n",
       "    </tr>\n",
       "    <tr>\n",
       "      <th>백종원</th>\n",
       "      <td>1</td>\n",
       "    </tr>\n",
       "    <tr>\n",
       "      <th>부산</th>\n",
       "      <td>1</td>\n",
       "    </tr>\n",
       "    <tr>\n",
       "      <th>부산광역시</th>\n",
       "      <td>14</td>\n",
       "    </tr>\n",
       "    <tr>\n",
       "      <th>비대면개최</th>\n",
       "      <td>1</td>\n",
       "    </tr>\n",
       "    <tr>\n",
       "      <th>서울</th>\n",
       "      <td>1</td>\n",
       "    </tr>\n",
       "    <tr>\n",
       "      <th>서울시</th>\n",
       "      <td>1</td>\n",
       "    </tr>\n",
       "    <tr>\n",
       "      <th>서울특별시</th>\n",
       "      <td>54</td>\n",
       "    </tr>\n",
       "    <tr>\n",
       "      <th>세종</th>\n",
       "      <td>1</td>\n",
       "    </tr>\n",
       "    <tr>\n",
       "      <th>온라인</th>\n",
       "      <td>1</td>\n",
       "    </tr>\n",
       "    <tr>\n",
       "      <th>온라인개최</th>\n",
       "      <td>110</td>\n",
       "    </tr>\n",
       "    <tr>\n",
       "      <th>울산</th>\n",
       "      <td>1</td>\n",
       "    </tr>\n",
       "    <tr>\n",
       "      <th>울산광역시</th>\n",
       "      <td>6</td>\n",
       "    </tr>\n",
       "    <tr>\n",
       "      <th>인천광역시</th>\n",
       "      <td>5</td>\n",
       "    </tr>\n",
       "    <tr>\n",
       "      <th>전라남도</th>\n",
       "      <td>10</td>\n",
       "    </tr>\n",
       "    <tr>\n",
       "      <th>전라북도</th>\n",
       "      <td>11</td>\n",
       "    </tr>\n",
       "    <tr>\n",
       "      <th>제주특별자치도</th>\n",
       "      <td>9</td>\n",
       "    </tr>\n",
       "    <tr>\n",
       "      <th>충청남도</th>\n",
       "      <td>11</td>\n",
       "    </tr>\n",
       "    <tr>\n",
       "      <th>충청북도</th>\n",
       "      <td>7</td>\n",
       "    </tr>\n",
       "    <tr>\n",
       "      <th rowspan=\"26\" valign=\"top\">2021</th>\n",
       "      <th>강원</th>\n",
       "      <td>2</td>\n",
       "    </tr>\n",
       "    <tr>\n",
       "      <th>강원도</th>\n",
       "      <td>29</td>\n",
       "    </tr>\n",
       "    <tr>\n",
       "      <th>경기도</th>\n",
       "      <td>49</td>\n",
       "    </tr>\n",
       "    <tr>\n",
       "      <th>경남</th>\n",
       "      <td>1</td>\n",
       "    </tr>\n",
       "    <tr>\n",
       "      <th>경상남도</th>\n",
       "      <td>15</td>\n",
       "    </tr>\n",
       "    <tr>\n",
       "      <th>경상북도</th>\n",
       "      <td>10</td>\n",
       "    </tr>\n",
       "    <tr>\n",
       "      <th>광주광역시</th>\n",
       "      <td>10</td>\n",
       "    </tr>\n",
       "    <tr>\n",
       "      <th>대구광역시</th>\n",
       "      <td>19</td>\n",
       "    </tr>\n",
       "    <tr>\n",
       "      <th>부산</th>\n",
       "      <td>1</td>\n",
       "    </tr>\n",
       "    <tr>\n",
       "      <th>부산광역시</th>\n",
       "      <td>22</td>\n",
       "    </tr>\n",
       "    <tr>\n",
       "      <th>비대면개최</th>\n",
       "      <td>1</td>\n",
       "    </tr>\n",
       "    <tr>\n",
       "      <th>서울</th>\n",
       "      <td>1</td>\n",
       "    </tr>\n",
       "    <tr>\n",
       "      <th>서울시</th>\n",
       "      <td>1</td>\n",
       "    </tr>\n",
       "    <tr>\n",
       "      <th>서울특별시</th>\n",
       "      <td>78</td>\n",
       "    </tr>\n",
       "    <tr>\n",
       "      <th>세종특별자치시</th>\n",
       "      <td>1</td>\n",
       "    </tr>\n",
       "    <tr>\n",
       "      <th>온라인개최</th>\n",
       "      <td>34</td>\n",
       "    </tr>\n",
       "    <tr>\n",
       "      <th>울산광역시</th>\n",
       "      <td>4</td>\n",
       "    </tr>\n",
       "    <tr>\n",
       "      <th>인천광역시</th>\n",
       "      <td>5</td>\n",
       "    </tr>\n",
       "    <tr>\n",
       "      <th>전남</th>\n",
       "      <td>1</td>\n",
       "    </tr>\n",
       "    <tr>\n",
       "      <th>전라남도</th>\n",
       "      <td>4</td>\n",
       "    </tr>\n",
       "    <tr>\n",
       "      <th>전라북도</th>\n",
       "      <td>24</td>\n",
       "    </tr>\n",
       "    <tr>\n",
       "      <th>제주</th>\n",
       "      <td>1</td>\n",
       "    </tr>\n",
       "    <tr>\n",
       "      <th>제주특별자치도</th>\n",
       "      <td>21</td>\n",
       "    </tr>\n",
       "    <tr>\n",
       "      <th>충북</th>\n",
       "      <td>1</td>\n",
       "    </tr>\n",
       "    <tr>\n",
       "      <th>충청남도</th>\n",
       "      <td>18</td>\n",
       "    </tr>\n",
       "    <tr>\n",
       "      <th>충청북도</th>\n",
       "      <td>4</td>\n",
       "    </tr>\n",
       "  </tbody>\n",
       "</table>\n",
       "</div>"
      ],
      "text/plain": [
       "              축제명\n",
       "시작년  지역          \n",
       "2019 강원도        2\n",
       "     경기도        2\n",
       "     서울특별시      1\n",
       "     온라인개최      1\n",
       "     제주특별자치도    2\n",
       "2020 강원도       20\n",
       "     경기도       43\n",
       "     경북         4\n",
       "     경상남도      16\n",
       "     경상북도      11\n",
       "     광주광역시      3\n",
       "     대구         2\n",
       "     대구광역시     14\n",
       "     대전광역시      4\n",
       "     백종원        1\n",
       "     부산         1\n",
       "     부산광역시     14\n",
       "     비대면개최      1\n",
       "     서울         1\n",
       "     서울시        1\n",
       "     서울특별시     54\n",
       "     세종         1\n",
       "     온라인        1\n",
       "     온라인개최    110\n",
       "     울산         1\n",
       "     울산광역시      6\n",
       "     인천광역시      5\n",
       "     전라남도      10\n",
       "     전라북도      11\n",
       "     제주특별자치도    9\n",
       "     충청남도      11\n",
       "     충청북도       7\n",
       "2021 강원         2\n",
       "     강원도       29\n",
       "     경기도       49\n",
       "     경남         1\n",
       "     경상남도      15\n",
       "     경상북도      10\n",
       "     광주광역시     10\n",
       "     대구광역시     19\n",
       "     부산         1\n",
       "     부산광역시     22\n",
       "     비대면개최      1\n",
       "     서울         1\n",
       "     서울시        1\n",
       "     서울특별시     78\n",
       "     세종특별자치시    1\n",
       "     온라인개최     34\n",
       "     울산광역시      4\n",
       "     인천광역시      5\n",
       "     전남         1\n",
       "     전라남도       4\n",
       "     전라북도      24\n",
       "     제주         1\n",
       "     제주특별자치도   21\n",
       "     충북         1\n",
       "     충청남도      18\n",
       "     충청북도       4"
      ]
     },
     "execution_count": 124,
     "metadata": {},
     "output_type": "execute_result"
    }
   ],
   "source": [
    "locLst=[]\n",
    "\n",
    "for i in df1['주소']:\n",
    "    a=i.split(\" \")[0] \n",
    "    locLst.append(a)\n",
    "\n",
    "\n",
    "df1['지역']=locLst\n",
    "pd.DataFrame(df1.groupby(['시작년','지역'])['축제명'].count())\n",
    "\n",
    "\n",
    "\n",
    "\n",
    "\n",
    "    "
   ]
  },
  {
   "cell_type": "code",
   "execution_count": 253,
   "id": "34cd64ff",
   "metadata": {},
   "outputs": [
    {
     "name": "stdout",
     "output_type": "stream",
     "text": [
      "Collecting folium\n",
      "  Downloading folium-0.12.1-py2.py3-none-any.whl (94 kB)\n",
      "Requirement already satisfied: requests in c:\\users\\user1\\miniconda3\\envs\\multi\\lib\\site-packages (from folium) (2.25.1)\n",
      "Requirement already satisfied: jinja2>=2.9 in c:\\users\\user1\\miniconda3\\envs\\multi\\lib\\site-packages (from folium) (3.0.0)\n",
      "Collecting branca>=0.3.0\n",
      "  Downloading branca-0.4.2-py3-none-any.whl (24 kB)\n",
      "Requirement already satisfied: numpy in c:\\users\\user1\\miniconda3\\envs\\multi\\lib\\site-packages (from folium) (1.20.3)\n",
      "Requirement already satisfied: MarkupSafe>=2.0.0rc2 in c:\\users\\user1\\miniconda3\\envs\\multi\\lib\\site-packages (from jinja2>=2.9->folium) (2.0.1)\n",
      "Requirement already satisfied: certifi>=2017.4.17 in c:\\users\\user1\\miniconda3\\envs\\multi\\lib\\site-packages (from requests->folium) (2021.5.30)\n",
      "Requirement already satisfied: idna<3,>=2.5 in c:\\users\\user1\\miniconda3\\envs\\multi\\lib\\site-packages (from requests->folium) (2.10)\n",
      "Requirement already satisfied: chardet<5,>=3.0.2 in c:\\users\\user1\\miniconda3\\envs\\multi\\lib\\site-packages (from requests->folium) (4.0.0)\n",
      "Requirement already satisfied: urllib3<1.27,>=1.21.1 in c:\\users\\user1\\miniconda3\\envs\\multi\\lib\\site-packages (from requests->folium) (1.26.6)\n",
      "Installing collected packages: branca, folium\n",
      "Successfully installed branca-0.4.2 folium-0.12.1\n"
     ]
    }
   ],
   "source": [
    "#!pip install folium"
   ]
  },
  {
   "cell_type": "markdown",
   "id": "378713aa",
   "metadata": {},
   "source": [
    "### 지도에 축제 위치 출력하기\n",
    "- folium 모듈"
   ]
  },
  {
   "cell_type": "code",
   "execution_count": 254,
   "id": "a64c4a00",
   "metadata": {},
   "outputs": [],
   "source": [
    "import folium"
   ]
  },
  {
   "cell_type": "code",
   "execution_count": 259,
   "id": "459aff7e",
   "metadata": {},
   "outputs": [],
   "source": [
    "umap=folium.Map(location=[37.43316742171981, 127.15627172697948], zoom_start=15) #기본 맵 생성, zoom_start=15,사이즈 확대/축소)\n",
    "### 생성된 맵에 Marker(위치기호)를 추가한다\n",
    "folium.Marker(location=[37.43316742171981, 127.15627172697948], icon=folium.Icon(color=\"red\"),\n",
    "             popup='집').add_to(umap)\n",
    "umap.save('c:/pydata/집.html')"
   ]
  },
  {
   "cell_type": "code",
   "execution_count": 261,
   "id": "0cb0b6af",
   "metadata": {},
   "outputs": [],
   "source": [
    "df2=df1[(df1['위도']!=0)&(df1['시작년']==2021)]\n",
    "\n",
    "umap=folium.Map(location=[37.43316742171981, 127.15627172697948], zoom_start=15)\n",
    "\n",
    "for inx in df2.index:\n",
    "    folium.Marker(location=[df2.loc[inx,'위도'],df2.loc[inx,'경도']], icon=folium.Icon(color=\"red\"),\n",
    "             popup=df2.loc[inx,'축제명']).add_to(umap)\n",
    "    \n",
    "umap.save('c:/pydata/2021_축제_정보.html')"
   ]
  },
  {
   "cell_type": "code",
   "execution_count": 271,
   "id": "a920af2b",
   "metadata": {},
   "outputs": [
    {
     "data": {
      "text/html": [
       "<div style=\"width:100%;\"><div style=\"position:relative;width:100%;height:0;padding-bottom:60%;\"><span style=\"color:#565656\">Make this Notebook Trusted to load map: File -> Trust Notebook</span><iframe src=\"about:blank\" style=\"position:absolute;width:100%;height:100%;left:0;top:0;border:none !important;\" data-html=%3C%21DOCTYPE%20html%3E%0A%3Chead%3E%20%20%20%20%0A%20%20%20%20%3Cmeta%20http-equiv%3D%22content-type%22%20content%3D%22text/html%3B%20charset%3DUTF-8%22%20/%3E%0A%20%20%20%20%0A%20%20%20%20%20%20%20%20%3Cscript%3E%0A%20%20%20%20%20%20%20%20%20%20%20%20L_NO_TOUCH%20%3D%20false%3B%0A%20%20%20%20%20%20%20%20%20%20%20%20L_DISABLE_3D%20%3D%20false%3B%0A%20%20%20%20%20%20%20%20%3C/script%3E%0A%20%20%20%20%0A%20%20%20%20%3Cstyle%3Ehtml%2C%20body%20%7Bwidth%3A%20100%25%3Bheight%3A%20100%25%3Bmargin%3A%200%3Bpadding%3A%200%3B%7D%3C/style%3E%0A%20%20%20%20%3Cstyle%3E%23map%20%7Bposition%3Aabsolute%3Btop%3A0%3Bbottom%3A0%3Bright%3A0%3Bleft%3A0%3B%7D%3C/style%3E%0A%20%20%20%20%3Cscript%20src%3D%22https%3A//cdn.jsdelivr.net/npm/leaflet%401.6.0/dist/leaflet.js%22%3E%3C/script%3E%0A%20%20%20%20%3Cscript%20src%3D%22https%3A//code.jquery.com/jquery-1.12.4.min.js%22%3E%3C/script%3E%0A%20%20%20%20%3Cscript%20src%3D%22https%3A//maxcdn.bootstrapcdn.com/bootstrap/3.2.0/js/bootstrap.min.js%22%3E%3C/script%3E%0A%20%20%20%20%3Cscript%20src%3D%22https%3A//cdnjs.cloudflare.com/ajax/libs/Leaflet.awesome-markers/2.0.2/leaflet.awesome-markers.js%22%3E%3C/script%3E%0A%20%20%20%20%3Clink%20rel%3D%22stylesheet%22%20href%3D%22https%3A//cdn.jsdelivr.net/npm/leaflet%401.6.0/dist/leaflet.css%22/%3E%0A%20%20%20%20%3Clink%20rel%3D%22stylesheet%22%20href%3D%22https%3A//maxcdn.bootstrapcdn.com/bootstrap/3.2.0/css/bootstrap.min.css%22/%3E%0A%20%20%20%20%3Clink%20rel%3D%22stylesheet%22%20href%3D%22https%3A//maxcdn.bootstrapcdn.com/bootstrap/3.2.0/css/bootstrap-theme.min.css%22/%3E%0A%20%20%20%20%3Clink%20rel%3D%22stylesheet%22%20href%3D%22https%3A//maxcdn.bootstrapcdn.com/font-awesome/4.6.3/css/font-awesome.min.css%22/%3E%0A%20%20%20%20%3Clink%20rel%3D%22stylesheet%22%20href%3D%22https%3A//cdnjs.cloudflare.com/ajax/libs/Leaflet.awesome-markers/2.0.2/leaflet.awesome-markers.css%22/%3E%0A%20%20%20%20%3Clink%20rel%3D%22stylesheet%22%20href%3D%22https%3A//cdn.jsdelivr.net/gh/python-visualization/folium/folium/templates/leaflet.awesome.rotate.min.css%22/%3E%0A%20%20%20%20%0A%20%20%20%20%20%20%20%20%20%20%20%20%3Cmeta%20name%3D%22viewport%22%20content%3D%22width%3Ddevice-width%2C%0A%20%20%20%20%20%20%20%20%20%20%20%20%20%20%20%20initial-scale%3D1.0%2C%20maximum-scale%3D1.0%2C%20user-scalable%3Dno%22%20/%3E%0A%20%20%20%20%20%20%20%20%20%20%20%20%3Cstyle%3E%0A%20%20%20%20%20%20%20%20%20%20%20%20%20%20%20%20%23map_47862bd9284a46668b47d5dd2b74517b%20%7B%0A%20%20%20%20%20%20%20%20%20%20%20%20%20%20%20%20%20%20%20%20position%3A%20relative%3B%0A%20%20%20%20%20%20%20%20%20%20%20%20%20%20%20%20%20%20%20%20width%3A%20100.0%25%3B%0A%20%20%20%20%20%20%20%20%20%20%20%20%20%20%20%20%20%20%20%20height%3A%20100.0%25%3B%0A%20%20%20%20%20%20%20%20%20%20%20%20%20%20%20%20%20%20%20%20left%3A%200.0%25%3B%0A%20%20%20%20%20%20%20%20%20%20%20%20%20%20%20%20%20%20%20%20top%3A%200.0%25%3B%0A%20%20%20%20%20%20%20%20%20%20%20%20%20%20%20%20%7D%0A%20%20%20%20%20%20%20%20%20%20%20%20%3C/style%3E%0A%20%20%20%20%20%20%20%20%0A%3C/head%3E%0A%3Cbody%3E%20%20%20%20%0A%20%20%20%20%0A%20%20%20%20%20%20%20%20%20%20%20%20%3Cdiv%20class%3D%22folium-map%22%20id%3D%22map_47862bd9284a46668b47d5dd2b74517b%22%20%3E%3C/div%3E%0A%20%20%20%20%20%20%20%20%0A%3C/body%3E%0A%3Cscript%3E%20%20%20%20%0A%20%20%20%20%0A%20%20%20%20%20%20%20%20%20%20%20%20var%20map_47862bd9284a46668b47d5dd2b74517b%20%3D%20L.map%28%0A%20%20%20%20%20%20%20%20%20%20%20%20%20%20%20%20%22map_47862bd9284a46668b47d5dd2b74517b%22%2C%0A%20%20%20%20%20%20%20%20%20%20%20%20%20%20%20%20%7B%0A%20%20%20%20%20%20%20%20%20%20%20%20%20%20%20%20%20%20%20%20center%3A%20%5B37.43316742171981%2C%20127.15627172697948%5D%2C%0A%20%20%20%20%20%20%20%20%20%20%20%20%20%20%20%20%20%20%20%20crs%3A%20L.CRS.EPSG3857%2C%0A%20%20%20%20%20%20%20%20%20%20%20%20%20%20%20%20%20%20%20%20zoom%3A%2011%2C%0A%20%20%20%20%20%20%20%20%20%20%20%20%20%20%20%20%20%20%20%20zoomControl%3A%20true%2C%0A%20%20%20%20%20%20%20%20%20%20%20%20%20%20%20%20%20%20%20%20preferCanvas%3A%20false%2C%0A%20%20%20%20%20%20%20%20%20%20%20%20%20%20%20%20%7D%0A%20%20%20%20%20%20%20%20%20%20%20%20%29%3B%0A%0A%20%20%20%20%20%20%20%20%20%20%20%20%0A%0A%20%20%20%20%20%20%20%20%0A%20%20%20%20%0A%20%20%20%20%20%20%20%20%20%20%20%20var%20tile_layer_df6f651155624e7d89253c79bb88ec4c%20%3D%20L.tileLayer%28%0A%20%20%20%20%20%20%20%20%20%20%20%20%20%20%20%20%22https%3A//%7Bs%7D.tile.openstreetmap.org/%7Bz%7D/%7Bx%7D/%7By%7D.png%22%2C%0A%20%20%20%20%20%20%20%20%20%20%20%20%20%20%20%20%7B%22attribution%22%3A%20%22Data%20by%20%5Cu0026copy%3B%20%5Cu003ca%20href%3D%5C%22http%3A//openstreetmap.org%5C%22%5Cu003eOpenStreetMap%5Cu003c/a%5Cu003e%2C%20under%20%5Cu003ca%20href%3D%5C%22http%3A//www.openstreetmap.org/copyright%5C%22%5Cu003eODbL%5Cu003c/a%5Cu003e.%22%2C%20%22detectRetina%22%3A%20false%2C%20%22maxNativeZoom%22%3A%2018%2C%20%22maxZoom%22%3A%2018%2C%20%22minZoom%22%3A%200%2C%20%22noWrap%22%3A%20false%2C%20%22opacity%22%3A%201%2C%20%22subdomains%22%3A%20%22abc%22%2C%20%22tms%22%3A%20false%7D%0A%20%20%20%20%20%20%20%20%20%20%20%20%29.addTo%28map_47862bd9284a46668b47d5dd2b74517b%29%3B%0A%20%20%20%20%20%20%20%20%0A%20%20%20%20%0A%20%20%20%20%20%20%20%20%20%20%20%20var%20circle_marker_ecba0795387745619a5f3b249bc10de3%20%3D%20L.circleMarker%28%0A%20%20%20%20%20%20%20%20%20%20%20%20%20%20%20%20%5B37.43316742171981%2C%20127.15627172697948%5D%2C%0A%20%20%20%20%20%20%20%20%20%20%20%20%20%20%20%20%7B%22bubblingMouseEvents%22%3A%20true%2C%20%22color%22%3A%20%22red%22%2C%20%22dashArray%22%3A%20null%2C%20%22dashOffset%22%3A%20null%2C%20%22fill%22%3A%20true%2C%20%22fillColor%22%3A%20%22red%22%2C%20%22fillOpacity%22%3A%200.2%2C%20%22fillRule%22%3A%20%22evenodd%22%2C%20%22lineCap%22%3A%20%22round%22%2C%20%22lineJoin%22%3A%20%22round%22%2C%20%22opacity%22%3A%201.0%2C%20%22radius%22%3A%2010%2C%20%22stroke%22%3A%20true%2C%20%22weight%22%3A%203%7D%0A%20%20%20%20%20%20%20%20%20%20%20%20%29.addTo%28map_47862bd9284a46668b47d5dd2b74517b%29%3B%0A%20%20%20%20%20%20%20%20%0A%20%20%20%20%0A%20%20%20%20%20%20%20%20var%20popup_7d132cdd920e453ba001a3dafeda0608%20%3D%20L.popup%28%7B%22maxWidth%22%3A%20%22100%25%22%7D%29%3B%0A%0A%20%20%20%20%20%20%20%20%0A%20%20%20%20%20%20%20%20%20%20%20%20var%20html_c2cc98febb6f41df9a1b0478f549f73e%20%3D%20%24%28%60%3Cdiv%20id%3D%22html_c2cc98febb6f41df9a1b0478f549f73e%22%20style%3D%22width%3A%20100.0%25%3B%20height%3A%20100.0%25%3B%22%3E%EC%A7%91%3C/div%3E%60%29%5B0%5D%3B%0A%20%20%20%20%20%20%20%20%20%20%20%20popup_7d132cdd920e453ba001a3dafeda0608.setContent%28html_c2cc98febb6f41df9a1b0478f549f73e%29%3B%0A%20%20%20%20%20%20%20%20%0A%0A%20%20%20%20%20%20%20%20circle_marker_ecba0795387745619a5f3b249bc10de3.bindPopup%28popup_7d132cdd920e453ba001a3dafeda0608%29%0A%20%20%20%20%20%20%20%20%3B%0A%0A%20%20%20%20%20%20%20%20%0A%20%20%20%20%0A%3C/script%3E onload=\"this.contentDocument.open();this.contentDocument.write(    decodeURIComponent(this.getAttribute('data-html')));this.contentDocument.close();\" allowfullscreen webkitallowfullscreen mozallowfullscreen></iframe></div></div>"
      ],
      "text/plain": [
       "<folium.folium.Map at 0x1a82c5608b0>"
      ]
     },
     "execution_count": 271,
     "metadata": {},
     "output_type": "execute_result"
    }
   ],
   "source": [
    "umap=folium.Map(location=[37.43316742171981, 127.15627172697948], zoom_start=11)\n",
    "\n",
    "### 지도에 동그라미 표시\n",
    "folium.CircleMarker([37.43316742171981, 127.15627172697948], color=\"red\", fill_color=\"red\", radius=10, popup=\"집\").add_to(umap)\n",
    "\n",
    "umap"
   ]
  },
  {
   "cell_type": "code",
   "execution_count": null,
   "id": "12c97adf",
   "metadata": {},
   "outputs": [],
   "source": []
  },
  {
   "cell_type": "code",
   "execution_count": null,
   "id": "803fb84e",
   "metadata": {},
   "outputs": [],
   "source": []
  },
  {
   "cell_type": "code",
   "execution_count": null,
   "id": "ebbab8f5",
   "metadata": {},
   "outputs": [],
   "source": []
  },
  {
   "cell_type": "code",
   "execution_count": null,
   "id": "fa8de5f5",
   "metadata": {},
   "outputs": [],
   "source": []
  }
 ],
 "metadata": {
  "kernelspec": {
   "display_name": "Python 3",
   "language": "python",
   "name": "python3"
  },
  "language_info": {
   "codemirror_mode": {
    "name": "ipython",
    "version": 3
   },
   "file_extension": ".py",
   "mimetype": "text/x-python",
   "name": "python",
   "nbconvert_exporter": "python",
   "pygments_lexer": "ipython3",
   "version": "3.9.5"
  }
 },
 "nbformat": 4,
 "nbformat_minor": 5
}
