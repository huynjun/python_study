{
 "cells": [
  {
   "cell_type": "code",
   "execution_count": 1,
   "id": "cc82ab73",
   "metadata": {},
   "outputs": [],
   "source": [
    "import requests\n",
    "from bs4 import BeautifulSoup as bs\n",
    "import pandas as pd\n",
    "from tqdm import tqdm"
   ]
  },
  {
   "cell_type": "markdown",
   "id": "bf0dffab",
   "metadata": {},
   "source": [
    "### API 연결 및 데이터 파씽"
   ]
  },
  {
   "cell_type": "code",
   "execution_count": 2,
   "id": "ecaec92b",
   "metadata": {},
   "outputs": [],
   "source": [
    "def url_parser(sDate, eDate, row=10):\n",
    "    ### API 연결 및 데이터 파씽\n",
    "    key=\"VFYXI%2F3A5kIk7QVsO1epAlZSb6ZtCO9N5VC%2FMF3pW6oZ7%2BsFrvH1Y9y0UfmVzTnA0k2FasoNM6t6JsY7%2BEwNEw%3D%3D\"\n",
    "\n",
    "    # 기본 url + 사용자 key\n",
    "    url=\"http://api.visitkorea.or.kr/openapi/service/rest/KorService/searchFestival?serviceKey=\" + key\n",
    "    url=url+\"&MobileOS=ETC&MobileApp=AppTest&arrange=A&listYN=Y\"   # 기본 필수 옵션\n",
    "    url=url+\"&numOfRows=\"+ str(row)   # 한페이지 출력 데이터 개수\n",
    "    url=url+\"&eventStartDate=\"+str(sDate)  # 조회 시작일\n",
    "    url=url+\"&eventEndDate=\"+str(eDate)\n",
    "    #print(url)\n",
    "    xml_soup=requests.get(url)\n",
    "    if xml_soup.status_code != 200:\n",
    "        print(\"API를 연결하지 못하였습니다.\")\n",
    "        exit()\n",
    "        \n",
    "    soup=bs(xml_soup.content, 'html.parser')  # xml_soup.text 변경 가능\n",
    "    \n",
    "    return soup\n"
   ]
  },
  {
   "cell_type": "markdown",
   "id": "e178d2d0",
   "metadata": {},
   "source": [
    "### 파씽한 데이터에서 원하는 데이터 추출 및 DataFrame로 변경"
   ]
  },
  {
   "cell_type": "code",
   "execution_count": 3,
   "id": "c4b43f6e",
   "metadata": {},
   "outputs": [],
   "source": [
    "def tour_info(sDate, eDate, soup):\n",
    "    ### 파씽한 데이터에서 원하는 데이터 추출 및 DataFrame로 변경\n",
    "    row=soup.find('totalcount').text\n",
    "    soup=url_parser(sDate, eDate, row)\n",
    "    \n",
    "    items=soup.find_all('item')\n",
    "    df_list=[]\n",
    "    \n",
    "    for item in items:\n",
    "        staD=item.find('eventstartdate').text      # 축제 시작일\n",
    "        endD=item.find('eventenddate').get_text()  # 축제 종료일\n",
    "        titD=item.find('title').get_text()         # 축제명\n",
    "        try:\n",
    "            addD=item.find('addr1').get_text()         # 주소\n",
    "        except:\n",
    "            addD=\"온라인개최\"\n",
    "        try:\n",
    "            telD=item.find('tel').get_text()           # 전화\n",
    "        except:\n",
    "            telD=\"-\"\n",
    "        try:\n",
    "            lngD=item.find('mapx').text                # 경도\n",
    "            latD=item.find('mapy').get_text()          # 위도\n",
    "        except:\n",
    "            lngD=0\n",
    "            latD=0\n",
    "        \n",
    "        df_list.append({\"시작일\":staD, \"종료일\":endD, \"축제명\":titD,\n",
    "                        \"주소\":addD, \"연락처\":telD, '위도':latD, '경도':lngD})\n",
    "        \n",
    "    df1=pd.DataFrame(df_list)\n",
    "    \n",
    "    return df1"
   ]
  },
  {
   "cell_type": "markdown",
   "id": "ce32bbd5",
   "metadata": {},
   "source": [
    "### 코드 실행"
   ]
  },
  {
   "cell_type": "code",
   "execution_count": null,
   "id": "90c2a9c9",
   "metadata": {},
   "outputs": [],
   "source": [
    "if __name__==\"__main__\":\n",
    "    sDate=input(\"조회 시작일:(예:20200101):\")\n",
    "    eDate=input(\"조회 종료일:(예:20201231):\")\n",
    "\n",
    "    soup=url_parser(sDate, eDate)\n",
    "    df1=tour_info(sDate, eDate, soup)\n",
    "\n",
    "    display(df1) #print(df1)"
   ]
  },
  {
   "cell_type": "code",
   "execution_count": null,
   "id": "7de9106b",
   "metadata": {},
   "outputs": [],
   "source": []
  }
 ],
 "metadata": {
  "kernelspec": {
   "display_name": "Python 3",
   "language": "python",
   "name": "python3"
  },
  "language_info": {
   "codemirror_mode": {
    "name": "ipython",
    "version": 3
   },
   "file_extension": ".py",
   "mimetype": "text/x-python",
   "name": "python",
   "nbconvert_exporter": "python",
   "pygments_lexer": "ipython3",
   "version": "3.9.5"
  }
 },
 "nbformat": 4,
 "nbformat_minor": 5
}
