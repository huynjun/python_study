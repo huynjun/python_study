{
 "cells": [
  {
   "cell_type": "code",
   "execution_count": 43,
   "id": "4898aa37",
   "metadata": {},
   "outputs": [
    {
     "name": "stdout",
     "output_type": "stream",
     "text": [
      "검색 이미지 검색어를 입력하세요.: 용\n"
     ]
    },
    {
     "name": "stderr",
     "output_type": "stream",
     "text": [
      "링크 작업: 100%|█████████████████████████████████████████████████████████████████████████████| 484/484 [00:00<?, ?it/s]\n"
     ]
    },
    {
     "name": "stdout",
     "output_type": "stream",
     "text": [
      "중복 제거전 사진수: 484\n",
      "중복 제거후 사진수 91\n"
     ]
    },
    {
     "name": "stderr",
     "output_type": "stream",
     "text": [
      "100%|██████████████████████████████████████████████████████████████████████████████████| 91/91 [00:08<00:00, 11.35it/s]\n"
     ]
    },
    {
     "name": "stdout",
     "output_type": "stream",
     "text": [
      "검색 이미지 저장 완료\n"
     ]
    }
   ],
   "source": [
    "from selenium import webdriver\n",
    "from bs4 import BeautifulSoup as bs\n",
    "import urllib.request\n",
    "import os\n",
    "from tqdm import tqdm\n",
    "import time\n",
    "\n",
    "keyword = input('검색 이미지 검색어를 입력하세요.: ')\n",
    "\n",
    "url = 'https://search.naver.com/search.naver?where=image&sm=tab_jum&query=' + keyword\n",
    "\n",
    "driver = webdriver.Chrome('c:/pydata/chromedriver.exe')\n",
    "driver.get(url)\n",
    "time.sleep(2)\n",
    "\n",
    "img_url_list = []\n",
    "\n",
    "for i in range(5):\n",
    "    driver.execute_script('window.scrollTo(0, document.body.scrollHeight);')\n",
    "    time.sleep(2)\n",
    "html_source=driver.page_source\n",
    "soup=bs(html_source, 'html.parser')\n",
    "img_soup=soup.select('img._image._listImage')\n",
    "img_list=[]\n",
    "\n",
    "for img in tqdm(img_soup, desc=\"링크 작업\"):\n",
    "        img_list.append(img['src'])\n",
    "    \n",
    "fDir = 'c:/pydata/image/'\n",
    "fName = os.listdir(fDir)\n",
    "## 중복데이터 제거\n",
    "print(\"중복 제거전 사진수:\", len(img_list))\n",
    "img_list=set(img_list)              #중복 제거\n",
    "print('중복 제거후 사진수',  len(img_list))\n",
    "### 저장할 폴더존재 여부 확인\n",
    "fName_dir = keyword\n",
    "cnt = 0\n",
    "while True:\n",
    "    if fName_dir not in fName:\n",
    "        os.makedirs(fDir + fName_dir)\n",
    "        break\n",
    "    cnt += 1\n",
    "    fName_dir = keyword + str(cnt)\n",
    "cnt = 0\n",
    "### 검색 이미지 저장\n",
    "for img in tqdm(img_list):\n",
    "    sfdir = fDir + fName_dir + '/' + keyword + str(cnt) + '.jpg'  # 저장 경로와 파일명 설정\n",
    "    urllib.request.urlretrieve(img, sfdir)  # 이미지 저장하기\n",
    "    cnt += 1\n",
    "\n",
    "driver.close()\n",
    "print('검색 이미지 저장 완료')"
   ]
  },
  {
   "cell_type": "code",
   "execution_count": 5,
   "id": "d2d9f8e8",
   "metadata": {},
   "outputs": [],
   "source": [
    "\n",
    "\n"
   ]
  },
  {
   "cell_type": "code",
   "execution_count": null,
   "id": "2103299c",
   "metadata": {},
   "outputs": [],
   "source": []
  },
  {
   "cell_type": "code",
   "execution_count": null,
   "id": "94b9fc08",
   "metadata": {},
   "outputs": [],
   "source": []
  },
  {
   "cell_type": "code",
   "execution_count": null,
   "id": "dd035834",
   "metadata": {},
   "outputs": [],
   "source": []
  },
  {
   "cell_type": "code",
   "execution_count": null,
   "id": "d36932c3",
   "metadata": {},
   "outputs": [],
   "source": []
  },
  {
   "cell_type": "code",
   "execution_count": null,
   "id": "466ca96d",
   "metadata": {},
   "outputs": [],
   "source": []
  },
  {
   "cell_type": "code",
   "execution_count": null,
   "id": "4a75360e",
   "metadata": {},
   "outputs": [],
   "source": []
  }
 ],
 "metadata": {
  "kernelspec": {
   "display_name": "Python 3",
   "language": "python",
   "name": "python3"
  },
  "language_info": {
   "codemirror_mode": {
    "name": "ipython",
    "version": 3
   },
   "file_extension": ".py",
   "mimetype": "text/x-python",
   "name": "python",
   "nbconvert_exporter": "python",
   "pygments_lexer": "ipython3",
   "version": "3.9.5"
  }
 },
 "nbformat": 4,
 "nbformat_minor": 5
}
