{
 "cells": [
  {
   "cell_type": "code",
   "execution_count": 6,
   "id": "e751419a",
   "metadata": {},
   "outputs": [],
   "source": [
    "from selenium import webdriver\n",
    "from bs4 import BeautifulSoup as bs\n",
    "import urllib.request\n",
    "import os\n",
    "from tqdm import tqdm\n",
    "import time"
   ]
  },
  {
   "cell_type": "code",
   "execution_count": 19,
   "id": "e222e14d",
   "metadata": {},
   "outputs": [
    {
     "name": "stdout",
     "output_type": "stream",
     "text": [
      "검색 이미지 검색어를 입력하세요.: 강아지\n"
     ]
    }
   ],
   "source": [
    "keyword=input('검색 이미지 검색어를 입력하세요.: ')\n",
    "\n",
    "url='https://www.google.com/search?q='+keyword\n",
    "url=url+'&source=lnms&tbm=isch&sa=X&ved=2ahUKEwjWzf6z6ebxAhUAyosBHeqnDHsQ_AUoAXoECAEQAw&biw=958&bih=959'\n",
    "\n",
    "driver=webdriver.Chrome('c:/pydata/chromedriver.exe')\n",
    "driver.get(url)\n",
    "time.sleep(2)\n",
    "\n",
    "img_url_list=[]\n",
    "\n",
    "for i in range(10):\n",
    "    if i == 5:\n",
    "        #더보기 버튼 클릭\n",
    "        driver.find_element_by_css_selector(\"#islmp > div > div > div > div.gBPM8 > div.qvfT1 > div.YstHxe > input\").click()\n",
    "        time.sleep(2)\n",
    "        \n",
    "    driver.execute_script('window.scrollTo(0, document.body.scrollHeight);')\n",
    "    time.sleep(2)\n",
    "    \n"
   ]
  },
  {
   "cell_type": "code",
   "execution_count": 32,
   "id": "7d3a1c5a",
   "metadata": {},
   "outputs": [
    {
     "data": {
      "text/plain": [
       "('c:/pydata/강아지_1.jpg', <email.message.Message at 0x2842b794670>)"
      ]
     },
     "execution_count": 32,
     "metadata": {},
     "output_type": "execute_result"
    }
   ],
   "source": [
    "html_source=driver.page_source\n",
    "soup=bs(html_source, 'html.parser')\n",
    "img_soup=soup.select('img.rg_i.Q4LuWd')\n",
    "img_url=img_soup[0]['src']\n",
    "\n",
    "srcf=\"c:/pydata/\"+keyword+\"_1.jpg\"\n",
    "urllib.request.urlretrieve(img_url, srcf) #url에 있는 이미지 가져와 저장하기\n"
   ]
  },
  {
   "cell_type": "code",
   "execution_count": 38,
   "id": "a74ded07",
   "metadata": {},
   "outputs": [
    {
     "name": "stderr",
     "output_type": "stream",
     "text": [
      "링크 작업: 100%|█████████████████████████████████████████████████████████████████| 858/858 [00:00<00:00, 430416.56it/s]\n"
     ]
    }
   ],
   "source": [
    "html_source=driver.page_source\n",
    "soup=bs(html_source, 'html.parser')\n",
    "img_soup=soup.select('img.rg_i.Q4LuWd')\n",
    "\n",
    "img_list=[]\n",
    "\n",
    "for img in tqdm(img_soup, desc=\"링크 작업\"):\n",
    "    try:\n",
    "        img_list.append(img['src'])\n",
    "    except:\n",
    "        img_list.append(img['data-src'])"
   ]
  },
  {
   "cell_type": "code",
   "execution_count": 40,
   "id": "d5050508",
   "metadata": {},
   "outputs": [
    {
     "name": "stdout",
     "output_type": "stream",
     "text": [
      "중복 제거전 사진수: 858\n",
      "중복 제거후 사진수 858\n"
     ]
    }
   ],
   "source": [
    "print(\"중복 제거전 사진수:\", len(img_list))\n",
    "img_list=set(img_list)              #중복 제거\n",
    "print('중복 제거후 사진수',  len(img_list))"
   ]
  },
  {
   "cell_type": "code",
   "execution_count": 41,
   "id": "b47bde9f",
   "metadata": {},
   "outputs": [
    {
     "name": "stdout",
     "output_type": "stream",
     "text": [
      "[]\n"
     ]
    }
   ],
   "source": [
    "fDir='c:/pydata/image/'\n",
    "fName=os.listdir(fDir)"
   ]
  },
  {
   "cell_type": "code",
   "execution_count": 54,
   "id": "3addc75e",
   "metadata": {},
   "outputs": [
    {
     "name": "stdout",
     "output_type": "stream",
     "text": [
      "강아지1 로 폴더생성\n"
     ]
    }
   ],
   "source": [
    "fDir='c:/pydata/image/'\n",
    "fName=os.listdir(fDir)\n",
    "\n",
    "\n",
    "### 저장할 폴더존재 여부 확인\n",
    "fName_dir=keyword\n",
    "cnt=0\n",
    "while True:\n",
    "    if fName_dir not in fName:\n",
    "        os.makedirs(fDir+fName_dir)\n",
    "        break\n",
    "    cnt+=1\n",
    "    fName_dir=keyword+str(cnt)\n",
    " \n",
    "        \n",
    "print(fName_dir, \"로 폴더생성\")"
   ]
  },
  {
   "cell_type": "markdown",
   "id": "4bb29577",
   "metadata": {},
   "source": [
    "### 생성 폴더에 검색 이미지 저장"
   ]
  },
  {
   "cell_type": "code",
   "execution_count": 59,
   "id": "5e878725",
   "metadata": {},
   "outputs": [
    {
     "name": "stderr",
     "output_type": "stream",
     "text": [
      "100%|████████████████████████████████████████████████████████████████████████████████| 858/858 [06:54<00:00,  2.07it/s]\n"
     ]
    },
    {
     "ename": "NameError",
     "evalue": "name 'drivdr' is not defined",
     "output_type": "error",
     "traceback": [
      "\u001b[1;31m---------------------------------------------------------------------------\u001b[0m",
      "\u001b[1;31mNameError\u001b[0m                                 Traceback (most recent call last)",
      "\u001b[1;32m<ipython-input-59-f6f8a4eff233>\u001b[0m in \u001b[0;36m<module>\u001b[1;34m\u001b[0m\n\u001b[0;32m      5\u001b[0m     \u001b[0mcnt\u001b[0m\u001b[1;33m+=\u001b[0m\u001b[1;36m1\u001b[0m\u001b[1;33m\u001b[0m\u001b[1;33m\u001b[0m\u001b[0m\n\u001b[0;32m      6\u001b[0m \u001b[1;33m\u001b[0m\u001b[0m\n\u001b[1;32m----> 7\u001b[1;33m \u001b[0mdrivdr\u001b[0m\u001b[1;33m.\u001b[0m\u001b[0mclose\u001b[0m\u001b[1;33m(\u001b[0m\u001b[1;33m)\u001b[0m\u001b[1;33m\u001b[0m\u001b[1;33m\u001b[0m\u001b[0m\n\u001b[0m\u001b[0;32m      8\u001b[0m \u001b[0mprint\u001b[0m\u001b[1;33m(\u001b[0m\u001b[1;34m'검색 이미지 저장 완료'\u001b[0m\u001b[1;33m)\u001b[0m\u001b[1;33m\u001b[0m\u001b[1;33m\u001b[0m\u001b[0m\n",
      "\u001b[1;31mNameError\u001b[0m: name 'drivdr' is not defined"
     ]
    }
   ],
   "source": [
    "cnt=0\n",
    "for img in tqdm(img_list):\n",
    "    sfdir=fDir+fName_dir+'/'+keyword+str(cnt)+'.jpg' #저장 경로와 파일명 설정\n",
    "    urllib.request.urlretrieve(img, sfdir) #이미지 저장하기\n",
    "    cnt+=1\n",
    "    \n",
    "driver.close()\n",
    "print('검색 이미지 저장 완료')"
   ]
  },
  {
   "cell_type": "code",
   "execution_count": 60,
   "id": "f6981397",
   "metadata": {},
   "outputs": [
    {
     "name": "stdout",
     "output_type": "stream",
     "text": [
      "%EC%BD%94%EB%A1%9C%EB%82%98\n"
     ]
    }
   ],
   "source": [
    "from urllib.parse import quote ,unquote\n",
    "print(quote('코로나'))"
   ]
  },
  {
   "cell_type": "code",
   "execution_count": 62,
   "id": "1b59ba5a",
   "metadata": {},
   "outputs": [
    {
     "name": "stdout",
     "output_type": "stream",
     "text": [
      "코로나\n"
     ]
    }
   ],
   "source": [
    "print(unquote('%EC%BD%94%EB%A1%9C%EB%82%98'))"
   ]
  },
  {
   "cell_type": "code",
   "execution_count": null,
   "id": "adbc5238",
   "metadata": {},
   "outputs": [],
   "source": []
  }
 ],
 "metadata": {
  "kernelspec": {
   "display_name": "Python 3",
   "language": "python",
   "name": "python3"
  },
  "language_info": {
   "codemirror_mode": {
    "name": "ipython",
    "version": 3
   },
   "file_extension": ".py",
   "mimetype": "text/x-python",
   "name": "python",
   "nbconvert_exporter": "python",
   "pygments_lexer": "ipython3",
   "version": "3.9.5"
  }
 },
 "nbformat": 4,
 "nbformat_minor": 5
}
