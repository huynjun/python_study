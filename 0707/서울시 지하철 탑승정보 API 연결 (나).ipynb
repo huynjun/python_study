{
 "cells": [
  {
   "cell_type": "markdown",
   "id": "8e5301c3",
   "metadata": {},
   "source": [
    "### 서울시 지하철 역별 승차인원 데이터 분석\n",
    "- 서울시 열린데이터(공공데이터 포털가입)의 지하철 승하차 인원 데이터 API 연결\n",
    "- 인증키 신청 및 연결방법 확인\n",
    "- 인증키를 이용한 데이터 가져오기\n",
    "- 연결 데이터를 이용한 DataFrame 생성\n",
    "- 생성된 데이터를 이용한 차트 작성"
   ]
  },
  {
   "cell_type": "code",
   "execution_count": 1,
   "id": "fa2a7053",
   "metadata": {},
   "outputs": [],
   "source": [
    "from bs4 import BeautifulSoup as bs # 읽어온 html. Xml 태그를 구조 변경\n",
    "import requests # 웹에서 html/xml 소스 코드(태그) 가져오는 모듈\n",
    "import pandas as pd\n"
   ]
  },
  {
   "cell_type": "code",
   "execution_count": 2,
   "id": "ebb9bb2e",
   "metadata": {},
   "outputs": [
    {
     "name": "stdout",
     "output_type": "stream",
     "text": [
      "http://openapi.seoul.go.kr:8088/7672746155736a6436336451676175/xml/CardSubwayStatsNew/1/5/20210701\n"
     ]
    }
   ],
   "source": [
    "user_key=\"7672746155736a6436336451676175\"\n",
    "url='http://openapi.seoul.go.kr:8088/'+user_key #사용자 키 연결\n",
    "url=url+\"/xml\"    #데이터 형식\n",
    "url=url+'/CardSubwayStatsNew' #일자별 승/하차 인원\n",
    "url=url+\"/1\"      #시작페이지\n",
    "url=url+\"/5\"      #1페이지에 출력되는 데이터 개수\n",
    "url=url+'/20210701'  # 조회 일자\n",
    "\n",
    "\n",
    "print(url)"
   ]
  },
  {
   "cell_type": "markdown",
   "id": "272e9cef",
   "metadata": {},
   "source": [
    "### API\n",
    "- requests 라이브러리는 매우 직관적인 API를 제공\n",
    "- 어떤 방식(method)의 HTTP 요청을 하느냐에 따라서 해당하는 이름의 함수를 사용하면 됩니다.\n",
    "- GET방식: requests.get()\n",
    "- POST방식: requests.post()\n",
    "- PUT방식: requests.put()\n",
    "- DELETE방식:requests.delete()"
   ]
  },
  {
   "cell_type": "code",
   "execution_count": 3,
   "id": "df67a74b",
   "metadata": {},
   "outputs": [
    {
     "name": "stdout",
     "output_type": "stream",
     "text": [
      "200\n",
      "정상\n"
     ]
    }
   ],
   "source": [
    "xml=requests.get(url)\n",
    "print(xml.status_code)   #코드값이 200이면 정상\n",
    "\n",
    "\n",
    "\n",
    "if xml.status_code==200:\n",
    "    print('정상')\n",
    "else:\n",
    "    print('오류')\n",
    "    exit()"
   ]
  },
  {
   "cell_type": "code",
   "execution_count": 4,
   "id": "75d31cbd",
   "metadata": {},
   "outputs": [],
   "source": [
    "#xml.text #사용자 중심의 글자\n",
    "#xml.content  # 컴퓨터 중심의 글자"
   ]
  },
  {
   "cell_type": "code",
   "execution_count": 5,
   "id": "67abdeec",
   "metadata": {},
   "outputs": [
    {
     "name": "stdout",
     "output_type": "stream",
     "text": [
      "<list_total_count>603</list_total_count>\n",
      "603\n"
     ]
    }
   ],
   "source": [
    "#print(xml.text)  #받아온 내용 출력\n",
    "#xml_soup=bs(xml.content,\"html.parser\")\n",
    "xml_soup=bs(xml.text,\"html.parser\")\n",
    "#print(xml_soup)\n",
    "print(xml_soup.find('list_total_count'))\n",
    "print(xml_soup.find('list_total_count').text)"
   ]
  },
  {
   "cell_type": "code",
   "execution_count": 6,
   "id": "df9c89f9",
   "metadata": {},
   "outputs": [
    {
     "data": {
      "text/plain": [
       "<row>\n",
       "<use_dt>20210701</use_dt>\n",
       "<line_num>1호선</line_num>\n",
       "<sub_sta_nm>종로3가</sub_sta_nm>\n",
       "<ride_pasgr_num>25002</ride_pasgr_num>\n",
       "<alight_pasgr_num>22518</alight_pasgr_num>\n",
       "<work_dt>20210704</work_dt>\n",
       "</row>"
      ]
     },
     "execution_count": 6,
     "metadata": {},
     "output_type": "execute_result"
    }
   ],
   "source": [
    "xml_soup.find_all('row')[-1]\n"
   ]
  },
  {
   "cell_type": "code",
   "execution_count": 7,
   "id": "d4d465db",
   "metadata": {},
   "outputs": [
    {
     "name": "stdout",
     "output_type": "stream",
     "text": [
      "\n",
      "20210701\n",
      "1호선\n",
      "서울역\n",
      "41854\n",
      "40070\n",
      "20210704\n",
      "\n",
      "\n",
      "20210701\n",
      "1호선\n",
      "동묘앞\n",
      "8097\n",
      "8459\n",
      "20210704\n",
      "\n",
      "\n",
      "20210701\n",
      "1호선\n",
      "시청\n",
      "21905\n",
      "22301\n",
      "20210704\n",
      "\n",
      "\n",
      "20210701\n",
      "1호선\n",
      "종각\n",
      "36208\n",
      "35430\n",
      "20210704\n",
      "\n",
      "\n",
      "20210701\n",
      "1호선\n",
      "종로3가\n",
      "25002\n",
      "22518\n",
      "20210704\n",
      "\n"
     ]
    }
   ],
   "source": [
    "xml_row=xml_soup.find_all('row')\n",
    "\n",
    "for row  in xml_row:\n",
    "    print(row.text)"
   ]
  },
  {
   "cell_type": "code",
   "execution_count": 8,
   "id": "ef52fb83",
   "metadata": {},
   "outputs": [
    {
     "data": {
      "text/html": [
       "<div>\n",
       "<style scoped>\n",
       "    .dataframe tbody tr th:only-of-type {\n",
       "        vertical-align: middle;\n",
       "    }\n",
       "\n",
       "    .dataframe tbody tr th {\n",
       "        vertical-align: top;\n",
       "    }\n",
       "\n",
       "    .dataframe thead th {\n",
       "        text-align: right;\n",
       "    }\n",
       "</style>\n",
       "<table border=\"1\" class=\"dataframe\">\n",
       "  <thead>\n",
       "    <tr style=\"text-align: right;\">\n",
       "      <th></th>\n",
       "      <th>사용일</th>\n",
       "      <th>라인</th>\n",
       "      <th>역명</th>\n",
       "      <th>승차</th>\n",
       "      <th>하차</th>\n",
       "    </tr>\n",
       "  </thead>\n",
       "  <tbody>\n",
       "    <tr>\n",
       "      <th>0</th>\n",
       "      <td>20210701</td>\n",
       "      <td>1호선</td>\n",
       "      <td>서울역</td>\n",
       "      <td>41854</td>\n",
       "      <td>40070</td>\n",
       "    </tr>\n",
       "    <tr>\n",
       "      <th>1</th>\n",
       "      <td>20210701</td>\n",
       "      <td>1호선</td>\n",
       "      <td>동묘앞</td>\n",
       "      <td>8097</td>\n",
       "      <td>8459</td>\n",
       "    </tr>\n",
       "    <tr>\n",
       "      <th>2</th>\n",
       "      <td>20210701</td>\n",
       "      <td>1호선</td>\n",
       "      <td>시청</td>\n",
       "      <td>21905</td>\n",
       "      <td>22301</td>\n",
       "    </tr>\n",
       "    <tr>\n",
       "      <th>3</th>\n",
       "      <td>20210701</td>\n",
       "      <td>1호선</td>\n",
       "      <td>종각</td>\n",
       "      <td>36208</td>\n",
       "      <td>35430</td>\n",
       "    </tr>\n",
       "    <tr>\n",
       "      <th>4</th>\n",
       "      <td>20210701</td>\n",
       "      <td>1호선</td>\n",
       "      <td>종로3가</td>\n",
       "      <td>25002</td>\n",
       "      <td>22518</td>\n",
       "    </tr>\n",
       "  </tbody>\n",
       "</table>\n",
       "</div>"
      ],
      "text/plain": [
       "        사용일   라인    역명     승차     하차\n",
       "0  20210701  1호선   서울역  41854  40070\n",
       "1  20210701  1호선   동묘앞   8097   8459\n",
       "2  20210701  1호선    시청  21905  22301\n",
       "3  20210701  1호선    종각  36208  35430\n",
       "4  20210701  1호선  종로3가  25002  22518"
      ]
     },
     "execution_count": 8,
     "metadata": {},
     "output_type": "execute_result"
    }
   ],
   "source": [
    "### 리스트 구조에 저장후 DataFrame 으로 구조 변경\n",
    "\n",
    "xml_row=xml_soup.find_all('row')\n",
    "\n",
    "xml_txt=[]\n",
    "\n",
    "\n",
    "\n",
    "for row  in xml_row:\n",
    "    dt=row.find('use_dt').text\n",
    "    line=row.find('line_num').text\n",
    "    sub_sta=row.find('sub_sta_nm').text\n",
    "    ride=row.find('ride_pasgr_num').text\n",
    "    alight=row.find('alight_pasgr_num').text\n",
    "    xml_txt.append([dt,line,sub_sta,ride, alight])\n",
    "    \n",
    "#print(xml_txt)\n",
    "df=pd.DataFrame(xml_txt, columns=['사용일', '라인', '역명', '승차', '하차'])\n",
    "df"
   ]
  },
  {
   "cell_type": "code",
   "execution_count": 11,
   "id": "fbae4cd8",
   "metadata": {},
   "outputs": [
    {
     "data": {
      "text/html": [
       "<div>\n",
       "<style scoped>\n",
       "    .dataframe tbody tr th:only-of-type {\n",
       "        vertical-align: middle;\n",
       "    }\n",
       "\n",
       "    .dataframe tbody tr th {\n",
       "        vertical-align: top;\n",
       "    }\n",
       "\n",
       "    .dataframe thead th {\n",
       "        text-align: right;\n",
       "    }\n",
       "</style>\n",
       "<table border=\"1\" class=\"dataframe\">\n",
       "  <thead>\n",
       "    <tr style=\"text-align: right;\">\n",
       "      <th></th>\n",
       "      <th>사용일</th>\n",
       "      <th>라인</th>\n",
       "      <th>역명</th>\n",
       "      <th>승차</th>\n",
       "      <th>하차</th>\n",
       "    </tr>\n",
       "  </thead>\n",
       "  <tbody>\n",
       "    <tr>\n",
       "      <th>0</th>\n",
       "      <td>20210701</td>\n",
       "      <td>1호선</td>\n",
       "      <td>서울역</td>\n",
       "      <td>41854</td>\n",
       "      <td>40070</td>\n",
       "    </tr>\n",
       "    <tr>\n",
       "      <th>1</th>\n",
       "      <td>20210701</td>\n",
       "      <td>1호선</td>\n",
       "      <td>동묘앞</td>\n",
       "      <td>8097</td>\n",
       "      <td>8459</td>\n",
       "    </tr>\n",
       "    <tr>\n",
       "      <th>2</th>\n",
       "      <td>20210701</td>\n",
       "      <td>1호선</td>\n",
       "      <td>시청</td>\n",
       "      <td>21905</td>\n",
       "      <td>22301</td>\n",
       "    </tr>\n",
       "    <tr>\n",
       "      <th>3</th>\n",
       "      <td>20210701</td>\n",
       "      <td>1호선</td>\n",
       "      <td>종각</td>\n",
       "      <td>36208</td>\n",
       "      <td>35430</td>\n",
       "    </tr>\n",
       "    <tr>\n",
       "      <th>4</th>\n",
       "      <td>20210701</td>\n",
       "      <td>1호선</td>\n",
       "      <td>종로3가</td>\n",
       "      <td>25002</td>\n",
       "      <td>22518</td>\n",
       "    </tr>\n",
       "  </tbody>\n",
       "</table>\n",
       "</div>"
      ],
      "text/plain": [
       "        사용일   라인    역명     승차     하차\n",
       "0  20210701  1호선   서울역  41854  40070\n",
       "1  20210701  1호선   동묘앞   8097   8459\n",
       "2  20210701  1호선    시청  21905  22301\n",
       "3  20210701  1호선    종각  36208  35430\n",
       "4  20210701  1호선  종로3가  25002  22518"
      ]
     },
     "execution_count": 11,
     "metadata": {},
     "output_type": "execute_result"
    }
   ],
   "source": [
    "### 딕셔너리 구조로 저장후 DataFrame 구조로 변경\n",
    "\n",
    "ml_row=xml_soup.find_all('row')\n",
    "\n",
    "xml_txt=[]\n",
    "\n",
    "\n",
    "\n",
    "for row  in xml_row:\n",
    "    dt=row.find('use_dt').text\n",
    "    line=row.find('line_num').text\n",
    "    sub_sta=row.find('sub_sta_nm').text\n",
    "    ride=row.find('ride_pasgr_num').text\n",
    "    alight=row.find('alight_pasgr_num').text\n",
    "    \n",
    "    xml_txt.append({'사용일':dt,'라인':line,'역명':sub_sta,'승차':ride, '하차':alight})\n",
    "    \n",
    "#print(xml_txt)\n",
    "df"
   ]
  },
  {
   "cell_type": "code",
   "execution_count": null,
   "id": "79715724",
   "metadata": {},
   "outputs": [],
   "source": []
  }
 ],
 "metadata": {
  "kernelspec": {
   "display_name": "Python 3",
   "language": "python",
   "name": "python3"
  },
  "language_info": {
   "codemirror_mode": {
    "name": "ipython",
    "version": 3
   },
   "file_extension": ".py",
   "mimetype": "text/x-python",
   "name": "python",
   "nbconvert_exporter": "python",
   "pygments_lexer": "ipython3",
   "version": "3.9.5"
  }
 },
 "nbformat": 4,
 "nbformat_minor": 5
}
