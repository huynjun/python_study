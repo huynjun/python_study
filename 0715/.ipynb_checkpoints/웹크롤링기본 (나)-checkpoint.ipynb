{
 "cells": [
  {
   "cell_type": "code",
   "execution_count": 70,
   "id": "38ba45a3",
   "metadata": {},
   "outputs": [],
   "source": [
    "import requests\n",
    "from bs4 import BeautifulSoup as bs"
   ]
  },
  {
   "cell_type": "code",
   "execution_count": 71,
   "id": "e1eac80a",
   "metadata": {},
   "outputs": [
    {
     "name": "stdout",
     "output_type": "stream",
     "text": [
      "<ul class=\"list_nav NM_FAVORITE_LIST\">\n",
      "<li class=\"nav_item\"><a class=\"nav\" data-clk=\"svc.dic\" href=\"https://dict.naver.com/\">사전</a></li>\n",
      "<li class=\"nav_item\"><a class=\"nav\" data-clk=\"svc.news\" href=\"https://news.naver.com/\">뉴스</a></li>\n",
      "<li class=\"nav_item\"><a class=\"nav\" data-clk=\"svc.stock\" href=\"https://finance.naver.com/\">증권</a></li>\n",
      "<li class=\"nav_item\"><a class=\"nav\" data-clk=\"svc.land\" href=\"https://land.naver.com/\">부동산</a></li>\n",
      "<li class=\"nav_item\"><a class=\"nav\" data-clk=\"svc.map\" href=\"https://map.naver.com/\">지도</a></li>\n",
      "<li class=\"nav_item\"><a class=\"nav\" data-clk=\"svc.vibe\" href=\"https://vibe.naver.com/\">VIBE</a></li>\n",
      "<li class=\"nav_item\"><a class=\"nav\" data-clk=\"svc.book\" href=\"https://book.naver.com/\">책</a></li>\n",
      "<li class=\"nav_item\"><a class=\"nav\" data-clk=\"svc.webtoon\" href=\"https://comic.naver.com/\">웹툰</a></li>\n",
      "</ul>\n"
     ]
    }
   ],
   "source": [
    "url='https://www.naver.com/'\n",
    "nav_html=requests.get(url)\n",
    "\n",
    "soup=bs(nav_html.content, 'html.parser')\n",
    "ul_soup=soup.find('ul', class_=\"list_nav NM_FAVORITE_LIST\")\n",
    "print(ul_soup)"
   ]
  },
  {
   "cell_type": "code",
   "execution_count": 72,
   "id": "3a610f4d",
   "metadata": {},
   "outputs": [
    {
     "name": "stdout",
     "output_type": "stream",
     "text": [
      "사전\n",
      "뉴스\n",
      "증권\n",
      "부동산\n",
      "지도\n",
      "VIBE\n",
      "책\n",
      "웹툰\n"
     ]
    }
   ],
   "source": [
    "li_soup=ul_soup.find_all(\"li\")\n",
    "for li in li_soup:\n",
    "    print(li.text)"
   ]
  },
  {
   "cell_type": "markdown",
   "id": "07827859",
   "metadata": {},
   "source": [
    "###  네이버 코로나 뉴스 크롤링"
   ]
  },
  {
   "cell_type": "code",
   "execution_count": 81,
   "id": "9bea38bc",
   "metadata": {},
   "outputs": [],
   "source": [
    "import sys\n",
    "\n",
    "\n",
    "\n",
    "### 누스 기사 정보 가져와 파씽처리\n",
    "def url_parser(sta_page):\n",
    "    url='https://search.naver.com/search.naver?where=news&sm=tab_jum&query=코로나'+sta_page\n",
    "\n",
    "nav_html=requests.get(url)\n",
    "if nav_html.status_code==200:\n",
    "    nav_soup=bs(nav_html.text, 'html.parser')\n",
    "else:\n",
    "    sys.exit(0)\n",
    "    \n"
   ]
  },
  {
   "cell_type": "code",
   "execution_count": 74,
   "id": "bb63a3c7",
   "metadata": {},
   "outputs": [
    {
     "name": "stdout",
     "output_type": "stream",
     "text": [
      "한은, 기준금리 동결…\"코로나 불확실성 잠재\"(종합2보)\n",
      "'파병' 청해부대 6명 코로나19 확진…'집단감염' 가능성(종합)\n",
      "청해부대서 '코로나19' 6명 확진···합참, 백신 보급도 안해\n",
      "코로나 4차 유행 불길 비수도권으로 확산(종합)\n",
      "문 대통령, 청해부대 코로나 확진에 \"의료인력 신속투입\"\n",
      "한은 금통위 “코로나 확산 불확실성 잠재…통화정책 완화기조 유지”\n",
      "노을 이상곤, 코로나19 확진 [전문]\n",
      "[단독] '전지현 시어머니' 이정우 디자이너, 코로나 확진\n",
      "민관 협력해 ‘코로나블루 디지털 치료제’ 개발한다\n",
      "국내선 항공 수요 코로나 이전 수준으로 회복\n"
     ]
    }
   ],
   "source": [
    "### 첫페이지 뉴스 제목 가져오기\n",
    "\n",
    "\n",
    "list_news=nav_soup.find('ul', class_='list_news')\n",
    "prn_soup=list_news.find_all('a', class_='news_tit')\n",
    "for a in prn_soup:\n",
    "    print(a.text)"
   ]
  },
  {
   "cell_type": "code",
   "execution_count": 75,
   "id": "088609c4",
   "metadata": {},
   "outputs": [
    {
     "name": "stdout",
     "output_type": "stream",
     "text": [
      "  민간소비는 코로나19 재확산으로 일시적으로 주춤하겠지만 추가경정예산 집행 등으로 다시 회복할 것... 보이나, 코로나19 확산과 관련한 불확실성이 잠재해 있으므로 통화정책의 완화기조를 유지해 나갈 것\"이라며 \"이... \n",
      "  해외파병 임무를 수행 중인 청해부대(문무대왕함)에서 신종 코로나바이러스 감염증(코로나19) 확진자가 6명 발생했다. 국방부에 따르면 올 초 소말리아 인근 아덴만에 파병됐던 청해부대 34진 간부 중 1명이 전날... \n",
      "  해외에 파병된 해군 청해부대 34진 문무대왕함(4400t급)에서 코로나19 확진자가 6명 발생했다. 합동참모본부는 청해부대가 코로나19 확산이 심각한 지역에서 작전 중임에도 불구하고 접종용 백신을 보내지 않았던 것으로... \n",
      "  코로나19 신규확진자가 이틀 연속 1600명대를 기록했다. 정부는 강력한 거리두기 조치를 취하고 있지만... 지난 14일 서울 중구 서울시청 광장에 마련한 선별진료소에서 한 시민이 신종 코로나바이러스 감염증... \n",
      "  문재인 대통령은 해외파병 임무를 수행 중인 청해부대에서 코로나19 확진자가 발생한 것과 관련해 의료인력을 신속하게 투입하라고 지시했습니다. 박경미 청와대 대변인은 오늘(15일) 서면 브리핑을 통해 \"문 대통령은 오늘... \n",
      "  성장세 회복이 이어지고 있지만, 최근 수도권을 중심으로 신종 코로나 바이러스 감염증(코로나19) 4차 대유행이 발생하는 등 불확실성이 잠재한 상태라는 판단에 따른 것이다. 다만 지난 5월 금통위에서 높여 잡았던 올해... \n",
      "  그룹 노을 멤버 이상곤이 코로나19 확진 판정을 받았다. 노을 소속사 씨제스엔터테인먼트는 15일 \"당사 소속 가수 노을 이상곤이 이날 오전 코로나19 양성 반응 통보를 받았다\"고 밝혔다. 소속사는 \"이상곤은 지난 7월 11일... \n",
      "  배우 전지현의 시어머니로 알려진 패션 디자이너 이영우 씨가 코로나19 확진 판정을 받은 사실이 확인됐다. 15일 한경닷컴 취재 결과 이 씨는 최근 코로나19 확진 판정을 받았다. 다만 전지현은 접촉이 없어 예정된 일정을... \n",
      "  과기정통부 제공 정부가 코로나19 사태 장기화에 대비하고자 학계, 병원, IT 기업과 함께 코로나 우울감(코로나 블루) 디지털 치료제 개발에 나선다. 과학기술정보통신부와 한국연구재단은 ‘포스트코로나 시대 비대면... \n",
      "  국내선 항공 수요가 신종 코로나바이러스 감염증(코로나19) 발생 이전 수준으로 회복했다. 다만, 국제선 항공 수요는 코로나 19 장기화로 급감해 상반기 전체 항공 여객은 지난해 같은 기간의 70% 수준에 그쳤다.... \n"
     ]
    }
   ],
   "source": [
    "### 첫페이지 요약 내용 가져오기\n",
    "\n",
    "#list_news=nav_soup.find('ul', class_='list_news')\n",
    "\n",
    "prn_soup=list_news.find_all('div', class_=\"news_dsc\")\n",
    "\n",
    "for a in prn_soup:\n",
    "    print(a.text)"
   ]
  },
  {
   "cell_type": "code",
   "execution_count": 78,
   "id": "d70cd21f",
   "metadata": {},
   "outputs": [
    {
     "name": "stdout",
     "output_type": "stream",
     "text": [
      "한은, 기준금리 동결…\"코로나 불확실성 잠재\"(종합2보)\n",
      "민간소비는 코로나19 재확산으로 일시적으로 주춤하겠지만 추가경정예산 집행 등으로 다시 회복할 것... 보이나, 코로나19 확산과 관련한 불확실성이 잠재해 있으므로 통화정책의 완화기조를 유지해 나갈 것\"이라며 \"이...\n",
      "'파병' 청해부대 6명 코로나19 확진…'집단감염' 가능성(종합)\n",
      "해외파병 임무를 수행 중인 청해부대(문무대왕함)에서 신종 코로나바이러스 감염증(코로나19) 확진자가 6명 발생했다. 국방부에 따르면 올 초 소말리아 인근 아덴만에 파병됐던 청해부대 34진 간부 중 1명이 전날...\n",
      "청해부대서 '코로나19' 6명 확진···합참, 백신 보급도 안해\n",
      "해외에 파병된 해군 청해부대 34진 문무대왕함(4400t급)에서 코로나19 확진자가 6명 발생했다. 합동참모본부는 청해부대가 코로나19 확산이 심각한 지역에서 작전 중임에도 불구하고 접종용 백신을 보내지 않았던 것으로...\n",
      "코로나 4차 유행 불길 비수도권으로 확산(종합)\n",
      "코로나19 신규확진자가 이틀 연속 1600명대를 기록했다. 정부는 강력한 거리두기 조치를 취하고 있지만... 지난 14일 서울 중구 서울시청 광장에 마련한 선별진료소에서 한 시민이 신종 코로나바이러스 감염증...\n",
      "문 대통령, 청해부대 코로나 확진에 \"의료인력 신속투입\"\n",
      "문재인 대통령은 해외파병 임무를 수행 중인 청해부대에서 코로나19 확진자가 발생한 것과 관련해 의료인력을 신속하게 투입하라고 지시했습니다. 박경미 청와대 대변인은 오늘(15일) 서면 브리핑을 통해 \"문 대통령은 오늘...\n",
      "한은 금통위 “코로나 확산 불확실성 잠재…통화정책 완화기조 유지”\n",
      "성장세 회복이 이어지고 있지만, 최근 수도권을 중심으로 신종 코로나 바이러스 감염증(코로나19) 4차 대유행이 발생하는 등 불확실성이 잠재한 상태라는 판단에 따른 것이다. 다만 지난 5월 금통위에서 높여 잡았던 올해...\n",
      "노을 이상곤, 코로나19 확진 [전문]\n",
      "그룹 노을 멤버 이상곤이 코로나19 확진 판정을 받았다. 노을 소속사 씨제스엔터테인먼트는 15일 \"당사 소속 가수 노을 이상곤이 이날 오전 코로나19 양성 반응 통보를 받았다\"고 밝혔다. 소속사는 \"이상곤은 지난 7월 11일...\n",
      "[단독] '전지현 시어머니' 이정우 디자이너, 코로나 확진\n",
      "배우 전지현의 시어머니로 알려진 패션 디자이너 이영우 씨가 코로나19 확진 판정을 받은 사실이 확인됐다. 15일 한경닷컴 취재 결과 이 씨는 최근 코로나19 확진 판정을 받았다. 다만 전지현은 접촉이 없어 예정된 일정을...\n",
      "민관 협력해 ‘코로나블루 디지털 치료제’ 개발한다\n",
      "과기정통부 제공 정부가 코로나19 사태 장기화에 대비하고자 학계, 병원, IT 기업과 함께 코로나 우울감(코로나 블루) 디지털 치료제 개발에 나선다. 과학기술정보통신부와 한국연구재단은 ‘포스트코로나 시대 비대면...\n",
      "국내선 항공 수요 코로나 이전 수준으로 회복\n",
      "국내선 항공 수요가 신종 코로나바이러스 감염증(코로나19) 발생 이전 수준으로 회복했다. 다만, 국제선 항공 수요는 코로나 19 장기화로 급감해 상반기 전체 항공 여객은 지난해 같은 기간의 70% 수준에 그쳤다....\n"
     ]
    }
   ],
   "source": [
    "### 뉴스 제목과 내용 두가지 모두 출력\n",
    "news_soup=nav_soup.find_all('div', class_='news_area')\n",
    "\n",
    "for news in news_soup:\n",
    "    print(news.find('a',class_='news_tit').text)\n",
    "    print(news.find('a',class_='api_txt_lines dsc_txt_wrap').get_text())"
   ]
  },
  {
   "cell_type": "code",
   "execution_count": 80,
   "id": "7841055b",
   "metadata": {},
   "outputs": [
    {
     "name": "stdout",
     "output_type": "stream",
     "text": [
      "한은, 기준금리 동결…\"코로나 불확실성 잠재\"(종합2보)\n",
      "민간소비는 코로나19 재확산으로 일시적으로 주춤하겠지만 추가경정예산 집행 등으로 다시 회복할 것... 보이나, 코로나19 확산과 관련한 불확실성이 잠재해 있으므로 통화정책의 완화기조를 유지해 나갈 것\"이라며 \"이...\n",
      "'파병' 청해부대 6명 코로나19 확진…'집단감염' 가능성(종합)\n",
      "해외파병 임무를 수행 중인 청해부대(문무대왕함)에서 신종 코로나바이러스 감염증(코로나19) 확진자가 6명 발생했다. 국방부에 따르면 올 초 소말리아 인근 아덴만에 파병됐던 청해부대 34진 간부 중 1명이 전날...\n",
      "청해부대서 '코로나19' 6명 확진···합참, 백신 보급도 안해\n",
      "해외에 파병된 해군 청해부대 34진 문무대왕함(4400t급)에서 코로나19 확진자가 6명 발생했다. 합동참모본부는 청해부대가 코로나19 확산이 심각한 지역에서 작전 중임에도 불구하고 접종용 백신을 보내지 않았던 것으로...\n",
      "코로나 4차 유행 불길 비수도권으로 확산(종합)\n",
      "코로나19 신규확진자가 이틀 연속 1600명대를 기록했다. 정부는 강력한 거리두기 조치를 취하고 있지만... 지난 14일 서울 중구 서울시청 광장에 마련한 선별진료소에서 한 시민이 신종 코로나바이러스 감염증...\n",
      "문 대통령, 청해부대 코로나 확진에 \"의료인력 신속투입\"\n",
      "문재인 대통령은 해외파병 임무를 수행 중인 청해부대에서 코로나19 확진자가 발생한 것과 관련해 의료인력을 신속하게 투입하라고 지시했습니다. 박경미 청와대 대변인은 오늘(15일) 서면 브리핑을 통해 \"문 대통령은 오늘...\n",
      "한은 금통위 “코로나 확산 불확실성 잠재…통화정책 완화기조 유지”\n",
      "성장세 회복이 이어지고 있지만, 최근 수도권을 중심으로 신종 코로나 바이러스 감염증(코로나19) 4차 대유행이 발생하는 등 불확실성이 잠재한 상태라는 판단에 따른 것이다. 다만 지난 5월 금통위에서 높여 잡았던 올해...\n",
      "노을 이상곤, 코로나19 확진 [전문]\n",
      "그룹 노을 멤버 이상곤이 코로나19 확진 판정을 받았다. 노을 소속사 씨제스엔터테인먼트는 15일 \"당사 소속 가수 노을 이상곤이 이날 오전 코로나19 양성 반응 통보를 받았다\"고 밝혔다. 소속사는 \"이상곤은 지난 7월 11일...\n",
      "[단독] '전지현 시어머니' 이정우 디자이너, 코로나 확진\n",
      "배우 전지현의 시어머니로 알려진 패션 디자이너 이영우 씨가 코로나19 확진 판정을 받은 사실이 확인됐다. 15일 한경닷컴 취재 결과 이 씨는 최근 코로나19 확진 판정을 받았다. 다만 전지현은 접촉이 없어 예정된 일정을...\n",
      "민관 협력해 ‘코로나블루 디지털 치료제’ 개발한다\n",
      "과기정통부 제공 정부가 코로나19 사태 장기화에 대비하고자 학계, 병원, IT 기업과 함께 코로나 우울감(코로나 블루) 디지털 치료제 개발에 나선다. 과학기술정보통신부와 한국연구재단은 ‘포스트코로나 시대 비대면...\n",
      "국내선 항공 수요 코로나 이전 수준으로 회복\n",
      "국내선 항공 수요가 신종 코로나바이러스 감염증(코로나19) 발생 이전 수준으로 회복했다. 다만, 국제선 항공 수요는 코로나 19 장기화로 급감해 상반기 전체 항공 여객은 지난해 같은 기간의 70% 수준에 그쳤다....\n"
     ]
    }
   ],
   "source": [
    "### 뉴스 제목과 내용 두가지 모두 출력\n",
    "news_soup=nav_soup.find_all('div', class_='news_area')\n",
    "\n",
    "for news in news_soup:\n",
    "    print(news.find('a',class_='news_tit').text)\n",
    "    print(news.find('a',class_='api_txt_lines dsc_txt_wrap').get_text())"
   ]
  },
  {
   "cell_type": "code",
   "execution_count": 82,
   "id": "e50560ff",
   "metadata": {},
   "outputs": [
    {
     "name": "stdout",
     "output_type": "stream",
     "text": [
      "1\n",
      "11\n",
      "21\n",
      "31\n",
      "41\n",
      "51\n",
      "61\n",
      "71\n",
      "81\n",
      "91\n",
      "101\n"
     ]
    }
   ],
   "source": []
  },
  {
   "cell_type": "code",
   "execution_count": null,
   "id": "cd64f689",
   "metadata": {},
   "outputs": [],
   "source": []
  },
  {
   "cell_type": "code",
   "execution_count": null,
   "id": "5b1b5f57",
   "metadata": {},
   "outputs": [],
   "source": []
  },
  {
   "cell_type": "code",
   "execution_count": null,
   "id": "6b8837bc",
   "metadata": {},
   "outputs": [],
   "source": []
  },
  {
   "cell_type": "code",
   "execution_count": null,
   "id": "b5f469fb",
   "metadata": {},
   "outputs": [],
   "source": []
  }
 ],
 "metadata": {
  "kernelspec": {
   "display_name": "Python 3",
   "language": "python",
   "name": "python3"
  },
  "language_info": {
   "codemirror_mode": {
    "name": "ipython",
    "version": 3
   },
   "file_extension": ".py",
   "mimetype": "text/x-python",
   "name": "python",
   "nbconvert_exporter": "python",
   "pygments_lexer": "ipython3",
   "version": "3.9.5"
  }
 },
 "nbformat": 4,
 "nbformat_minor": 5
}
