{
 "cells": [
  {
   "cell_type": "markdown",
   "id": "f6fcb870",
   "metadata": {},
   "source": [
    "### numpy 모튤\n",
    "- random 모듈을 이용한 난수 발생\n",
    "- random.randint(시작값, 종료값):시작~종료값 범위에 있는 정수를 임의로 발생"
   ]
  },
  {
   "cell_type": "code",
   "execution_count": 1,
   "id": "22bc551b",
   "metadata": {},
   "outputs": [
    {
     "data": {
      "text/plain": [
       "17"
      ]
     },
     "execution_count": 1,
     "metadata": {},
     "output_type": "execute_result"
    }
   ],
   "source": [
    "import numpy as np\n",
    "\n",
    "np.random.randint(10, 20) #종료값은 포함되지 않음 (10~19)\n",
    "\n"
   ]
  },
  {
   "cell_type": "markdown",
   "id": "411b9e2f",
   "metadata": {},
   "source": [
    "### 0~50 사이의 숫자를 무작위로 생성\n",
    "- 10개의 데이터 생성\n",
    "- 생성된 숫자는 리스트형 데이터로 저장\n",
    "- for문 사용"
   ]
  },
  {
   "cell_type": "code",
   "execution_count": 2,
   "id": "855fc7e0",
   "metadata": {},
   "outputs": [
    {
     "name": "stdout",
     "output_type": "stream",
     "text": [
      "[22, 16, 48, 42, 16, 28, 9, 44, 42, 6]\n"
     ]
    }
   ],
   "source": [
    "import numpy as np\n",
    "\n",
    "rd_lst=[]\n",
    "\n",
    "for i in range(10):\n",
    "    num=np.random.randint(0, 51)\n",
    "    rd_lst.append(num)\n",
    "\n",
    "print(rd_lst)"
   ]
  },
  {
   "cell_type": "code",
   "execution_count": 3,
   "id": "32888af4",
   "metadata": {},
   "outputs": [
    {
     "name": "stdout",
     "output_type": "stream",
     "text": [
      "[20, 19, 42, 27, 43, 23, 18, 26, 47, 18]\n"
     ]
    }
   ],
   "source": [
    "import numpy as np\n",
    "\n",
    "rd_lst=[]\n",
    "\n",
    "for i in range(10):\n",
    "    rd_lst.append(np.random.randint(0, 51))\n",
    "\n",
    "print(rd_lst)"
   ]
  },
  {
   "cell_type": "code",
   "execution_count": 4,
   "id": "d7218b57",
   "metadata": {},
   "outputs": [
    {
     "name": "stdout",
     "output_type": "stream",
     "text": [
      "[38, 32, 22, 8, 25, 18, 33, 23, 19, 24]\n"
     ]
    }
   ],
   "source": [
    "rd_lst=[np.random.randint(0, 51) for i in range(10)]\n",
    "print(rd_lst)"
   ]
  },
  {
   "cell_type": "markdown",
   "id": "ef446ed1",
   "metadata": {},
   "source": [
    "- words 데이터에서 글자수가 4개 이상인 데이터를 찾아 new_words 에 리스트로 저장"
   ]
  },
  {
   "cell_type": "code",
   "execution_count": 5,
   "id": "77eef9d2",
   "metadata": {},
   "outputs": [
    {
     "name": "stdout",
     "output_type": "stream",
     "text": [
      "['멀티캠퍼스', '티스토리', '프로그래밍']\n"
     ]
    }
   ],
   "source": [
    "words = [\"멀티캠퍼스\",\"티스토리\", \"블로그\", \"파이썬\", \"for\", \"프로그래밍\", \"반복\"]\n",
    "new_words = []\n",
    "\n",
    "\n",
    "for word in words:\n",
    "    if len(word)>3:\n",
    "        new_words.append(word)\n",
    "\n",
    "print(new_words)\n",
    "    "
   ]
  },
  {
   "cell_type": "code",
   "execution_count": 6,
   "id": "36c368b0",
   "metadata": {},
   "outputs": [
    {
     "name": "stdout",
     "output_type": "stream",
     "text": [
      "['멀티캠퍼스', '티스토리', '프로그래밍']\n"
     ]
    }
   ],
   "source": [
    "#[추가할 데이터 for문 if 문]\n",
    "new_words=[word for word in words if len(word)>3]\n",
    "print(new_words)"
   ]
  },
  {
   "cell_type": "code",
   "execution_count": 7,
   "id": "90c28e32",
   "metadata": {},
   "outputs": [],
   "source": [
    "words = [ [ \"이중 for문\", \"파이썬\", \"프로그래밍\", \"스터디\" ], \n",
    "        [ \"Python\", \"NLP\", \"ML\", \"DL\" ],\n",
    "        [ \"leetCode\", \"BaekJoon\", \"HackerRank\" ], \n",
    "        [ \"멀티캠퍼스\", \"COMPAS\", \"DACON\", \"Kaggle\" ] ]"
   ]
  },
  {
   "cell_type": "code",
   "execution_count": 8,
   "id": "7a2b7130",
   "metadata": {},
   "outputs": [
    {
     "name": "stdout",
     "output_type": "stream",
     "text": [
      "['이중 for문', '파이썬', '프로그래밍', '스터디']\n",
      "이중 for문\n",
      "파이썬\n",
      "프로그래밍\n",
      "스터디\n",
      "['Python', 'NLP', 'ML', 'DL']\n",
      "Python\n",
      "NLP\n",
      "ML\n",
      "DL\n",
      "['leetCode', 'BaekJoon', 'HackerRank']\n",
      "leetCode\n",
      "BaekJoon\n",
      "HackerRank\n",
      "['멀티캠퍼스', 'COMPAS', 'DACON', 'Kaggle']\n",
      "멀티캠퍼스\n",
      "COMPAS\n",
      "DACON\n",
      "Kaggle\n"
     ]
    }
   ],
   "source": [
    "# word가 가지고 있는 단어의 길이가 4 이상인 데이터만 출력\n",
    "for word_lst in words: \n",
    "    print(word_lst)\n",
    "    for word in word_lst:\n",
    "        print(word)"
   ]
  },
  {
   "cell_type": "code",
   "execution_count": 9,
   "id": "f618b810",
   "metadata": {},
   "outputs": [
    {
     "name": "stdout",
     "output_type": "stream",
     "text": [
      "['이중 for문', '프로그래밍', 'Python', 'leetCode', 'BaekJoon', 'HackerRank', '멀티캠퍼스', 'COMPAS', 'DACON', 'Kaggle']\n"
     ]
    }
   ],
   "source": [
    "words = [ [ \"이중 for문\", \"파이썬\", \"프로그래밍\", \"스터디\" ], \n",
    "        [ \"Python\", \"NLP\", \"ML\", \"DL\" ],\n",
    "        [ \"leetCode\", \"BaekJoon\", \"HackerRank\" ], \n",
    "        [ \"멀티캠퍼스\", \"COMPAS\", \"DACON\", \"Kaggle\" ] ]\n",
    "# word가 가지고 있는 단어의 길이가 4 이상인 데이터만 new_words에 리스트로 추가\n",
    "new_words=[]\n",
    "\n",
    "for word_lst in words: \n",
    "    for word in word_lst:\n",
    "          if len(word)>=4:\n",
    "                new_words.append(word)\n",
    "print(new_words)"
   ]
  },
  {
   "cell_type": "code",
   "execution_count": 10,
   "id": "4dd2c721",
   "metadata": {},
   "outputs": [
    {
     "name": "stdout",
     "output_type": "stream",
     "text": [
      "['이중 for문', '프로그래밍', 'Python', 'leetCode', 'BaekJoon', 'HackerRank', '멀티캠퍼스', 'COMPAS', 'DACON', 'Kaggle']\n"
     ]
    }
   ],
   "source": [
    "new_words=[word for word_lst in words for word in word_lst if len(word)>=4]\n",
    "print(new_words)"
   ]
  },
  {
   "cell_type": "markdown",
   "id": "b2a7d314",
   "metadata": {},
   "source": [
    "### random 모듈을 이용한 리스트 값 발생\n",
    "- 기준:0~50 사이의 난수 발생\n",
    "- 1세트당 인수가(값) 10~20 사이의 값응ㄹ 갖는다.\n",
    "- 전체 세트:5세트 생성\n",
    "- 예)[[0,24,13],[3,18,15], ......]"
   ]
  },
  {
   "cell_type": "code",
   "execution_count": 11,
   "id": "dca0e541",
   "metadata": {},
   "outputs": [],
   "source": [
    "import numpy as np"
   ]
  },
  {
   "cell_type": "code",
   "execution_count": 12,
   "id": "42a0c3ee",
   "metadata": {},
   "outputs": [
    {
     "name": "stdout",
     "output_type": "stream",
     "text": [
      "34\n",
      "40\n",
      "[42 48 30 42 29 11 26 27 27 20]\n",
      "[30  9 37 42 27 24 18 31 30 10]\n",
      "[36 11 40 24 12  2 49 24 41 29]\n"
     ]
    }
   ],
   "source": [
    "print(np.random.randint(51)) #0~50 사이의 정수형1개 발생\n",
    "print(np.random.randint(25,51)) #25~50 사이의 난수 발생\n",
    "print(np.random.randint(0, 51, 10)) #0~50 사이의 난수 10개 발생\n",
    "print(np.random.randint(51, size=10)) #0~50 사이의 난수 10개 발생\n",
    "print(np.random.randint(0, 51, size=10)) #0~50 사이의 난수 10개 발생  "
   ]
  },
  {
   "cell_type": "markdown",
   "id": "f566d649",
   "metadata": {},
   "source": [
    "## 요구사항: 리스트 개체를 생성하는 코드를 작성해주세요\n",
    "- 리스트 개체는 총 5개의 리스트 요소를 가지고 있고 각 리스트 요소마다 10에서 20개 사의 값을 가지고 있습니다.\n",
    "- 이 값은 0 ~ 50 사이의 임의의 값으로 만들어져 있습니다.\n",
    "- [[0, 24, 3, ..20], [44, 14, 8, ..10], [0, 3, 12, ..13], [49, 24, 13, ..15], [0, 24, 3, ..17]]\n",
    "### 문제 해결 알고리즘\n",
    "- 10~20 size 발생: random.randint(10, 21) ==> size\n",
    "- 0~50 사이값 발생: random.randint(0, 51, size=10-20)\n",
    "- 리스트 인수 5개 생성: for i range(5)\n"
   ]
  },
  {
   "cell_type": "code",
   "execution_count": 13,
   "id": "c8aa7553",
   "metadata": {},
   "outputs": [
    {
     "name": "stdout",
     "output_type": "stream",
     "text": [
      "[array([18, 32, 24, 36,  8, 39, 35, 30, 40, 47, 46, 43]), array([43, 23, 16, 31, 11, 25, 16, 28, 13, 45, 27, 20, 48, 40]), array([32, 19, 40, 39,  8, 30,  0, 14,  7, 39, 38, 12, 50, 18, 42]), array([26, 42, 49, 26, 30, 20, 17,  1, 50, 40, 44, 26, 18, 43, 17, 25, 21,\n",
      "       21,  1, 39]), array([ 1, 23,  0, 26, 22, 23, 35, 34,  2, 32, 43, 44,  6, 50, 23, 28, 46,\n",
      "       48, 18, 12])]\n"
     ]
    }
   ],
   "source": [
    "lst_a=[]\n",
    "\n",
    "\n",
    "for i in range(5):\n",
    "    lst_a.append(np.random.randint(51,size=np.random.randint(10,21)))\n",
    "\n",
    "print(lst_a)"
   ]
  },
  {
   "cell_type": "code",
   "execution_count": 14,
   "id": "de54f34f",
   "metadata": {},
   "outputs": [
    {
     "name": "stdout",
     "output_type": "stream",
     "text": [
      "[[5, 17, 20, 4, 30, 11, 6, 22, 43, 23, 25, 50, 39, 27, 31, 44, 9, 38, 3, 11], [28, 32, 37, 14, 25, 39, 5, 24, 8, 43, 47, 25, 21, 49, 26, 38, 39, 22, 13], [35, 41, 37, 0, 49, 13, 48, 16, 17, 49, 3, 11, 10, 28, 48, 29, 6, 25, 13], [15, 43, 28, 26, 6, 26, 39, 27, 43, 22, 5, 31, 27, 44, 6, 25, 35, 24], [19, 43, 41, 49, 48, 29, 47, 44, 19, 1, 30, 28, 39, 45, 48, 36, 1, 12, 43, 24]]\n"
     ]
    }
   ],
   "source": [
    "lst_a=[list(np.random.randint(51,size=np.random.randint(10,21))) for i in range(5)]\n",
    "print(lst_a)"
   ]
  },
  {
   "cell_type": "markdown",
   "id": "23b958f8",
   "metadata": {},
   "source": [
    "### [요구사항] 입력된 숫자 데이터에서 최대값/최소값/합계 계산\n",
    "- 1. data에 입력된 값을 기준으로 계산\n",
    "- 2. 위에서 생성된 rd_lst 데이터를 이용해 계산\n",
    "\n",
    "#### 제한조건\n",
    "- sum(), max(), min() 함수 사용 금지"
   ]
  },
  {
   "cell_type": "code",
   "execution_count": 15,
   "id": "a2074f19",
   "metadata": {},
   "outputs": [
    {
     "name": "stdout",
     "output_type": "stream",
     "text": [
      "최대값:43, 최소값: 1 , 합계: 407\n"
     ]
    }
   ],
   "source": [
    "data=[34, 23, 20, 43, 1, 5, 2, 14, 18, 24, 40, 18, 38, 4, 3, 22, 43, 6, 36, 13]\n",
    "\n",
    "tmpMax=data[0]\n",
    "tmpMin=data[0]\n",
    "tmpSum=0\n",
    "\n",
    "for dt in data:\n",
    "    # 최대값\n",
    "    if dt>tmpMax:\n",
    "        tmpMax=dt\n",
    "    #최소값\n",
    "    if dt<tmpMin:\n",
    "        tmpMin=dt\n",
    "    #합계\n",
    "    tmpSum+=dt\n",
    "\n",
    "print(f'최대값:{tmpMax}, 최소값: {tmpMin} , 합계: {tmpSum}')"
   ]
  },
  {
   "cell_type": "code",
   "execution_count": 16,
   "id": "ca75d69d",
   "metadata": {},
   "outputs": [
    {
     "name": "stdout",
     "output_type": "stream",
     "text": [
      "[[31, 44, 2, 19, 39, 40, 25, 37, 6, 7, 16, 23, 35, 33, 50, 49, 36, 36, 5], [47, 14, 29, 36, 17, 39, 40, 12, 28, 41, 16, 49], [5, 26, 7, 42, 0, 48, 41, 46, 36, 43, 50, 9, 38], [32, 20, 33, 25, 5, 10, 15, 13, 44, 46, 28, 39, 21, 1], [26, 3, 20, 10, 25, 47, 14, 33, 26, 31, 35, 8, 10, 47, 25]]\n"
     ]
    }
   ],
   "source": [
    "lst_a=[list(np.random.randint(51,size=np.random.randint(10,21))) for i in range(5)]\n",
    "print(lst_a)"
   ]
  },
  {
   "cell_type": "code",
   "execution_count": 24,
   "id": "e6386ac7",
   "metadata": {},
   "outputs": [
    {
     "name": "stdout",
     "output_type": "stream",
     "text": [
      "최대값:49, 최소값: 0 , 합계: 2037\n"
     ]
    }
   ],
   "source": [
    "lst_a=[[43, 46, 42, 14, 11, 5, 25, 49, 37, 12, 0, 0, 2, 16, 42, 6], [0, 43, 48, 32, 46, 4, 40, 3, 31, 14, 34, 38, 4, 41, 15, 30], [17, 8, 7, 49, 35, 44, 0, 43, 40, 20, 36, 36, 41, 3], [34, 11, 18, 9, 32, 11, 38, 35, 18, 48, 46, 27, 12, 17, 32, 24, 21, 43], [2, 43, 32, 47, 33, 42, 20, 11, 40, 32, 26, 18, 29, 28, 6]]\n",
    "\n",
    "tmpMax=lst_a[0][0]\n",
    "tmpMin=lst_a[0][0]\n",
    "tmpSum=0\n",
    "\n",
    "for i in lst_a:\n",
    "    for list_a in i:\n",
    "    #최대값\n",
    "        if list_a>tmpMax:\n",
    "            tmpMax=list_a\n",
    "    #최소값\n",
    "        if list_a<tmpMin:\n",
    "            tmpMin=list_a\n",
    "    #합계\n",
    "        tmpSum+=list_a\n",
    "\n",
    "print(f'최대값:{tmpMax}, 최소값: {tmpMin} , 합계: {tmpSum}')\n"
   ]
  },
  {
   "cell_type": "code",
   "execution_count": 46,
   "id": "a09c6d11",
   "metadata": {},
   "outputs": [
    {
     "ename": "TypeError",
     "evalue": "unsupported operand type(s) for +=: 'int' and 'list'",
     "output_type": "error",
     "traceback": [
      "\u001b[1;31m---------------------------------------------------------------------------\u001b[0m",
      "\u001b[1;31mTypeError\u001b[0m                                 Traceback (most recent call last)",
      "\u001b[1;32m<ipython-input-46-83faf1bb31f0>\u001b[0m in \u001b[0;36m<module>\u001b[1;34m\u001b[0m\n\u001b[0;32m     12\u001b[0m             \u001b[0mtmpMin\u001b[0m\u001b[1;33m=\u001b[0m\u001b[0mlist_a\u001b[0m\u001b[1;33m\u001b[0m\u001b[1;33m\u001b[0m\u001b[0m\n\u001b[0;32m     13\u001b[0m     \u001b[1;31m#합계\u001b[0m\u001b[1;33m\u001b[0m\u001b[1;33m\u001b[0m\u001b[1;33m\u001b[0m\u001b[0m\n\u001b[1;32m---> 14\u001b[1;33m         \u001b[0mtmpSum\u001b[0m\u001b[1;33m+=\u001b[0m\u001b[0mtmp_lst\u001b[0m\u001b[1;33m\u001b[0m\u001b[1;33m\u001b[0m\u001b[0m\n\u001b[0m\u001b[0;32m     15\u001b[0m \u001b[1;33m\u001b[0m\u001b[0m\n\u001b[0;32m     16\u001b[0m \u001b[0mprint\u001b[0m\u001b[1;33m(\u001b[0m\u001b[1;34mf'최대값:{tmpMax}, 최소값: {tmpMin} , 합계: {tmpSum}'\u001b[0m\u001b[1;33m)\u001b[0m\u001b[1;33m\u001b[0m\u001b[1;33m\u001b[0m\u001b[0m\n",
      "\u001b[1;31mTypeError\u001b[0m: unsupported operand type(s) for +=: 'int' and 'list'"
     ]
    }
   ],
   "source": [
    "lst_a=[[43, 46, 42, 14, 11, 5, 25, 49, 37, 12, 0, 0, 2, 16, 42, 6], [0, 43, 48, 32, 46, 4, 40, 3, 31, 14, 34, 38, 4, 41, 15, 30], [17, 8, 7, 49, 35, 44, 0, 43, 40, 20, 36, 36, 41, 3], [34, 11, 18, 9, 32, 11, 38, 35, 18, 48, 46, 27, 12, 17, 32, 24, 21, 43], [2, 43, 32, 47, 33, 42, 20, 11, 40, 32, 26, 18, 29, 28, 6]]\n",
    "\n",
    "tmp_lst=[0, lst_a[0][0], lst_a[0][0]]\n",
    "\n",
    "for i in lst_a:\n",
    "    for list_a in i:\n",
    "    #최대값\n",
    "        if list_a>tmpMax:\n",
    "            tmpMax=list_a\n",
    "    #최소값\n",
    "        if list_a<tmpMin:\n",
    "            tmpMin=list_a\n",
    "    #합계\n",
    "        tmpSum+=tmp_lst\n",
    "\n",
    "print(f'최대값:{tmpMax}, 최소값: {tmpMin} , 합계: {tmpSum}')\n"
   ]
  },
  {
   "cell_type": "markdown",
   "id": "5abc991c",
   "metadata": {},
   "source": [
    "### 각 그룹별 계산\n",
    "- 그룹단위 최대/최소/합계\n",
    "- 전체 최대값/최소값/합계"
   ]
  },
  {
   "cell_type": "code",
   "execution_count": 58,
   "id": "4abaeaf6",
   "metadata": {},
   "outputs": [
    {
     "name": "stdout",
     "output_type": "stream",
     "text": [
      "[[47, 40, 17, 18, 17, 18, 11, 26, 7, 2, 14, 5, 39, 11, 31, 30, 19], [24, 35, 7, 22, 7, 45, 13, 25, 37, 10, 34, 26, 22, 0], [48, 8, 13, 18, 31, 13, 40, 17, 33, 50], [28, 4, 18, 49, 31, 34, 2, 35, 26, 32, 42, 10, 43, 29, 19, 25, 16], [26, 16, 27, 24, 42, 48, 41, 2, 19, 17]]\n"
     ]
    }
   ],
   "source": [
    "lst_a=[list(np.random.randint(51,size=np.random.randint(10,21))) for i in range(5)]\n",
    "print(lst_a)"
   ]
  },
  {
   "cell_type": "code",
   "execution_count": 59,
   "id": "a18199f6",
   "metadata": {},
   "outputs": [
    {
     "name": "stdout",
     "output_type": "stream",
     "text": [
      "그룹별\n",
      " [[352, 47, 2], [307, 45, 0], [271, 50, 8], [443, 49, 2], [262, 48, 2]] \n",
      "\n",
      "전체데이터 [1635, 50, 0]\n"
     ]
    }
   ],
   "source": [
    "T_lst=[0, lst_a[0][0], lst_a[0][0]] #전체 값 계산\n",
    "G_lst=[]#그룹별 최대값/최소값/합계를 저장할 리스트(출력)\n",
    "\n",
    "for lst in lst_a:\n",
    "    tmp_lst=[0, lst[0], lst[0]] # 그룹별 계산 리스트 변수\n",
    "    for dt in lst:\n",
    "        if dt>tmp_lst[1]: #최대값 찾기\n",
    "            tmp_lst[1]=dt\n",
    "        if dt<tmp_lst[2]: #최소값 찾기\n",
    "            tmp_lst[2]=dt\n",
    "        tmp_lst[0]+=dt #합계\n",
    "    G_lst.append(tmp_lst) # 그룹별 계산 결과 리스트에 추가\n",
    "    \n",
    "    # 전체 데이터 누적합계 및 최대값/최소값 찾기\n",
    "    T_lst[0]=T_lst[0]+tmp_lst[0] # 전체 누적합계\n",
    "    \n",
    "    if tmp_lst[1]>T_lst[1]:\n",
    "        T_lst[1]=tmp_lst[1]\n",
    "    if tmp_lst[2]<T_lst[2]:\n",
    "        T_lst[2]=tmp_lst[2]\n",
    "    \n",
    "print('그룹별\\n', G_lst, '\\n')\n",
    "print('전체데이터', T_lst)\n"
   ]
  },
  {
   "cell_type": "code",
   "execution_count": null,
   "id": "15ec267a",
   "metadata": {},
   "outputs": [],
   "source": []
  }
 ],
 "metadata": {
  "kernelspec": {
   "display_name": "Python 3",
   "language": "python",
   "name": "python3"
  },
  "language_info": {
   "codemirror_mode": {
    "name": "ipython",
    "version": 3
   },
   "file_extension": ".py",
   "mimetype": "text/x-python",
   "name": "python",
   "nbconvert_exporter": "python",
   "pygments_lexer": "ipython3",
   "version": "3.9.5"
  }
 },
 "nbformat": 4,
 "nbformat_minor": 5
}
