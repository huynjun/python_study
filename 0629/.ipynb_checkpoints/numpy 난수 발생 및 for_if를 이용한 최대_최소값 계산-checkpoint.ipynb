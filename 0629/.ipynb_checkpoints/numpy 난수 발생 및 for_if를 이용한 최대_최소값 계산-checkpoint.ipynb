{
 "cells": [
  {
   "cell_type": "markdown",
   "id": "a9a95404",
   "metadata": {},
   "source": [
    "### numpy 모듈\n",
    "- random 모듈을 이용한 난수 발생\n",
    "- random.randint(시작값, 종료값): 시작~종료값 범위에 있는 정수를 임으로 발생"
   ]
  },
  {
   "cell_type": "code",
   "execution_count": 1,
   "id": "1957470f",
   "metadata": {},
   "outputs": [
    {
     "data": {
      "text/plain": [
       "15"
      ]
     },
     "execution_count": 1,
     "metadata": {},
     "output_type": "execute_result"
    }
   ],
   "source": [
    "import numpy as np\n",
    "\n",
    "np.random.randint(10, 21)"
   ]
  },
  {
   "cell_type": "markdown",
   "id": "95723ba4",
   "metadata": {},
   "source": [
    "#### 0~50 사이의 숫자를 무작위로 생성\n",
    "- 10개의 데이터 생성\n",
    "- 생성된 숫자는 리스트형 데이터로 저장\n",
    "- for문 이용"
   ]
  },
  {
   "cell_type": "code",
   "execution_count": 2,
   "id": "0abaae21",
   "metadata": {},
   "outputs": [
    {
     "name": "stdout",
     "output_type": "stream",
     "text": [
      "[42, 38, 18, 43, 15, 41, 31, 20, 5, 49]\n"
     ]
    }
   ],
   "source": [
    "import numpy as np\n",
    "\n",
    "rd_lst=[]\n",
    "\n",
    "for i in range(10):\n",
    "    rd_lst.append(np.random.randint(0, 51))\n",
    "\n",
    "print(rd_lst)"
   ]
  },
  {
   "cell_type": "code",
   "execution_count": 3,
   "id": "95dd8b8a",
   "metadata": {},
   "outputs": [
    {
     "name": "stdout",
     "output_type": "stream",
     "text": [
      "[12, 11, 35, 23, 23, 23, 23, 33, 21, 12]\n"
     ]
    }
   ],
   "source": [
    "rd_lst=[np.random.randint(0, 51) for i in range(10)]\n",
    "\n",
    "print(rd_lst)"
   ]
  },
  {
   "cell_type": "markdown",
   "id": "763b9ac2",
   "metadata": {},
   "source": [
    "- words 데이터에서 글자수가 4개 이상인 데이터를 찾아 new_words 에 리스트로 저장"
   ]
  },
  {
   "cell_type": "code",
   "execution_count": 4,
   "id": "12aa1a4e",
   "metadata": {},
   "outputs": [
    {
     "name": "stdout",
     "output_type": "stream",
     "text": [
      "['멀티캠퍼스', '티스토리', '프로그래밍']\n"
     ]
    }
   ],
   "source": [
    "words = [\"멀티캠퍼스\",\"티스토리\", \"블로그\", \"파이썬\", \"for\", \"프로그래밍\", \"반복\"]\n",
    "\n",
    "new_words=[]\n",
    "\n",
    "for word in words:\n",
    "    if len(word) > 3:\n",
    "        new_words.append(word)\n",
    "        \n",
    "print(new_words)"
   ]
  },
  {
   "cell_type": "code",
   "execution_count": 5,
   "id": "cd98dbea",
   "metadata": {},
   "outputs": [
    {
     "name": "stdout",
     "output_type": "stream",
     "text": [
      "['멀티캠퍼스', '티스토리', '프로그래밍']\n"
     ]
    }
   ],
   "source": [
    "new_words=[word for word in words if len(word) > 3]\n",
    "\n",
    "print(new_words)"
   ]
  },
  {
   "cell_type": "code",
   "execution_count": 6,
   "id": "663bdf66",
   "metadata": {},
   "outputs": [
    {
     "name": "stdout",
     "output_type": "stream",
     "text": [
      "['이중 for문', '파이썬', '프로그래밍', '스터디']\n",
      "이중 for문\n",
      "파이썬\n",
      "프로그래밍\n",
      "스터디\n",
      "['Python', 'NLP', 'ML', 'DL']\n",
      "Python\n",
      "NLP\n",
      "ML\n",
      "DL\n",
      "['leetCode', 'BaekJoon', 'HackerRank']\n",
      "leetCode\n",
      "BaekJoon\n",
      "HackerRank\n",
      "['멀티캠퍼스', 'COMPAS', 'DACON', 'Kaggle']\n",
      "멀티캠퍼스\n",
      "COMPAS\n",
      "DACON\n",
      "Kaggle\n"
     ]
    }
   ],
   "source": [
    "words = [[ \"이중 for문\", \"파이썬\", \"프로그래밍\", \"스터디\" ], \n",
    "         [ \"Python\", \"NLP\", \"ML\", \"DL\" ], \n",
    "         [ \"leetCode\", \"BaekJoon\", \"HackerRank\" ],\n",
    "         [ \"멀티캠퍼스\", \"COMPAS\", \"DACON\", \"Kaggle\" ] ]\n",
    "\n",
    "# words가 가지고 있는 단어 출력\n",
    "for word_lst in words:\n",
    "    print(word_lst)\n",
    "    for word in word_lst:\n",
    "        print(word)"
   ]
  },
  {
   "cell_type": "code",
   "execution_count": 7,
   "id": "5e20107b",
   "metadata": {},
   "outputs": [
    {
     "name": "stdout",
     "output_type": "stream",
     "text": [
      "['이중 for문', '프로그래밍', 'Python', 'leetCode', 'BaekJoon', 'HackerRank', '멀티캠퍼스', 'COMPAS', 'DACON', 'Kaggle']\n"
     ]
    }
   ],
   "source": [
    "words = [[ \"이중 for문\", \"파이썬\", \"프로그래밍\", \"스터디\" ], \n",
    "         [ \"Python\", \"NLP\", \"ML\", \"DL\" ], \n",
    "         [ \"leetCode\", \"BaekJoon\", \"HackerRank\" ],\n",
    "         [ \"멀티캠퍼스\", \"COMPAS\", \"DACON\", \"Kaggle\" ]]\n",
    "\n",
    "# words가 가지고 있는 단어의 길이가 4 이상인 데이터만 new_words에 리스트로 추가\n",
    "new_words=[]\n",
    "\n",
    "for word_lst in words:\n",
    "    for word in word_lst:\n",
    "        if len(word)>=4:\n",
    "            new_words.append(word)\n",
    "            \n",
    "print(new_words)"
   ]
  },
  {
   "cell_type": "code",
   "execution_count": 8,
   "id": "f32fdcfa",
   "metadata": {},
   "outputs": [
    {
     "name": "stdout",
     "output_type": "stream",
     "text": [
      "['이중 for문', '프로그래밍', 'Python', 'leetCode', 'BaekJoon', 'HackerRank', '멀티캠퍼스', 'COMPAS', 'DACON', 'Kaggle']\n"
     ]
    }
   ],
   "source": [
    "new_words=[word for word_lst in words for word in word_lst if len(word)>=4]\n",
    "\n",
    "print(new_words)"
   ]
  },
  {
   "cell_type": "markdown",
   "id": "9d12e4af",
   "metadata": {},
   "source": [
    "### random 모듈을 이용한 리스트 값 발생\n",
    "- 기준: 0 ~ 50 사이의 난수 발생\n",
    "- 1세트당 인수가(값) 10 ~ 20 사이의 값을 갖는다.\n",
    "- 전체 세트: 5세트 생성\n",
    "- 예) [[0, 24, 3, ...], [44, 14, 8, ...],[0, 3, 12, ...],[49, 24, 13, ...],[0, 24, 3, ...]]"
   ]
  },
  {
   "cell_type": "code",
   "execution_count": 9,
   "id": "6b752732",
   "metadata": {},
   "outputs": [],
   "source": [
    "import numpy as np"
   ]
  },
  {
   "cell_type": "code",
   "execution_count": 10,
   "id": "4cf5e4c1",
   "metadata": {},
   "outputs": [
    {
     "name": "stdout",
     "output_type": "stream",
     "text": [
      "15\n",
      "30\n",
      "[ 6 41 29 10 14 29 50 36 21 26]\n",
      "[19 27 35 24 14 28 16 45 16 43]\n",
      "[11 37 14 13 45 36  7 47 30 43]\n"
     ]
    }
   ],
   "source": [
    "print(np.random.randint(51))  # 0~50 사이의 정수형 1개 발생\n",
    "print(np.random.randint(25, 51)) # 25~50 사이의 난수 발생\n",
    "print(np.random.randint(0, 51, 10))      # 0~50 사이의 난수를 10개 발생\n",
    "print(np.random.randint(0, 51, size=10))\n",
    "print(np.random.randint(51, size=10))"
   ]
  },
  {
   "cell_type": "markdown",
   "id": "e04250dc",
   "metadata": {},
   "source": [
    "### 요구사항: 리스트 개체를 생성하는 코드를 작성해주세요\n",
    "- 리스트 개체는 총 5개의 리스트 요소를 가지고 있고 각 리스트 요소마다 10에서 20개 사의 값을 가지고 있습니다.\n",
    "-이 값은 0 ~ 50 사이의 임의의 값으로 만들어져 있습니다.\n",
    "-[[0, 24, 3, ..20], [44, 14, 8, ..10], [0, 3, 12, ..13], [49, 24, 13, ..15], [0, 24, 3, ..17]]\n",
    "#### 문제 해결 알고리즘\n",
    "- 10~20 size 발생: random.randint(10, 21) ==> size\n",
    "- 0~50 사이값 발생: random.randint(0, 51, size=10-20)\n",
    "- 리스트 인수 5개 생성: for i range(5)"
   ]
  },
  {
   "cell_type": "code",
   "execution_count": 11,
   "id": "0e0118bc",
   "metadata": {},
   "outputs": [
    {
     "data": {
      "text/plain": [
       "[[24, 30, 37, 43, 24, 8, 30, 50, 9, 6],\n",
       " [16, 48, 41, 28, 44, 20, 8, 34, 44, 50, 50, 48, 50, 34, 48, 43, 34, 39, 46],\n",
       " [50, 49, 40, 17, 29, 26, 34, 35, 26, 2, 18],\n",
       " [15, 22, 3, 8, 36, 36, 34, 25, 32, 17, 45, 3, 11, 2, 37, 39],\n",
       " [31, 44, 0, 41, 6, 4, 43, 43, 7, 44, 19, 43]]"
      ]
     },
     "execution_count": 11,
     "metadata": {},
     "output_type": "execute_result"
    }
   ],
   "source": [
    "[[24, 30, 37, 43, 24, 8, 30, 50, 9, 6],\n",
    " [16, 48, 41, 28, 44, 20, 8, 34, 44, 50, 50, 48, 50, 34, 48, 43, 34, 39, 46],\n",
    " [50, 49, 40, 17, 29, 26, 34, 35, 26, 2, 18],\n",
    " [15, 22, 3, 8, 36, 36, 34, 25, 32, 17, 45, 3, 11, 2, 37, 39],\n",
    " [31, 44, 0, 41, 6, 4, 43, 43, 7, 44, 19, 43]]"
   ]
  },
  {
   "cell_type": "code",
   "execution_count": 12,
   "id": "ed5f8292",
   "metadata": {},
   "outputs": [
    {
     "data": {
      "text/plain": [
       "[[40, 38, 11, 1, 11, 0, 33, 50, 28, 41],\n",
       " [26, 17, 37, 25, 43, 31, 9, 29, 10, 26, 16, 27],\n",
       " [26, 17, 37, 45, 29, 12, 11, 47, 38, 36, 34, 10, 29, 29, 31, 45, 22],\n",
       " [6, 44, 49, 40, 22, 50, 48, 38, 13, 35, 20, 18, 8],\n",
       " [45, 0, 31, 5, 45, 18, 15, 40, 2, 2, 27, 45, 5, 5, 48, 19, 50, 34, 48]]"
      ]
     },
     "execution_count": 12,
     "metadata": {},
     "output_type": "execute_result"
    }
   ],
   "source": [
    "import numpy as np\n",
    "\n",
    "rd_lst=[]\n",
    "for i in range(5) :\n",
    "    size_n=np.random.randint(10,21)\n",
    "    rd_lst.append(list(np.random.randint(51,size=size_n)))\n",
    "    \n",
    "rd_lst"
   ]
  },
  {
   "cell_type": "code",
   "execution_count": 13,
   "id": "759521ce",
   "metadata": {},
   "outputs": [
    {
     "data": {
      "text/plain": [
       "[[25, 33, 31, 49, 34, 18, 20, 37, 8, 32],\n",
       " [1, 22, 16, 36, 11, 10, 31, 8, 26, 15, 31, 49, 1, 40, 9, 31, 6, 12, 45],\n",
       " [0, 24, 47, 47, 33, 13, 20, 39, 40, 3, 11, 35, 48, 4, 26, 25, 11, 2, 6, 19],\n",
       " [5, 31, 24, 17, 7, 26, 3, 49, 19, 49, 14, 40],\n",
       " [33, 46, 11, 27, 6, 40, 48, 13, 20, 35, 34, 27, 20, 34, 6]]"
      ]
     },
     "execution_count": 13,
     "metadata": {},
     "output_type": "execute_result"
    }
   ],
   "source": [
    "import numpy as np\n",
    "\n",
    "rd_lst=[]\n",
    "for i in range(5) :\n",
    "    rd_lst.append(list(np.random.randint(51,size=np.random.randint(10,21))))\n",
    "    \n",
    "rd_lst"
   ]
  },
  {
   "cell_type": "code",
   "execution_count": 14,
   "id": "effa1922",
   "metadata": {},
   "outputs": [
    {
     "data": {
      "text/plain": [
       "[[25, 12, 6, 12, 29, 23, 34, 47, 8, 26],\n",
       " [37, 28, 7, 41, 6, 25, 21, 39, 16, 5, 46, 22, 44, 14, 0, 18, 16],\n",
       " [31, 39, 2, 24, 30, 45, 22, 46, 21, 42, 50, 4, 25, 25, 12, 3],\n",
       " [14, 19, 10, 18, 23, 46, 45, 2, 12, 27, 38, 34, 31, 23],\n",
       " [30, 41, 40, 35, 23, 31, 10, 35, 14, 32]]"
      ]
     },
     "execution_count": 14,
     "metadata": {},
     "output_type": "execute_result"
    }
   ],
   "source": [
    "rd_lst=[list(np.random.randint(51,size=np.random.randint(10,21))) for i in range(5)]\n",
    "rd_lst"
   ]
  },
  {
   "cell_type": "code",
   "execution_count": null,
   "id": "1bd037ea",
   "metadata": {},
   "outputs": [],
   "source": []
  }
 ],
 "metadata": {
  "kernelspec": {
   "display_name": "Python 3",
   "language": "python",
   "name": "python3"
  },
  "language_info": {
   "codemirror_mode": {
    "name": "ipython",
    "version": 3
   },
   "file_extension": ".py",
   "mimetype": "text/x-python",
   "name": "python",
   "nbconvert_exporter": "python",
   "pygments_lexer": "ipython3",
   "version": "3.9.5"
  }
 },
 "nbformat": 4,
 "nbformat_minor": 5
}
