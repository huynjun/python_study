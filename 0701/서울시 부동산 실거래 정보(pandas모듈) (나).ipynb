{
 "cells": [
  {
   "cell_type": "code",
   "execution_count": 101,
   "id": "fe2f6b21",
   "metadata": {},
   "outputs": [
    {
     "name": "stderr",
     "output_type": "stream",
     "text": [
      "C:\\Users\\user1\\miniconda3\\envs\\multi\\lib\\site-packages\\IPython\\core\\interactiveshell.py:3165: DtypeWarning: Columns (1) have mixed types.Specify dtype option on import or set low_memory=False.\n",
      "  has_raised = await self.run_ast_nodes(code_ast.body, cell_name,\n"
     ]
    },
    {
     "data": {
      "text/html": [
       "<div>\n",
       "<style scoped>\n",
       "    .dataframe tbody tr th:only-of-type {\n",
       "        vertical-align: middle;\n",
       "    }\n",
       "\n",
       "    .dataframe tbody tr th {\n",
       "        vertical-align: top;\n",
       "    }\n",
       "\n",
       "    .dataframe thead th {\n",
       "        text-align: right;\n",
       "    }\n",
       "</style>\n",
       "<table border=\"1\" class=\"dataframe\">\n",
       "  <thead>\n",
       "    <tr style=\"text-align: right;\">\n",
       "      <th></th>\n",
       "      <th>실거래가아이디</th>\n",
       "      <th>지번코드</th>\n",
       "      <th>시군구코드</th>\n",
       "      <th>자치구명</th>\n",
       "      <th>법정동코드</th>\n",
       "      <th>법정동명</th>\n",
       "      <th>신고년도</th>\n",
       "      <th>업무구분코드</th>\n",
       "      <th>업무구분</th>\n",
       "      <th>물건번호</th>\n",
       "      <th>대지권면적</th>\n",
       "      <th>건물면적</th>\n",
       "      <th>관리구분코드</th>\n",
       "      <th>층정보</th>\n",
       "      <th>건물주용도코드</th>\n",
       "      <th>건물주용도</th>\n",
       "      <th>물건금액</th>\n",
       "      <th>건축년도</th>\n",
       "      <th>건물명</th>\n",
       "    </tr>\n",
       "  </thead>\n",
       "  <tbody>\n",
       "    <tr>\n",
       "      <th>0</th>\n",
       "      <td>11290-2020-4-0000066-1</td>\n",
       "      <td>1129013800101440024</td>\n",
       "      <td>11290</td>\n",
       "      <td>성북구</td>\n",
       "      <td>1129013800</td>\n",
       "      <td>장위동</td>\n",
       "      <td>2020</td>\n",
       "      <td>4</td>\n",
       "      <td>신고</td>\n",
       "      <td>1</td>\n",
       "      <td>0.0</td>\n",
       "      <td>59.92</td>\n",
       "      <td>2</td>\n",
       "      <td>5.0</td>\n",
       "      <td>2001</td>\n",
       "      <td>아파트</td>\n",
       "      <td>749000000</td>\n",
       "      <td>0.0</td>\n",
       "      <td>래미안 장위포레카운티</td>\n",
       "    </tr>\n",
       "    <tr>\n",
       "      <th>1</th>\n",
       "      <td>11290-2020-4-0000628-1</td>\n",
       "      <td>1129013400105080016</td>\n",
       "      <td>11290</td>\n",
       "      <td>성북구</td>\n",
       "      <td>1129013400</td>\n",
       "      <td>길음동</td>\n",
       "      <td>2020</td>\n",
       "      <td>4</td>\n",
       "      <td>신고</td>\n",
       "      <td>1</td>\n",
       "      <td>0.0</td>\n",
       "      <td>84.77</td>\n",
       "      <td>2</td>\n",
       "      <td>18.0</td>\n",
       "      <td>2001</td>\n",
       "      <td>아파트</td>\n",
       "      <td>1200000000</td>\n",
       "      <td>0.0</td>\n",
       "      <td>롯데캐슬 클라시아</td>\n",
       "    </tr>\n",
       "    <tr>\n",
       "      <th>71</th>\n",
       "      <td>11290-2020-4-0003911-1</td>\n",
       "      <td>1129013800101730114</td>\n",
       "      <td>11290</td>\n",
       "      <td>성북구</td>\n",
       "      <td>1129013800</td>\n",
       "      <td>장위동</td>\n",
       "      <td>2020</td>\n",
       "      <td>4</td>\n",
       "      <td>신고</td>\n",
       "      <td>1</td>\n",
       "      <td>0.0</td>\n",
       "      <td>116.91</td>\n",
       "      <td>B</td>\n",
       "      <td>2.0</td>\n",
       "      <td>2001</td>\n",
       "      <td>아파트</td>\n",
       "      <td>1270000000</td>\n",
       "      <td>0.0</td>\n",
       "      <td>래미안장위퍼스트하이</td>\n",
       "    </tr>\n",
       "    <tr>\n",
       "      <th>275</th>\n",
       "      <td>11290-2020-4-0000749-1</td>\n",
       "      <td>1129013900100100000</td>\n",
       "      <td>11290</td>\n",
       "      <td>성북구</td>\n",
       "      <td>1129013900</td>\n",
       "      <td>석관동</td>\n",
       "      <td>2020</td>\n",
       "      <td>4</td>\n",
       "      <td>신고</td>\n",
       "      <td>1</td>\n",
       "      <td>NaN</td>\n",
       "      <td>84.90</td>\n",
       "      <td>0</td>\n",
       "      <td>17.0</td>\n",
       "      <td>2001</td>\n",
       "      <td>아파트</td>\n",
       "      <td>647000000</td>\n",
       "      <td>1998.0</td>\n",
       "      <td>두산</td>\n",
       "    </tr>\n",
       "    <tr>\n",
       "      <th>5825</th>\n",
       "      <td>11290-2020-4-0002784-1</td>\n",
       "      <td>1129013900</td>\n",
       "      <td>11290</td>\n",
       "      <td>성북구</td>\n",
       "      <td>1129013900</td>\n",
       "      <td>석관동</td>\n",
       "      <td>2020</td>\n",
       "      <td>4</td>\n",
       "      <td>신고</td>\n",
       "      <td>1</td>\n",
       "      <td>89.0</td>\n",
       "      <td>59.97</td>\n",
       "      <td>0</td>\n",
       "      <td>NaN</td>\n",
       "      <td>1001</td>\n",
       "      <td>단독주택</td>\n",
       "      <td>270000000</td>\n",
       "      <td>1973.0</td>\n",
       "      <td>NaN</td>\n",
       "    </tr>\n",
       "  </tbody>\n",
       "</table>\n",
       "</div>"
      ],
      "text/plain": [
       "                     실거래가아이디                 지번코드  시군구코드 자치구명       법정동코드  \\\n",
       "0     11290-2020-4-0000066-1  1129013800101440024  11290  성북구  1129013800   \n",
       "1     11290-2020-4-0000628-1  1129013400105080016  11290  성북구  1129013400   \n",
       "71    11290-2020-4-0003911-1  1129013800101730114  11290  성북구  1129013800   \n",
       "275   11290-2020-4-0000749-1  1129013900100100000  11290  성북구  1129013900   \n",
       "5825  11290-2020-4-0002784-1           1129013900  11290  성북구  1129013900   \n",
       "\n",
       "     법정동명  신고년도  업무구분코드 업무구분  물건번호  대지권면적    건물면적 관리구분코드   층정보  건물주용도코드 건물주용도  \\\n",
       "0     장위동  2020       4   신고     1    0.0   59.92      2   5.0     2001   아파트   \n",
       "1     길음동  2020       4   신고     1    0.0   84.77      2  18.0     2001   아파트   \n",
       "71    장위동  2020       4   신고     1    0.0  116.91      B   2.0     2001   아파트   \n",
       "275   석관동  2020       4   신고     1    NaN   84.90      0  17.0     2001   아파트   \n",
       "5825  석관동  2020       4   신고     1   89.0   59.97      0   NaN     1001  단독주택   \n",
       "\n",
       "            물건금액    건축년도          건물명  \n",
       "0      749000000     0.0  래미안 장위포레카운티  \n",
       "1     1200000000     0.0   롯데캐슬 클라시아   \n",
       "71    1270000000     0.0   래미안장위퍼스트하이  \n",
       "275    647000000  1998.0           두산  \n",
       "5825   270000000  1973.0          NaN  "
      ]
     },
     "execution_count": 101,
     "metadata": {},
     "output_type": "execute_result"
    }
   ],
   "source": [
    "import pandas as pd\n",
    "\n",
    "df1=pd.read_csv('./data/서울특별시_부동산_실거래가_정보_2020년.csv', encoding='cp949')\n",
    "\n",
    "\n",
    "df1[df1['자치구명']=='성북구'].head() # pandas 모듈에서 읽은 데이터를 상위 5개만 출력"
   ]
  },
  {
   "cell_type": "code",
   "execution_count": 102,
   "id": "9cc0d44b",
   "metadata": {},
   "outputs": [
    {
     "data": {
      "text/plain": [
       "pandas.core.series.Series"
      ]
     },
     "execution_count": 102,
     "metadata": {},
     "output_type": "execute_result"
    }
   ],
   "source": [
    "type(df1['자치구명'])"
   ]
  },
  {
   "cell_type": "code",
   "execution_count": 103,
   "id": "b1b5603f",
   "metadata": {},
   "outputs": [
    {
     "data": {
      "text/plain": [
       "pandas.core.frame.DataFrame"
      ]
     },
     "execution_count": 103,
     "metadata": {},
     "output_type": "execute_result"
    }
   ],
   "source": [
    "type(df1[['자치구명', '건물주용도']])"
   ]
  },
  {
   "cell_type": "code",
   "execution_count": 104,
   "id": "7dc994be",
   "metadata": {},
   "outputs": [
    {
     "data": {
      "text/plain": [
       "Index(['실거래가아이디', '지번코드', '시군구코드', '자치구명', '법정동코드', '법정동명', '신고년도', '업무구분코드',\n",
       "       '업무구분', '물건번호', '대지권면적', '건물면적', '관리구분코드', '층정보', '건물주용도코드', '건물주용도',\n",
       "       '물건금액', '건축년도', '건물명'],\n",
       "      dtype='object')"
      ]
     },
     "execution_count": 104,
     "metadata": {},
     "output_type": "execute_result"
    }
   ],
   "source": [
    "df1.columns"
   ]
  },
  {
   "cell_type": "markdown",
   "id": "29873b98",
   "metadata": {},
   "source": [
    "### 데이터프레임에서 결측치(NaN)값 처리하기\n",
    "- 결측지(NaN): 표현이 불가능한 데이터(빈 값)\n",
    "- DataFrame.isnull()"
   ]
  },
  {
   "cell_type": "code",
   "execution_count": 105,
   "id": "d6161d61",
   "metadata": {},
   "outputs": [
    {
     "name": "stdout",
     "output_type": "stream",
     "text": [
      "<class 'pandas.core.frame.DataFrame'>\n",
      "RangeIndex: 176001 entries, 0 to 176000\n",
      "Data columns (total 8 columns):\n",
      " #   Column  Non-Null Count   Dtype  \n",
      "---  ------  --------------   -----  \n",
      " 0   자치구명    176001 non-null  object \n",
      " 1   법정동명    176001 non-null  object \n",
      " 2   건물주용도   176001 non-null  object \n",
      " 3   건축년도    175436 non-null  float64\n",
      " 4   건물면적    176001 non-null  float64\n",
      " 5   층정보     163838 non-null  float64\n",
      " 6   물건금액    176001 non-null  int64  \n",
      " 7   건물명     163838 non-null  object \n",
      "dtypes: float64(3), int64(1), object(4)\n",
      "memory usage: 10.7+ MB\n"
     ]
    }
   ],
   "source": [
    "# 데이터프레임 구조에서 원하는 필드값만 가져와 재정의하기\n",
    "df1=df1[['자치구명', '법정동명', '건물주용도', '건축년도', '건물면적', '층정보','물건금액','건물명']]\n",
    "df1.info() #데이터프레임의 데이터 정보 확인하기"
   ]
  },
  {
   "cell_type": "code",
   "execution_count": 106,
   "id": "ce05d84d",
   "metadata": {},
   "outputs": [
    {
     "data": {
      "text/plain": [
       "자치구명         0\n",
       "법정동명         0\n",
       "건물주용도        0\n",
       "건축년도       565\n",
       "건물면적         0\n",
       "층정보      12163\n",
       "물건금액         0\n",
       "건물명      12163\n",
       "dtype: int64"
      ]
     },
     "execution_count": 106,
     "metadata": {},
     "output_type": "execute_result"
    }
   ],
   "source": [
    "df1.isnull().sum()  # 열 단위 NaN 값의 갯수 확인하기"
   ]
  },
  {
   "cell_type": "code",
   "execution_count": 107,
   "id": "9f46821a",
   "metadata": {},
   "outputs": [
    {
     "data": {
      "text/html": [
       "<div>\n",
       "<style scoped>\n",
       "    .dataframe tbody tr th:only-of-type {\n",
       "        vertical-align: middle;\n",
       "    }\n",
       "\n",
       "    .dataframe tbody tr th {\n",
       "        vertical-align: top;\n",
       "    }\n",
       "\n",
       "    .dataframe thead th {\n",
       "        text-align: right;\n",
       "    }\n",
       "</style>\n",
       "<table border=\"1\" class=\"dataframe\">\n",
       "  <thead>\n",
       "    <tr style=\"text-align: right;\">\n",
       "      <th></th>\n",
       "      <th>자치구명</th>\n",
       "      <th>법정동명</th>\n",
       "      <th>건물주용도</th>\n",
       "      <th>건축년도</th>\n",
       "      <th>건물면적</th>\n",
       "      <th>층정보</th>\n",
       "      <th>물건금액</th>\n",
       "      <th>건물명</th>\n",
       "    </tr>\n",
       "  </thead>\n",
       "  <tbody>\n",
       "    <tr>\n",
       "      <th>9</th>\n",
       "      <td>용산구</td>\n",
       "      <td>후암동</td>\n",
       "      <td>단독주택</td>\n",
       "      <td>2014.0</td>\n",
       "      <td>87.91</td>\n",
       "      <td>NaN</td>\n",
       "      <td>740000000</td>\n",
       "      <td>NaN</td>\n",
       "    </tr>\n",
       "    <tr>\n",
       "      <th>19</th>\n",
       "      <td>성동구</td>\n",
       "      <td>옥수동</td>\n",
       "      <td>단독주택</td>\n",
       "      <td>1986.0</td>\n",
       "      <td>174.51</td>\n",
       "      <td>NaN</td>\n",
       "      <td>1730000000</td>\n",
       "      <td>NaN</td>\n",
       "    </tr>\n",
       "    <tr>\n",
       "      <th>25</th>\n",
       "      <td>중구</td>\n",
       "      <td>남대문로5가</td>\n",
       "      <td>단독주택</td>\n",
       "      <td>1970.0</td>\n",
       "      <td>145.46</td>\n",
       "      <td>NaN</td>\n",
       "      <td>1850000000</td>\n",
       "      <td>NaN</td>\n",
       "    </tr>\n",
       "  </tbody>\n",
       "</table>\n",
       "</div>"
      ],
      "text/plain": [
       "   자치구명    법정동명 건물주용도    건축년도    건물면적  층정보        물건금액  건물명\n",
       "9   용산구     후암동  단독주택  2014.0   87.91  NaN   740000000  NaN\n",
       "19  성동구     옥수동  단독주택  1986.0  174.51  NaN  1730000000  NaN\n",
       "25   중구  남대문로5가  단독주택  1970.0  145.46  NaN  1850000000  NaN"
      ]
     },
     "execution_count": 107,
     "metadata": {},
     "output_type": "execute_result"
    }
   ],
   "source": [
    "df1[df1['층정보'].isnull()].head(3)"
   ]
  },
  {
   "cell_type": "code",
   "execution_count": 108,
   "id": "42a3183e",
   "metadata": {},
   "outputs": [
    {
     "data": {
      "text/html": [
       "<div>\n",
       "<style scoped>\n",
       "    .dataframe tbody tr th:only-of-type {\n",
       "        vertical-align: middle;\n",
       "    }\n",
       "\n",
       "    .dataframe tbody tr th {\n",
       "        vertical-align: top;\n",
       "    }\n",
       "\n",
       "    .dataframe thead th {\n",
       "        text-align: right;\n",
       "    }\n",
       "</style>\n",
       "<table border=\"1\" class=\"dataframe\">\n",
       "  <thead>\n",
       "    <tr style=\"text-align: right;\">\n",
       "      <th></th>\n",
       "      <th>자치구명</th>\n",
       "      <th>법정동명</th>\n",
       "      <th>건물주용도</th>\n",
       "      <th>건축년도</th>\n",
       "      <th>건물면적</th>\n",
       "      <th>층정보</th>\n",
       "      <th>물건금액</th>\n",
       "      <th>건물명</th>\n",
       "    </tr>\n",
       "  </thead>\n",
       "  <tbody>\n",
       "    <tr>\n",
       "      <th>175997</th>\n",
       "      <td>마포구</td>\n",
       "      <td>연남동</td>\n",
       "      <td>단독주택</td>\n",
       "      <td>1973.0</td>\n",
       "      <td>147.34</td>\n",
       "      <td>NaN</td>\n",
       "      <td>2430000000</td>\n",
       "      <td>NaN</td>\n",
       "    </tr>\n",
       "    <tr>\n",
       "      <th>175999</th>\n",
       "      <td>마포구</td>\n",
       "      <td>신수동</td>\n",
       "      <td>단독주택</td>\n",
       "      <td>1967.0</td>\n",
       "      <td>46.41</td>\n",
       "      <td>NaN</td>\n",
       "      <td>899900000</td>\n",
       "      <td>NaN</td>\n",
       "    </tr>\n",
       "    <tr>\n",
       "      <th>176000</th>\n",
       "      <td>마포구</td>\n",
       "      <td>신정동</td>\n",
       "      <td>단독주택</td>\n",
       "      <td>1970.0</td>\n",
       "      <td>25.69</td>\n",
       "      <td>NaN</td>\n",
       "      <td>1358000000</td>\n",
       "      <td>NaN</td>\n",
       "    </tr>\n",
       "  </tbody>\n",
       "</table>\n",
       "</div>"
      ],
      "text/plain": [
       "       자치구명 법정동명 건물주용도    건축년도    건물면적  층정보        물건금액  건물명\n",
       "175997  마포구  연남동  단독주택  1973.0  147.34  NaN  2430000000  NaN\n",
       "175999  마포구  신수동  단독주택  1967.0   46.41  NaN   899900000  NaN\n",
       "176000  마포구  신정동  단독주택  1970.0   25.69  NaN  1358000000  NaN"
      ]
     },
     "execution_count": 108,
     "metadata": {},
     "output_type": "execute_result"
    }
   ],
   "source": [
    "df1[df1['층정보'].isnull()].tail(3)"
   ]
  },
  {
   "cell_type": "code",
   "execution_count": 109,
   "id": "68a9eee0",
   "metadata": {},
   "outputs": [
    {
     "data": {
      "text/html": [
       "<div>\n",
       "<style scoped>\n",
       "    .dataframe tbody tr th:only-of-type {\n",
       "        vertical-align: middle;\n",
       "    }\n",
       "\n",
       "    .dataframe tbody tr th {\n",
       "        vertical-align: top;\n",
       "    }\n",
       "\n",
       "    .dataframe thead th {\n",
       "        text-align: right;\n",
       "    }\n",
       "</style>\n",
       "<table border=\"1\" class=\"dataframe\">\n",
       "  <thead>\n",
       "    <tr style=\"text-align: right;\">\n",
       "      <th></th>\n",
       "      <th>자치구명</th>\n",
       "      <th>법정동명</th>\n",
       "      <th>건물주용도</th>\n",
       "      <th>건축년도</th>\n",
       "      <th>건물면적</th>\n",
       "      <th>층정보</th>\n",
       "      <th>물건금액</th>\n",
       "      <th>건물명</th>\n",
       "    </tr>\n",
       "  </thead>\n",
       "  <tbody>\n",
       "    <tr>\n",
       "      <th>0</th>\n",
       "      <td>성북구</td>\n",
       "      <td>장위동</td>\n",
       "      <td>아파트</td>\n",
       "      <td>0.0</td>\n",
       "      <td>59.92</td>\n",
       "      <td>5.0</td>\n",
       "      <td>749000000</td>\n",
       "      <td>래미안 장위포레카운티</td>\n",
       "    </tr>\n",
       "    <tr>\n",
       "      <th>1</th>\n",
       "      <td>성북구</td>\n",
       "      <td>길음동</td>\n",
       "      <td>아파트</td>\n",
       "      <td>0.0</td>\n",
       "      <td>84.77</td>\n",
       "      <td>18.0</td>\n",
       "      <td>1200000000</td>\n",
       "      <td>롯데캐슬 클라시아</td>\n",
       "    </tr>\n",
       "    <tr>\n",
       "      <th>2</th>\n",
       "      <td>구로구</td>\n",
       "      <td>구로동</td>\n",
       "      <td>아파트</td>\n",
       "      <td>1994.0</td>\n",
       "      <td>36.90</td>\n",
       "      <td>1.0</td>\n",
       "      <td>105000000</td>\n",
       "      <td>궁전아트빌라</td>\n",
       "    </tr>\n",
       "    <tr>\n",
       "      <th>3</th>\n",
       "      <td>용산구</td>\n",
       "      <td>산천동</td>\n",
       "      <td>아파트</td>\n",
       "      <td>2001.0</td>\n",
       "      <td>59.55</td>\n",
       "      <td>2.0</td>\n",
       "      <td>830000000</td>\n",
       "      <td>리버힐삼성</td>\n",
       "    </tr>\n",
       "    <tr>\n",
       "      <th>4</th>\n",
       "      <td>용산구</td>\n",
       "      <td>이촌동</td>\n",
       "      <td>아파트</td>\n",
       "      <td>1971.0</td>\n",
       "      <td>64.43</td>\n",
       "      <td>5.0</td>\n",
       "      <td>735000000</td>\n",
       "      <td>강변</td>\n",
       "    </tr>\n",
       "    <tr>\n",
       "      <th>...</th>\n",
       "      <td>...</td>\n",
       "      <td>...</td>\n",
       "      <td>...</td>\n",
       "      <td>...</td>\n",
       "      <td>...</td>\n",
       "      <td>...</td>\n",
       "      <td>...</td>\n",
       "      <td>...</td>\n",
       "    </tr>\n",
       "    <tr>\n",
       "      <th>175996</th>\n",
       "      <td>마포구</td>\n",
       "      <td>상암동</td>\n",
       "      <td>단독주택</td>\n",
       "      <td>1998.0</td>\n",
       "      <td>294.03</td>\n",
       "      <td>1.0</td>\n",
       "      <td>1450000000</td>\n",
       "      <td>1</td>\n",
       "    </tr>\n",
       "    <tr>\n",
       "      <th>175997</th>\n",
       "      <td>마포구</td>\n",
       "      <td>연남동</td>\n",
       "      <td>단독주택</td>\n",
       "      <td>1973.0</td>\n",
       "      <td>147.34</td>\n",
       "      <td>1.0</td>\n",
       "      <td>2430000000</td>\n",
       "      <td>1</td>\n",
       "    </tr>\n",
       "    <tr>\n",
       "      <th>175998</th>\n",
       "      <td>마포구</td>\n",
       "      <td>망원동</td>\n",
       "      <td>연립주택</td>\n",
       "      <td>1983.0</td>\n",
       "      <td>46.77</td>\n",
       "      <td>3.0</td>\n",
       "      <td>405000000</td>\n",
       "      <td>(459-4)</td>\n",
       "    </tr>\n",
       "    <tr>\n",
       "      <th>175999</th>\n",
       "      <td>마포구</td>\n",
       "      <td>신수동</td>\n",
       "      <td>단독주택</td>\n",
       "      <td>1967.0</td>\n",
       "      <td>46.41</td>\n",
       "      <td>1.0</td>\n",
       "      <td>899900000</td>\n",
       "      <td>1</td>\n",
       "    </tr>\n",
       "    <tr>\n",
       "      <th>176000</th>\n",
       "      <td>마포구</td>\n",
       "      <td>신정동</td>\n",
       "      <td>단독주택</td>\n",
       "      <td>1970.0</td>\n",
       "      <td>25.69</td>\n",
       "      <td>1.0</td>\n",
       "      <td>1358000000</td>\n",
       "      <td>1</td>\n",
       "    </tr>\n",
       "  </tbody>\n",
       "</table>\n",
       "<p>176001 rows × 8 columns</p>\n",
       "</div>"
      ],
      "text/plain": [
       "       자치구명 법정동명 건물주용도    건축년도    건물면적   층정보        물건금액          건물명\n",
       "0       성북구  장위동   아파트     0.0   59.92   5.0   749000000  래미안 장위포레카운티\n",
       "1       성북구  길음동   아파트     0.0   84.77  18.0  1200000000   롯데캐슬 클라시아 \n",
       "2       구로구  구로동   아파트  1994.0   36.90   1.0   105000000       궁전아트빌라\n",
       "3       용산구  산천동   아파트  2001.0   59.55   2.0   830000000        리버힐삼성\n",
       "4       용산구  이촌동   아파트  1971.0   64.43   5.0   735000000           강변\n",
       "...     ...  ...   ...     ...     ...   ...         ...          ...\n",
       "175996  마포구  상암동  단독주택  1998.0  294.03   1.0  1450000000            1\n",
       "175997  마포구  연남동  단독주택  1973.0  147.34   1.0  2430000000            1\n",
       "175998  마포구  망원동  연립주택  1983.0   46.77   3.0   405000000      (459-4)\n",
       "175999  마포구  신수동  단독주택  1967.0   46.41   1.0   899900000            1\n",
       "176000  마포구  신정동  단독주택  1970.0   25.69   1.0  1358000000            1\n",
       "\n",
       "[176001 rows x 8 columns]"
      ]
     },
     "execution_count": 109,
     "metadata": {},
     "output_type": "execute_result"
    }
   ],
   "source": [
    "df1.fillna(1)     #전체 NaN 값을 1로 변경"
   ]
  },
  {
   "cell_type": "code",
   "execution_count": 110,
   "id": "d4b0f38d",
   "metadata": {},
   "outputs": [],
   "source": [
    "df1=df1.fillna({'층정보':1, '건물명':'단독'}) #특정 열의 NaN 값을 찾아 원하는 값으로 변경 후 저장"
   ]
  },
  {
   "cell_type": "code",
   "execution_count": 111,
   "id": "1c10197b",
   "metadata": {},
   "outputs": [
    {
     "data": {
      "text/plain": [
       "자치구명     0\n",
       "법정동명     0\n",
       "건물주용도    0\n",
       "건축년도     0\n",
       "건물면적     0\n",
       "층정보      0\n",
       "물건금액     0\n",
       "건물명      0\n",
       "dtype: int64"
      ]
     },
     "execution_count": 111,
     "metadata": {},
     "output_type": "execute_result"
    }
   ],
   "source": [
    "df1=df1.fillna({'건축년도': 0})\n",
    "df1.isnull().sum()"
   ]
  },
  {
   "cell_type": "code",
   "execution_count": 112,
   "id": "b9730406",
   "metadata": {},
   "outputs": [],
   "source": [
    "# NaN 데이터 삭제: dropna() 함수 사용,\n",
    "# 옵션: how='any' => NaN이 하나라도 존재하면 삭제\n",
    "# 옵션: how=\"all\" => 데이터 전체 (행 전체)가 NaN인 데이터만 삭제\n",
    "#df1.dropna()"
   ]
  },
  {
   "cell_type": "markdown",
   "id": "4f3f89df",
   "metadata": {},
   "source": [
    "### pandas.DataFrame 데이터 관리\n",
    "#### 데이터 검색\n",
    "- 단일조건:df[df['열이름']==조건]\n",
    "- 다중조건:df[(df['열이름']==조건1) &(df['열이름']==조건2)]=> AND연산\n",
    "- 다중조건:df[(df['열이름']==조건1) |(df['열이름']==조건2)]=> OR연산"
   ]
  },
  {
   "cell_type": "code",
   "execution_count": 113,
   "id": "c153b583",
   "metadata": {},
   "outputs": [
    {
     "data": {
      "text/plain": [
       "array(['장위동', '길음동', '석관동', '성북동', '돈암동', '정릉동', '상월곡동', '동선동5가', '동선동3가',\n",
       "       '종암동', '삼선동1가', '하월곡동', '동소문동5가', '보문동6가', '삼선동3가', '안암동3가',\n",
       "       '삼선동2가', '동선동1가', '삼선동4가', '안암동1가', '보문동3가', '삼선동5가', '동선동4가',\n",
       "       '동소문동7가', '보문동1가', '동소문동4가', '보문동5가', '동소문동6가', '안암동4가', '성북동1가',\n",
       "       '안암동5가', '보문동4가', '안암동2가', '보문동2가', '보문동7가', '동소문동1가', '동소문동2가',\n",
       "       '동선동2가'], dtype=object)"
      ]
     },
     "execution_count": 113,
     "metadata": {},
     "output_type": "execute_result"
    }
   ],
   "source": [
    "# 자치구명이 성북구인 데이터에서 법정동명을 가져와 고유값(중복제거) 출력\n",
    "df1[df1['자치구명']=='성북구']['법정동명'].unique()"
   ]
  },
  {
   "cell_type": "code",
   "execution_count": 114,
   "id": "e3327cb0",
   "metadata": {},
   "outputs": [
    {
     "data": {
      "text/plain": [
       "정릉동       1807\n",
       "장위동       1280\n",
       "길음동        987\n",
       "돈암동        847\n",
       "석관동        767\n",
       "하월곡동       753\n",
       "종암동        598\n",
       "성북동        369\n",
       "보문동6가      166\n",
       "상월곡동       154\n",
       "삼선동2가      110\n",
       "동소문동4가     107\n",
       "삼선동4가       73\n",
       "삼선동3가       63\n",
       "동소문동7가      61\n",
       "동선동4가       56\n",
       "안암동3가       54\n",
       "삼선동1가       47\n",
       "보문동3가       45\n",
       "안암동1가       43\n",
       "삼선동5가       40\n",
       "성북동1가       29\n",
       "동선동5가       26\n",
       "안암동2가       23\n",
       "보문동5가       20\n",
       "동소문동5가      19\n",
       "보문동1가       18\n",
       "동소문동6가      17\n",
       "동선동1가       16\n",
       "보문동4가       14\n",
       "동선동3가       13\n",
       "안암동4가       10\n",
       "보문동7가       10\n",
       "보문동2가        9\n",
       "안암동5가        6\n",
       "동소문동1가       4\n",
       "동소문동2가       2\n",
       "동선동2가        1\n",
       "Name: 법정동명, dtype: int64"
      ]
     },
     "execution_count": 114,
     "metadata": {},
     "output_type": "execute_result"
    }
   ],
   "source": [
    "# 자치구명이 성북구인 데이터에서 법정동명을 가져와 동별 개수를 체크해 출력\n",
    "df1[df1['자치구명']=='성북구']['법정동명'].value_counts()"
   ]
  },
  {
   "cell_type": "code",
   "execution_count": 115,
   "id": "c97056ec",
   "metadata": {},
   "outputs": [
    {
     "name": "stdout",
     "output_type": "stream",
     "text": [
      "정릉동       1072\n",
      "길음동        871\n",
      "돈암동        786\n",
      "하월곡동       506\n",
      "종암동        376\n",
      "석관동        253\n",
      "장위동        168\n",
      "보문동6가      148\n",
      "상월곡동       115\n",
      "삼선동2가       94\n",
      "동소문동7가      49\n",
      "보문동3가       43\n",
      "동소문동4가      42\n",
      "안암동1가       33\n",
      "안암동3가       27\n",
      "삼선동3가       27\n",
      "삼선동4가       23\n",
      "동소문동5가      16\n",
      "성북동         10\n",
      "보문동4가       10\n",
      "동선동1가        6\n",
      "안암동4가        5\n",
      "동소문동6가       5\n",
      "보문동1가        4\n",
      "동선동4가        2\n",
      "성북동1가        2\n",
      "보문동2가        2\n",
      "동선동3가        1\n",
      "Name: 법정동명, dtype: int64\n"
     ]
    }
   ],
   "source": [
    "# 자치구가 성북구 이면서 건물주용도가 아파트인 데이터에 대한 법정 동명 거래 건수 출력\n",
    "df2=df1[(df1['자치구명']=='성북구') & (df1['건물주용도']=='아파트')]['법정동명'].value_counts()\n",
    "print(df2)"
   ]
  },
  {
   "cell_type": "code",
   "execution_count": 116,
   "id": "ca41422b",
   "metadata": {},
   "outputs": [
    {
     "data": {
      "image/png": "[encoded data removed]",
      "text/plain": [
       "<Figure size 720x216 with 1 Axes>"
      ]
     },
     "metadata": {
      "needs_background": "light"
     },
     "output_type": "display_data"
    }
   ],
   "source": [
    "import matplotlib.pyplot as plt\n",
    "import matplotlib.font_manager as fm\n",
    "#from matplotlib import font_manager as fm\n",
    "font_path=\"C:/Windows/Fonts/malgun.ttf\"      # 한글 폰트 경로 및 이름 정의(윈도우10 기반)\n",
    "font_name=fm.FontProperties(fname=font_path).get_name()  # 포트 속성 변경\n",
    "plt.rc('font', family=font_name)   # 차트 전체 포트 속성 변경\n",
    "\n",
    "\n",
    "df2.plot(kind=\"bar\", figsize=(10,3))\n",
    "plt.show()"
   ]
  },
  {
   "cell_type": "code",
   "execution_count": 117,
   "id": "a5fbfb1f",
   "metadata": {},
   "outputs": [
    {
     "data": {
      "image/png": "[encoded data removed]",
      "text/plain": [
       "<Figure size 720x360 with 1 Axes>"
      ]
     },
     "metadata": {
      "needs_background": "light"
     },
     "output_type": "display_data"
    }
   ],
   "source": [
    "df2=df1[(df1['자치구명']=='성북구') & (df1['건물주용도']=='아파트')].groupby('법정동명').mean()\n",
    "df2['물건금액'].plot(kind='bar' ,figsize=(10,5))\n",
    "plt.show()"
   ]
  },
  {
   "cell_type": "markdown",
   "id": "872cb98f",
   "metadata": {},
   "source": [
    "### [미션] 구단위/동별 물건금액 의 평균값을 차트로 시각화\n",
    "- 구이름, 건물주용도는 사용자에게 입력받아 진행\n",
    "- 출력되는 평균은 동을 기준으로 계산 및 출력"
   ]
  },
  {
   "cell_type": "code",
   "execution_count": 128,
   "id": "596157d3",
   "metadata": {},
   "outputs": [
    {
     "name": "stdout",
     "output_type": "stream",
     "text": [
      "구이름을 입력하세요:성북구\n",
      "건물주용도를 입력하세요:단독주택\n"
     ]
    },
    {
     "data": {
      "image/png": "[encoded data removed]",
      "text/plain": [
       "<Figure size 720x360 with 1 Axes>"
      ]
     },
     "metadata": {
      "needs_background": "light"
     },
     "output_type": "display_data"
    }
   ],
   "source": [
    "\n",
    "df2=df1[(df1['자치구명']==input(\"구이름을 입력하세요:\")) & (df1['건물주용도']==input('건물주용도를 입력하세요:'))].groupby('법정동명').mean()\n",
    "df2['물건금액'].plot(kind='bar' ,figsize=(10,5))\n",
    "\n",
    "plt.show()"
   ]
  },
  {
   "cell_type": "code",
   "execution_count": null,
   "id": "baf7ec0e",
   "metadata": {},
   "outputs": [],
   "source": []
  }
 ],
 "metadata": {
  "kernelspec": {
   "display_name": "Python 3",
   "language": "python",
   "name": "python3"
  },
  "language_info": {
   "codemirror_mode": {
    "name": "ipython",
    "version": 3
   },
   "file_extension": ".py",
   "mimetype": "text/x-python",
   "name": "python",
   "nbconvert_exporter": "python",
   "pygments_lexer": "ipython3",
   "version": "3.9.5"
  }
 },
 "nbformat": 4,
 "nbformat_minor": 5
}
