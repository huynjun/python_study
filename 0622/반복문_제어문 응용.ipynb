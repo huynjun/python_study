{
 "cells": [
  {
   "cell_type": "markdown",
   "id": "e4dccf12",
   "metadata": {},
   "source": [
    "- PiLLOW 설치: jupyter=> !pip install Pillow, 프롬프트: conda install Pillow / pip install Pillow\n",
    "- import를 이용한 모듈 연결\n",
    "- 필요한 메소드(함수/명령어)를 이용해 작업수행"
   ]
  },
  {
   "cell_type": "code",
   "execution_count": 9,
   "id": "8551221e",
   "metadata": {},
   "outputs": [
    {
     "name": "stdout",
     "output_type": "stream",
     "text": [
      "===== End =====\n",
      "[['pic1.jpg', 'PNG', 512, 271], ['pic2.jpg', 'JPEG', 630, 338], ['pic3.jpg', 'JPEG', 275, 183]]\n"
     ]
    },
    {
     "data": {
      "text/html": [
       "<div>\n",
       "<style scoped>\n",
       "    .dataframe tbody tr th:only-of-type {\n",
       "        vertical-align: middle;\n",
       "    }\n",
       "\n",
       "    .dataframe tbody tr th {\n",
       "        vertical-align: top;\n",
       "    }\n",
       "\n",
       "    .dataframe thead th {\n",
       "        text-align: right;\n",
       "    }\n",
       "</style>\n",
       "<table border=\"1\" class=\"dataframe\">\n",
       "  <thead>\n",
       "    <tr style=\"text-align: right;\">\n",
       "      <th></th>\n",
       "      <th>파일명</th>\n",
       "      <th>형식</th>\n",
       "      <th>너비</th>\n",
       "      <th>높이</th>\n",
       "    </tr>\n",
       "  </thead>\n",
       "  <tbody>\n",
       "    <tr>\n",
       "      <th>0</th>\n",
       "      <td>pic1.jpg</td>\n",
       "      <td>PNG</td>\n",
       "      <td>512</td>\n",
       "      <td>271</td>\n",
       "    </tr>\n",
       "    <tr>\n",
       "      <th>1</th>\n",
       "      <td>pic2.jpg</td>\n",
       "      <td>JPEG</td>\n",
       "      <td>630</td>\n",
       "      <td>338</td>\n",
       "    </tr>\n",
       "    <tr>\n",
       "      <th>2</th>\n",
       "      <td>pic3.jpg</td>\n",
       "      <td>JPEG</td>\n",
       "      <td>275</td>\n",
       "      <td>183</td>\n",
       "    </tr>\n",
       "  </tbody>\n",
       "</table>\n",
       "</div>"
      ],
      "text/plain": [
       "        파일명    형식   너비   높이\n",
       "0  pic1.jpg   PNG  512  271\n",
       "1  pic2.jpg  JPEG  630  338\n",
       "2  pic3.jpg  JPEG  275  183"
      ]
     },
     "metadata": {},
     "output_type": "display_data"
    },
    {
     "name": "stdout",
     "output_type": "stream",
     "text": [
      "        파일명    형식   너비   높이\n",
      "0  pic1.jpg   PNG  512  271\n",
      "1  pic2.jpg  JPEG  630  338\n",
      "2  pic3.jpg  JPEG  275  183\n"
     ]
    }
   ],
   "source": [
    "from PIL import Image\n",
    "import pandas as pd\n",
    "\n",
    "fileName=[\"pic1\", \"pic2\", \"pic3\"]\n",
    "prnData=[]   # 리스트 자료형 변수 생성\n",
    "\n",
    "for fn in fileName:\n",
    "    tmp=Image.open('./picture/'+fn+'.jpg')   # 그림 파일 열기\n",
    "    fName=fn+'.jpg'    # 파일명 생성\n",
    "    fm=tmp.format      # 파일 형식\n",
    "    fw=tmp.width       # 그림 너비\n",
    "    fh=tmp.height      # 그림 높이\n",
    "    prnData.append([fName, fm, fw, fh])   # prnData 리스트 변수에 데이터 추가\n",
    "    \n",
    "    tmpRes=tmp.resize((300, 300))  # 이미지 사이즈 변경\n",
    "    tmpRes.save('./data/'+fn+\"_300.jpg\")    \n",
    "\n",
    "print(\"===== End =====\")\n",
    "print(prnData)\n",
    "\n",
    "df=pd.DataFrame(prnData, columns=[\"파일명\", \"형식\", \"너비\", \"높이\"])\n",
    "df.to_csv('./파일정보.csv', encoding=\"cp949\")\n",
    "display(df)\n",
    "print(df)"
   ]
  },
  {
   "cell_type": "code",
   "execution_count": null,
   "id": "3026d6e1",
   "metadata": {},
   "outputs": [],
   "source": [
    "!pip install pandas"
   ]
  },
  {
   "cell_type": "markdown",
   "id": "cde02dde",
   "metadata": {},
   "source": [
    "### [미션]\n",
    "- picture 폴더의 파일명 전체 가져오기\n",
    "- 그림파일만 체크해서 읽어와 진행\n",
    "- 각 파일별 파일명, 사이즈 저장하기(각 파일별 속성 확인: filename, format, width, height)\n",
    "- 각 파일별 사이즈 300 * 300 변경 후 data 폴더에 저장하기\n",
    "- 저장 파일명: 파일명_300.jpg"
   ]
  },
  {
   "cell_type": "code",
   "execution_count": 1,
   "id": "73f1dec4",
   "metadata": {},
   "outputs": [
    {
     "ename": "NameError",
     "evalue": "name 'filename' is not defined",
     "output_type": "error",
     "traceback": [
      "\u001b[1;31m---------------------------------------------------------------------------\u001b[0m",
      "\u001b[1;31mNameError\u001b[0m                                 Traceback (most recent call last)",
      "\u001b[1;32m<ipython-input-1-b2d58c15c55e>\u001b[0m in \u001b[0;36m<module>\u001b[1;34m\u001b[0m\n\u001b[0;32m      5\u001b[0m \u001b[0mfileDir\u001b[0m\u001b[1;33m=\u001b[0m\u001b[1;34m\"./picture/\"\u001b[0m\u001b[1;33m\u001b[0m\u001b[1;33m\u001b[0m\u001b[0m\n\u001b[0;32m      6\u001b[0m \u001b[0mfileName\u001b[0m\u001b[1;33m=\u001b[0m\u001b[0mos\u001b[0m\u001b[1;33m.\u001b[0m\u001b[0mlistdir\u001b[0m\u001b[1;33m(\u001b[0m\u001b[0mfileDir\u001b[0m\u001b[1;33m)\u001b[0m\u001b[1;33m\u001b[0m\u001b[1;33m\u001b[0m\u001b[0m\n\u001b[1;32m----> 7\u001b[1;33m \u001b[0mprint\u001b[0m\u001b[1;33m(\u001b[0m\u001b[0mfilename\u001b[0m\u001b[1;33m)\u001b[0m\u001b[1;33m\u001b[0m\u001b[1;33m\u001b[0m\u001b[0m\n\u001b[0m\u001b[0;32m      8\u001b[0m \u001b[0mprnData\u001b[0m\u001b[1;33m=\u001b[0m\u001b[1;33m[\u001b[0m\u001b[1;33m]\u001b[0m\u001b[1;33m\u001b[0m\u001b[1;33m\u001b[0m\u001b[0m\n\u001b[0;32m      9\u001b[0m \u001b[1;33m\u001b[0m\u001b[0m\n",
      "\u001b[1;31mNameError\u001b[0m: name 'filename' is not defined"
     ]
    }
   ],
   "source": [
    "from PIL import Image\n",
    "import pandas as pd\n",
    "import os\n",
    "\n",
    "fileDir=\"./picture/\"\n",
    "fileName=os.listdir(fileDir)\n",
    "prnData=[]\n",
    "\n",
    "for fn in fileName:\n",
    "    if fn.split(\".\")[-1] == \"jpg\":\n",
    "        tmp=Image.open(fileDir+fn)\n",
    "        fm=tmp.format\n",
    "        fw=tmp.width\n",
    "        fh=tmp.height\n",
    "        prnData.append([fn, fm, fw, fh])  \n",
    "        # prnData.append({\"파일명\":fn, \"형식\":fm, \"너비\":fw, \"높이\":fh})\n",
    "        tmpRes=tmp.resize((300,300))\n",
    "        tmpRes.save('./data/'+fn.split(\".\")[0]+\"_300.\"+fn.split(\".\")[-1])\n",
    "\n",
    "df=pd.DataFrame(prnData, columns=[\"파일명\", \"형식\", \"너비\", \"높이\"])\n",
    "display(df)\n",
    "print(\"==== 작업 완료 ====\")"
   ]
  },
  {
   "cell_type": "code",
   "execution_count": null,
   "id": "6dd9766c",
   "metadata": {},
   "outputs": [],
   "source": []
  }
 ],
 "metadata": {
  "kernelspec": {
   "display_name": "Python 3",
   "language": "python",
   "name": "python3"
  },
  "language_info": {
   "codemirror_mode": {
    "name": "ipython",
    "version": 3
   },
   "file_extension": ".py",
   "mimetype": "text/x-python",
   "name": "python",
   "nbconvert_exporter": "python",
   "pygments_lexer": "ipython3",
   "version": "3.9.5"
  }
 },
 "nbformat": 4,
 "nbformat_minor": 5
}
