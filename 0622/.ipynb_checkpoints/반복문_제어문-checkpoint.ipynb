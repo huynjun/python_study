{
 "cells": [
  {
   "cell_type": "markdown",
   "id": "3cc2c677",
   "metadata": {},
   "source": [
    "### 반복문(for)\n"
   ]
  },
  {
   "cell_type": "code",
   "execution_count": 1,
   "id": "e014fe67",
   "metadata": {},
   "outputs": [],
   "source": [
    "inName=['홍길동', '박변수', '김수진', '허순이', '서정동']\n",
    "inAge=[33, 28, 49, 52, 54]"
   ]
  },
  {
   "cell_type": "markdown",
   "id": "f4ea8439",
   "metadata": {},
   "source": [
    "### for 변수 in 순차 데이터:"
   ]
  },
  {
   "cell_type": "code",
   "execution_count": 5,
   "id": "90c56b54",
   "metadata": {},
   "outputs": [
    {
     "name": "stdout",
     "output_type": "stream",
     "text": [
      "안녕하세요. 홍길동님\n",
      "안녕하세요. 박변수님\n",
      "안녕하세요. 김수진님\n",
      "안녕하세요. 허순이님\n",
      "안녕하세요. 서정동님\n"
     ]
    }
   ],
   "source": [
    "print(f'안녕하세요. {inName[0]}님')\n",
    "print(f'안녕하세요. {inName[1]}님')\n",
    "print(f'안녕하세요. {inName[2]}님')\n",
    "print(f'안녕하세요. {inName[3]}님')\n",
    "print(f'안녕하세요. {inName[4]}님')"
   ]
  },
  {
   "cell_type": "code",
   "execution_count": 9,
   "id": "7b636557",
   "metadata": {},
   "outputs": [
    {
     "name": "stdout",
     "output_type": "stream",
     "text": [
      "안녕하세요. 홍길동님\n",
      "안녕하세요. 박변수님\n",
      "안녕하세요. 김수진님\n",
      "안녕하세요. 허순이님\n",
      "안녕하세요. 서정동님\n",
      "=====End=====\n",
      "서정동\n"
     ]
    }
   ],
   "source": [
    "for name in inName:\n",
    "    print(f'안녕하세요. {name}님')\n",
    "\n",
    "print(\"=====End=====\")\n",
    "print(name)\n",
    "del name            #메모리에서 해당 개체(변수) 삭제"
   ]
  },
  {
   "cell_type": "markdown",
   "id": "c3946c2b",
   "metadata": {},
   "source": [
    "### for 변수 in range():\n",
    "- range(10) => 0 부터 시작해서 10개의 정수형 숫자 생성\n",
    "- range(5,10) => 0부터 시작해서 10개의 정수형 숫자 생성 하고 5부터 출력\n",
    "- range(1,10,2) => 0부터 시작해서 10개의 정수형 숫자 생성하고 1부터 2씩 증가하면서 출력"
   ]
  },
  {
   "cell_type": "code",
   "execution_count": 23,
   "id": "0865db83",
   "metadata": {},
   "outputs": [
    {
     "name": "stdout",
     "output_type": "stream",
     "text": [
      "이름: 홍길동, 나이:33\n",
      "이름: 박변수, 나이:28\n",
      "이름: 김수진, 나이:49\n",
      "이름: 허순이, 나이:52\n",
      "이름: 서정동, 나이:54\n"
     ]
    }
   ],
   "source": [
    "print(f'이름: {inName[0]}, 나이:{inAge[0]}')\n",
    "print(f'이름: {inName[1]}, 나이:{inAge[1]}')\n",
    "print(f'이름: {inName[2]}, 나이:{inAge[2]}')\n",
    "print(f'이름: {inName[3]}, 나이:{inAge[3]}')\n",
    "print(f'이름: {inName[4]}, 나이:{inAge[4]}')"
   ]
  },
  {
   "cell_type": "code",
   "execution_count": 24,
   "id": "d622db5f",
   "metadata": {},
   "outputs": [
    {
     "name": "stdout",
     "output_type": "stream",
     "text": [
      "[0, 1, 2, 3, 4, 5, 6, 7, 8, 9]\n",
      "[5, 6, 7, 8, 9]\n",
      "[2, 4, 6, 8]\n"
     ]
    }
   ],
   "source": [
    "print(list(range(10)))              #list(): 데이터를 리스트형 자료로 변경\n",
    "print(list(range(5,10)))\n",
    "print(list(range(2,10,2)))"
   ]
  },
  {
   "cell_type": "code",
   "execution_count": 26,
   "id": "11eceb29",
   "metadata": {},
   "outputs": [
    {
     "name": "stdout",
     "output_type": "stream",
     "text": [
      "이름: 홍길동, 나이:33\n",
      "이름: 박변수, 나이:28\n",
      "이름: 김수진, 나이:49\n",
      "이름: 허순이, 나이:52\n",
      "이름: 서정동, 나이:54\n",
      "=====끝=====\n"
     ]
    }
   ],
   "source": [
    "for i in range(5):\n",
    "    print(f'이름: {inName[i]}, 나이:{inAge[i]}')\n",
    "    \n",
    "print(\"=====끝=====\")"
   ]
  },
  {
   "cell_type": "markdown",
   "id": "e970f230",
   "metadata": {},
   "source": [
    "### Picture 폴더의 이미지 정보 가져와 저장하기\n",
    "- PIL의 image 모듈 : 이미지 처리 모듈\n",
    "- os 모듈 : 사용중인 시스템 모듈"
   ]
  },
  {
   "cell_type": "code",
   "execution_count": 27,
   "id": "6e4d13ec",
   "metadata": {},
   "outputs": [],
   "source": [
    "from PIL import Image\n",
    "import os"
   ]
  },
  {
   "cell_type": "code",
   "execution_count": 28,
   "id": "0e4677d7",
   "metadata": {},
   "outputs": [
    {
     "name": "stdout",
     "output_type": "stream",
     "text": [
      "['img1.jpg', 'img10.jpg', 'img11.jpg', 'img12.jpg', 'img13.jpg', 'img14.jpg', 'img15.jpg', 'img16.jpg', 'img17.jpg', 'img18.jpg', 'img19.jpg', 'img2.jpg', 'img20.jpg', 'img21.jpg', 'img22.jpg', 'img23.jpg', 'img24.jpg', 'img25.jpg', 'img26.jpg', 'img27.jpg', 'img28.jpg', 'img29.jpg', 'img3.jpg', 'img30.jpg', 'img4.jpg', 'img5.jpg', 'img6.jpg', 'img7.jpg', 'img8.jpg', 'img9.jpg', 'pic1.jpg', 'pic2.jpg', 'pic3.jpg']\n"
     ]
    }
   ],
   "source": [
    "fileDir=\"./picture/\"\n",
    "fileName=os.listdir(fileDir)\n",
    "print(fileName)"
   ]
  },
  {
   "cell_type": "code",
   "execution_count": 32,
   "id": "035d6136",
   "metadata": {},
   "outputs": [
    {
     "name": "stdout",
     "output_type": "stream",
     "text": [
      "파일명: img1.jpg\n",
      "(377, 400)\n"
     ]
    }
   ],
   "source": [
    "print(f'파일명: {fileName[0]}')\n",
    "\n",
    "tmp=Image.open(fileDir+fileName[0])\n",
    "print(tmp.size)"
   ]
  },
  {
   "cell_type": "code",
   "execution_count": null,
   "id": "dfa5efea",
   "metadata": {},
   "outputs": [],
   "source": []
  },
  {
   "cell_type": "code",
   "execution_count": null,
   "id": "deff588c",
   "metadata": {},
   "outputs": [],
   "source": []
  }
 ],
 "metadata": {
  "kernelspec": {
   "display_name": "Python 3",
   "language": "python",
   "name": "python3"
  },
  "language_info": {
   "codemirror_mode": {
    "name": "ipython",
    "version": 3
   },
   "file_extension": ".py",
   "mimetype": "text/x-python",
   "name": "python",
   "nbconvert_exporter": "python",
   "pygments_lexer": "ipython3",
   "version": "3.9.5"
  }
 },
 "nbformat": 4,
 "nbformat_minor": 5
}
