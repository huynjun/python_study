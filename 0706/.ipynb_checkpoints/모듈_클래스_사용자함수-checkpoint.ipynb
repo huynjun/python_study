{
 "cells": [
  {
   "cell_type": "markdown",
   "id": "2ec3901a",
   "metadata": {},
   "source": [
    "### 사용자 정의 함수 생성(실행함수)"
   ]
  },
  {
   "cell_type": "code",
   "execution_count": 32,
   "id": "3cf45af3",
   "metadata": {},
   "outputs": [
    {
     "name": "stdout",
     "output_type": "stream",
     "text": [
      "x=10, y=10, z=10, 합계=30\n",
      "x=20, y=20, z=20, 합계=60\n"
     ]
    }
   ],
   "source": [
    "\n",
    "def user_fun1(x, y, z=10):    # x,y,z 3개의 인수를 가지는 함수, z는 기본으로 10이 입력\n",
    "    tot=x+y+z\n",
    "    print(f'x={x}, y={y}, z={z}, 합계={tot}')\n",
    "\n",
    "user_fun1(10,10) #def 정의돈 함수 호출 z값 생략=기본값10 입력\n",
    "user_fun1(20,20,20) #def 정의돈 함수 호출 z값20 이 기본값대신 들어감\n",
    "\n"
   ]
  },
  {
   "cell_type": "markdown",
   "id": "4d6b8eae",
   "metadata": {},
   "source": [
    "### 사용자 정의 함수 생성(계산 결과를 돌려주는 함수)"
   ]
  },
  {
   "cell_type": "code",
   "execution_count": 31,
   "id": "397a349f",
   "metadata": {},
   "outputs": [
    {
     "name": "stdout",
     "output_type": "stream",
     "text": [
      "tot=30, p_tot=30\n"
     ]
    }
   ],
   "source": [
    "def user_fun2(x,y,z):\n",
    "    global tot            # 전역변수\n",
    "    tot=x+y+z              #x,y,z,tot 변수는 def 함수 안에서만 사용하는 지역변수\n",
    "    return tot\n",
    "\n",
    "tot=10\n",
    "p_tot=user_fun2(10, 10, 10)\n",
    "\n",
    "print(f'tot={tot}, p_tot={p_tot}')\n",
    "\n"
   ]
  },
  {
   "cell_type": "code",
   "execution_count": 38,
   "id": "b83447ac",
   "metadata": {},
   "outputs": [
    {
     "name": "stdout",
     "output_type": "stream",
     "text": [
      "x=10, y=10, z=10, 합계=30\n",
      "x=20, y=20, z=20, 합계=60\n",
      "tot=30, p_tot=300\n"
     ]
    }
   ],
   "source": [
    "class Fun_cls:\n",
    "    ## 사용자 정의 함수 생성(실행함수)/ 클래스 기준인스턴스 속성\n",
    "    def user_fun1(x, y, z=10):    # x,y,z 3개의 인수를 가지는 함수, z는 기본으로 10이 입력\n",
    "        tot=x+y+z\n",
    "        print(f'x={x}, y={y}, z={z}, 합계={tot}')\n",
    "\n",
    "    \n",
    "    def user_fun2(x,y,z):\n",
    "              \n",
    "        tot=x+y+z  #x,y,z,tot 변수는 def 함수 안에서만 사용하는 지역변수\n",
    "        p_tot=tot*10\n",
    "        return tot, p_tot\n",
    "\n",
    "\n",
    "\n",
    "Fun_cls.user_fun1(10,10) #def 정의돈 함수 호출 z값 생략=기본값10 입력\n",
    "Fun_cls.user_fun1(20,20,20) #def 정의돈 함수 호출 z값20 이 기본값대신 들어감\n",
    "    \n",
    "fl=Fun_cls\n",
    "    \n",
    "    \n",
    "    \n",
    "tot, p_tot=fl.user_fun2(10, 10, 10)\n",
    "\n",
    "print(f'tot={tot}, p_tot={p_tot}')\n",
    "\n"
   ]
  },
  {
   "cell_type": "code",
   "execution_count": null,
   "id": "aada3d22",
   "metadata": {},
   "outputs": [],
   "source": []
  }
 ],
 "metadata": {
  "kernelspec": {
   "display_name": "Python 3",
   "language": "python",
   "name": "python3"
  },
  "language_info": {
   "codemirror_mode": {
    "name": "ipython",
    "version": 3
   },
   "file_extension": ".py",
   "mimetype": "text/x-python",
   "name": "python",
   "nbconvert_exporter": "python",
   "pygments_lexer": "ipython3",
   "version": "3.9.5"
  }
 },
 "nbformat": 4,
 "nbformat_minor": 5
}
