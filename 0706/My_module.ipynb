{
 "cells": [
  {
   "cell_type": "code",
   "execution_count": 7,
   "id": "b9931bcb",
   "metadata": {},
   "outputs": [],
   "source": [
    "import Modal_Class as MC\n",
    "from Modal_Class import FourCal\n",
    "\n",
    "\n"
   ]
  },
  {
   "cell_type": "markdown",
   "id": "4ac3f61b",
   "metadata": {},
   "source": [
    "### 클래스 상속"
   ]
  },
  {
   "cell_type": "code",
   "execution_count": 17,
   "id": "eb5176c9",
   "metadata": {},
   "outputs": [
    {
     "name": "stdout",
     "output_type": "stream",
     "text": [
      "x=20, y=10, z=10, 합계=40\n",
      "10.0\n",
      "30 50 None\n",
      "10\n",
      "20\n",
      "30\n"
     ]
    }
   ],
   "source": [
    "class FourCal_chr(FourCal):\n",
    "    def __init__(self, number):\n",
    "        super().__init__()\n",
    "        self.number=number  \n",
    "        \n",
    "    def add_2(self, number):   \n",
    "        self.number=self.number+self.result\n",
    "        return self.number\n",
    "        \n",
    "\n",
    "        \n",
    "MC.Fun_cls.usr_fun1(20,10,10)\n",
    "obj1=FourCal()\n",
    "padd1=obj1.add(30)\n",
    "padd2=obj1.add(20)\n",
    "div1=obj1.Div(5)\n",
    "print(obj1.result)\n",
    "print(padd1, padd2, div1)\n",
    "\n",
    "\n",
    "\n",
    "\n",
    "obj2=FourCal_chr(10)\n",
    "\n",
    "print(obj2.add(10))\n",
    "print(obj2.add(10))\n",
    "print(obj2.add_2(20))"
   ]
  },
  {
   "cell_type": "code",
   "execution_count": null,
   "id": "d22208d0",
   "metadata": {},
   "outputs": [],
   "source": []
  }
 ],
 "metadata": {
  "kernelspec": {
   "display_name": "Python 3",
   "language": "python",
   "name": "python3"
  },
  "language_info": {
   "codemirror_mode": {
    "name": "ipython",
    "version": 3
   },
   "file_extension": ".py",
   "mimetype": "text/x-python",
   "name": "python",
   "nbconvert_exporter": "python",
   "pygments_lexer": "ipython3",
   "version": "3.9.5"
  }
 },
 "nbformat": 4,
 "nbformat_minor": 5
}
