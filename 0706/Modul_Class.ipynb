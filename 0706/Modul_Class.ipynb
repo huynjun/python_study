{
 "cells": [
  {
   "cell_type": "code",
   "execution_count": 24,
   "id": "8c793dd3",
   "metadata": {},
   "outputs": [
    {
     "name": "stdout",
     "output_type": "stream",
     "text": [
      "FourCal 클래스 result= 0\n",
      "FourCal.add 계산후 result= 10\n",
      "FourCal.sub 계산후 result= 3\n",
      "FourCal 클래스 result= 10\n",
      "FourCal 클래스 result= 0\n"
     ]
    }
   ],
   "source": [
    "## 함\n",
    "class Fun_cls:\n",
    "    ### 사용자 정의 함수 생성(실행함수)\n",
    "    ### 인스턴스 객체\n",
    "    def usr_fun1(x, y, z=10):    # x, y, z 3개의 인수를 가지는 함수, z는 기본으로 10이 입력\n",
    "        tot=x+y+z\n",
    "        print(f'x={x}, y={y}, z={z}, 합계={tot}')\n",
    "\n",
    "    ### 사용자 정의 함수 생성(계산 결과를 돌려주는 함수)\n",
    "    def usr_fun2(x, y, z):\n",
    "        tot = x + y + z         # x, y, z, tot 변수는 def 함수 안에서만 사용하는 지역변수\n",
    "        p_tot=tot*10\n",
    "        return tot, p_tot\n",
    "\n",
    "## 사칙연산\n",
    "class FourCal: ### 생성자를 가지고 있는 클래스\n",
    "\n",
    "    def __init__(self):  # 생성자\n",
    "        self.result=0     #FourCal 속성\n",
    "\n",
    "    def add(self, num1):  # 함수/인스턴스/메서스\n",
    "        self.result = self.result + num1\n",
    "        return self.result\n",
    "\n",
    "    def sub(self, num1):\n",
    "        self.result=self.result-num1\n",
    "        return self.result\n",
    "    def mul(self,num1):\n",
    "        self.result=self.result*num1\n",
    "        return self.result\n",
    "    def Div(self,num1):\n",
    "        self.result=self.result/num1\n",
    "        return self.result\n",
    "\n",
    "if __name__ == '__main__':\n",
    "    fcal1=FourCal()    #FourCal 클래스를 이용해 fcal1 객체 생성\n",
    "    print('FourCal 클래스 result=',fcal1.result)\n",
    "    fcal1.add(10)\n",
    "    print('FourCal.add 계산후 result=',fcal1.result)\n",
    "    fcal1.sub(7)\n",
    "    print('FourCal.sub 계산후 result=',fcal1.result)\n",
    "\n",
    "\n",
    "    fcal1=FourCal()   \n",
    "    fcal2=FourCal()\n",
    "\n",
    "    fcal1.add(10)\n",
    "    print('FourCal 클래스 result=',fcal1.result)\n",
    "    print('FourCal 클래스 result=',fcal2.result)  "
   ]
  },
  {
   "cell_type": "code",
   "execution_count": null,
   "id": "9f6b3f53",
   "metadata": {},
   "outputs": [],
   "source": []
  },
  {
   "cell_type": "code",
   "execution_count": null,
   "id": "bab69c85",
   "metadata": {},
   "outputs": [],
   "source": []
  }
 ],
 "metadata": {
  "kernelspec": {
   "display_name": "Python 3",
   "language": "python",
   "name": "python3"
  },
  "language_info": {
   "codemirror_mode": {
    "name": "ipython",
    "version": 3
   },
   "file_extension": ".py",
   "mimetype": "text/x-python",
   "name": "python",
   "nbconvert_exporter": "python",
   "pygments_lexer": "ipython3",
   "version": "3.9.5"
  }
 },
 "nbformat": 4,
 "nbformat_minor": 5
}
