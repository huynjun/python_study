{
 "cells": [
  {
   "cell_type": "code",
   "execution_count": 5,
   "id": "c79f657e",
   "metadata": {},
   "outputs": [],
   "source": [
    "import requests\n",
    "from bs4 import BeautifulSoup as bs\n",
    "import pandas as pd\n",
    "from tqdm import tqdm"
   ]
  },
  {
   "cell_type": "markdown",
   "id": "d453beb9",
   "metadata": {},
   "source": [
    "### API 연결 및 데이터 파씽"
   ]
  },
  {
   "cell_type": "code",
   "execution_count": 6,
   "id": "05aa2b1e",
   "metadata": {},
   "outputs": [],
   "source": [
    "def url_parser(sDate, eDate, row=10):\n",
    "    ### API 연결 및 데이터 파씽\n",
    "    key=\"VFYXI%2F3A5kIk7QVsO1epAlZSb6ZtCO9N5VC%2FMF3pW6oZ7%2BsFrvH1Y9y0UfmVzTnA0k2FasoNM6t6JsY7%2BEwNEw%3D%3D\"\n",
    "\n",
    "    # 기본 url + 사용자 key\n",
    "    url=\"http://api.visitkorea.or.kr/openapi/service/rest/KorService/searchFestival?serviceKey=\" + key\n",
    "    url=url+\"&MobileOS=ETC&MobileApp=AppTest&arrange=A&listYN=Y\"   # 기본 필수 옵션\n",
    "    url=url+\"&numOfRows=\"+ str(row)   # 한페이지 출력 데이터 개수\n",
    "    url=url+\"&eventStartDate=\"+str(sDate)  # 조회 시작일\n",
    "    url=url+\"&eventEndDate=\"+str(eDate)\n",
    "    #print(url+\"\\n\\n\")\n",
    "    xml_soup=requests.get(url)\n",
    "    if xml_soup.status_code != 200:\n",
    "        print(\"API를 연결하지 못하였습니다.\")\n",
    "        exit()\n",
    "        \n",
    "    soup=bs(xml_soup.content, 'html.parser')  # xml_soup.text 변경 가능\n",
    "    \n",
    "    return soup\n"
   ]
  },
  {
   "cell_type": "markdown",
   "id": "fe1fc0d9",
   "metadata": {},
   "source": [
    "### 파씽한 데이터에서 원하는 데이터 추출 및 DataFrame로 변경"
   ]
  },
  {
   "cell_type": "code",
   "execution_count": 7,
   "id": "121a125c",
   "metadata": {},
   "outputs": [],
   "source": [
    "def tour_info(sDate, eDate, soup):\n",
    "    ### 파씽한 데이터에서 원하는 데이터 추출 및 DataFrame로 변경\n",
    "    row=soup.find('totalcount').text\n",
    "    re_soup=url_parser(sDate, eDate, row)\n",
    "    \n",
    "    items=re_soup.find_all('item')\n",
    "    df_list=[]\n",
    "    \n",
    "    for item in tqdm(items, desc=\"진행:\"):\n",
    "        staD=item.find('eventstartdate').text      # 축제 시작일\n",
    "        endD=item.find('eventenddate').get_text()  # 축제 종료일\n",
    "        titD=item.find('title').get_text()         # 축제명\n",
    "        try:\n",
    "            addD=item.find('addr1').get_text()         # 주소\n",
    "        except:\n",
    "            addD=\"온라인개최\"\n",
    "        try:\n",
    "            telD=item.find('tel').get_text()           # 전화\n",
    "        except:\n",
    "            telD=\"-\"\n",
    "        try:\n",
    "            lngD=item.find('mapx').text                # 경도\n",
    "            latD=item.find('mapy').get_text()          # 위도\n",
    "        except:\n",
    "            lngD=0\n",
    "            latD=0\n",
    "        \n",
    "        df_list.append({\"시작일\":staD, \"종료일\":endD, \"축제명\":titD,\n",
    "                        \"주소\":addD, \"연락처\":telD, '위도':latD, '경도':lngD})\n",
    "        \n",
    "    df1=pd.DataFrame(df_list)\n",
    "    \n",
    "    return df1"
   ]
  },
  {
   "cell_type": "markdown",
   "id": "b4336eeb",
   "metadata": {},
   "source": [
    "### 코드 실행"
   ]
  },
  {
   "cell_type": "code",
   "execution_count": null,
   "id": "6ecb1b9d",
   "metadata": {},
   "outputs": [],
   "source": [
    "# if __name__==\"__main__\":\n",
    "sDate=20190101\n",
    "eDate=20210101\n",
    "soup=url_parser(sDate, eDate)\n",
    "df1=tour_info(sDate, eDate, soup)\n",
    "#df1.to_csv('c:/pydata/tour_'+str(sDate)+\"_\"+str(eDate)+\".csv\", index=False)\n",
    "\n",
    "display(df1) #print(df1)"
   ]
  },
  {
   "cell_type": "markdown",
   "id": "a8c89c76",
   "metadata": {},
   "source": [
    "### 축제 데이터 분석\n",
    "- 1. 2020년~2021년 축제 건수 비교(시작일 기준)\n",
    "- 2. 축제유형(집합/비대면 축제)\n",
    "- 3. 지역별 축제 현황"
   ]
  },
  {
   "cell_type": "code",
   "execution_count": null,
   "id": "da32d847",
   "metadata": {},
   "outputs": [],
   "source": [
    "cnt19=0;cnt20=0;cnt21=0\n",
    "\n",
    "for cntDate in df1['시작일']:\n",
    "    if cntDate[:4] == \"2019\":\n",
    "        cnt19 += 1\n",
    "    elif cntDate[:4] == \"2020\":\n",
    "        cnt20 += 1\n",
    "    else:\n",
    "        cnt21 += 1\n",
    "        \n",
    "print(cnt19, cnt20, cnt21)\n",
    "        "
   ]
  },
  {
   "cell_type": "code",
   "execution_count": null,
   "id": "d2b0ac40",
   "metadata": {},
   "outputs": [],
   "source": [
    "df1['시작년']=df1['시작일'].str[:4]\n",
    "df2=df1.groupby('시작년')['축제명'].count()"
   ]
  },
  {
   "cell_type": "code",
   "execution_count": null,
   "id": "2772c74d",
   "metadata": {},
   "outputs": [],
   "source": [
    "import matplotlib.pyplot as plt\n",
    "\n",
    "df2.plot.bar()\n",
    "plt.show()"
   ]
  },
  {
   "cell_type": "code",
   "execution_count": null,
   "id": "a7a58948",
   "metadata": {},
   "outputs": [],
   "source": [
    "df1['시작일']=pd.to_datetime(df1['시작일'])\n",
    "df1['종료일']=pd.to_datetime(df1.종료일)\n",
    "df1.dtypes"
   ]
  },
  {
   "cell_type": "code",
   "execution_count": null,
   "id": "82af46f6",
   "metadata": {},
   "outputs": [],
   "source": [
    "df1['시작년']=df1['시작일'].dt.year\n",
    "df1['시작월']=df1['시작일'].dt.month\n",
    "\n",
    "df2=df1.groupby('시작년')['축제명'].count()\n",
    "df2.plot.barh()"
   ]
  },
  {
   "cell_type": "markdown",
   "id": "c60b699c",
   "metadata": {},
   "source": [
    "- 축제 시작년/시작월을 기분으로 groupby \n",
    "- concat()으로 열 추가하기"
   ]
  },
  {
   "cell_type": "code",
   "execution_count": null,
   "id": "ce4d8726",
   "metadata": {},
   "outputs": [],
   "source": [
    "df2=df1.groupby(['시작년', '시작월'])['축제명'].count()   # 축제 시작년/시작월 기준 건수 확인\n",
    "df2=df2.reset_index()   # '시작년', '시작월'을 데이터로 사용하기 위해 index 재설정\n",
    "#print(df2[df2['시작년']==2021].set_index('시작월'))\n",
    "\n",
    "df3 = df2[df2['시작년']==2021].set_index('시작월')   # index 시작월로 재설정\n",
    "df4 = df2[df2['시작년']==2020].set_index('시작월')\n",
    "\n",
    "df3 = df3.rename(columns = {df3.columns[1]: '2021Y'})       # 각각의 재설정 데이터의 열 이름 변경\n",
    "df4 = df4.rename(columns = {df4.columns[1]: '2020Y'})\n",
    "\n",
    "df2 = pd.concat([df3, df4], axis = 1)    # df3를 기준으로 열 추가 => 결과 df2 저장\n",
    "del df3, df4  # df3, df4 삭제\n",
    "\n",
    "df2.drop('시작년', axis=1, inplace=True)\n",
    "print(df2)"
   ]
  },
  {
   "cell_type": "code",
   "execution_count": null,
   "id": "df374ab7",
   "metadata": {},
   "outputs": [],
   "source": [
    "df3=df1.groupby(['시작년', '시작월'])['축제명'].count()\n",
    "df3=df3.reset_index()\n",
    "#print(df2[df2['시작년']==2021].set_index('시작월'))\n",
    "\n",
    "df3=pd.concat([df3[df3['시작년']==2021].set_index('시작월'),\n",
    "               df3[df3['시작년']==2020].set_index('시작월')], axis=1)\n",
    "df3.drop('시작년', axis=1, inplace=True)\n",
    "print(df3)"
   ]
  },
  {
   "cell_type": "code",
   "execution_count": null,
   "id": "7b83b855",
   "metadata": {},
   "outputs": [],
   "source": [
    "df2=df2.fillna(0)\n",
    "df3=df3.fillna(0)\n",
    "print(df2[\"2020Y\"])\n",
    "print(df3.iloc[:, 1])"
   ]
  },
  {
   "cell_type": "code",
   "execution_count": null,
   "id": "a7d6fb7c",
   "metadata": {},
   "outputs": [],
   "source": [
    "df2.plot.bar()\n",
    "plt.show()"
   ]
  },
  {
   "cell_type": "code",
   "execution_count": null,
   "id": "f0a29d03",
   "metadata": {},
   "outputs": [],
   "source": [
    "df3.iloc[:, 0].plot.bar()\n",
    "plt.title('2021Y')\n",
    "plt.show()\n",
    "df3.iloc[:, 1].plot.bar()\n",
    "plt.title('2020Y')\n",
    "plt.show()"
   ]
  },
  {
   "cell_type": "code",
   "execution_count": null,
   "id": "339d81f1",
   "metadata": {},
   "outputs": [],
   "source": [
    "print(df1[(df1['주소']==\"온라인개최\")&(df1['시작년']==2020)]['주소'].count())\n",
    "print(df1[(df1['주소']!=\"온라인개최\")&(df1['시작년']==2020)]['주소'].count())"
   ]
  },
  {
   "cell_type": "code",
   "execution_count": null,
   "id": "b75fda4f",
   "metadata": {},
   "outputs": [],
   "source": [
    "print(df1[(df1['주소']==\"온라인개최\")&(df1['시작년']==2021)]['주소'].count())\n",
    "print(df1[(df1['주소']!=\"온라인개최\")&(df1['시작년']==2021)]['주소'].count())"
   ]
  },
  {
   "cell_type": "code",
   "execution_count": null,
   "id": "a7fffd24",
   "metadata": {},
   "outputs": [],
   "source": [
    "pList=[]\n",
    "pList.append([df1[(df1['주소']==\"온라인개최\")&(df1['시작년']==2020)]['주소'].count(),\n",
    "              df1[(df1['주소']!=\"온라인개최\")&(df1['시작년']==2020)]['주소'].count()])\n",
    "pList.append([df1[(df1['주소']==\"온라인개최\")&(df1['시작년']==2021)]['주소'].count(),\n",
    "              df1[(df1['주소']!=\"온라인개최\")&(df1['시작년']==2021)]['주소'].count()])\n",
    "\n",
    "pList"
   ]
  },
  {
   "cell_type": "code",
   "execution_count": null,
   "id": "a4fd33af",
   "metadata": {},
   "outputs": [],
   "source": [
    "df2=pd.DataFrame(pList, columns=[\"온라인\", '오프라인'], index=[\"2020년\", \"2021년\"])\n",
    "print(df2)"
   ]
  },
  {
   "cell_type": "code",
   "execution_count": null,
   "id": "83d4a311",
   "metadata": {},
   "outputs": [],
   "source": [
    "from matplotlib import font_manager\n",
    "\n",
    "font_family = font_manager.FontProperties(fname='C:/Windows/Fonts/malgunsl.ttf').get_name()\n",
    "plt.rc('font', family=font_family)\n",
    "\n",
    "df2.plot.bar(rot=0)\n",
    "\n",
    "plt.show()"
   ]
  },
  {
   "cell_type": "code",
   "execution_count": null,
   "id": "e6b80064",
   "metadata": {},
   "outputs": [],
   "source": [
    "#!pip install seaborn"
   ]
  },
  {
   "cell_type": "code",
   "execution_count": null,
   "id": "f6031f2a",
   "metadata": {},
   "outputs": [],
   "source": [
    "import seaborn as sns\n",
    "fig=plt.figure(figsize=(10, 5))\n",
    "\n",
    "#ax1=fig.add_subplot(1, 2, 1)\n",
    "#ax2=fig.add_subplot(1, 2, 2)\n",
    "\n",
    "plt.subplot(1,2,1)\n",
    "x=list(df2.iloc[0])\n",
    "xlab=df2.columns\n",
    "plt.pie(x, labels=xlab, autopct=\"%.1f%%\")\n",
    "plt.title('2020년')\n",
    "\n",
    "plt.subplot(1,2,2)\n",
    "x=list(df2.iloc[1])\n",
    "xlab=df2.columns\n",
    "plt.pie(x, labels=xlab, autopct=\"%.1f%%\")\n",
    "plt.title('2021년')\n",
    "\n",
    "plt.show()"
   ]
  },
  {
   "cell_type": "code",
   "execution_count": null,
   "id": "3b76cd4a",
   "metadata": {},
   "outputs": [],
   "source": [
    "[df2.iloc[0, 0], df2.iloc[0, 1]]"
   ]
  },
  {
   "cell_type": "code",
   "execution_count": null,
   "id": "17727102",
   "metadata": {},
   "outputs": [],
   "source": [
    "print(list(df2.loc[\"2020년\"]))\n",
    "print(list(df2.iloc[0]))"
   ]
  },
  {
   "cell_type": "markdown",
   "id": "71b455b8",
   "metadata": {},
   "source": [
    "#### 지역별 축제 현황[각자 코딩]\n",
    "- 주소를 \" \" 기준으로 나누어 첫번째 값 선택\n",
    "- 해당 값을 이용해서 '지역' 열 생성 및 데이터 추가\n",
    "- 지역별 축제 현황 분석(현황 테이블화, 시각화-막대그래프, 원그래프, *히트맵 그래프)"
   ]
  },
  {
   "cell_type": "code",
   "execution_count": null,
   "id": "4f1d54c7",
   "metadata": {},
   "outputs": [],
   "source": [
    "lodata=['세종','경북','부산','서울', '서울시', '전남', '백종원','충북', '대구', \n",
    "        '울산', '강원', '경남', '제주', '비대면개최', '경기']\n",
    "updata=['세종특별자치시','경상북도','부산광역시','서울특별시','서울특별시', \n",
    "        \"전라남도\", \"충청남도\", '충청북도', '대구광역시', '울산광역시',\n",
    "        '강원도', '경상남도', '제주특별자치도', '온라인개최', '경기도']\n",
    "\n",
    "for i in range(len(lodata)):\n",
    "    df[df['지역']==lodata[i]]=updata[i]\n",
    "    \n",
    "df1['지역'].unique()\n"
   ]
  },
  {
   "cell_type": "markdown",
   "id": "89f263b0",
   "metadata": {},
   "source": [
    "### 지도에 축제 위치 출력하기\n",
    "- folium 모듈"
   ]
  },
  {
   "cell_type": "code",
   "execution_count": null,
   "id": "a2ef9e5c",
   "metadata": {},
   "outputs": [],
   "source": [
    "#!pip install folium"
   ]
  },
  {
   "cell_type": "code",
   "execution_count": null,
   "id": "4107f656",
   "metadata": {},
   "outputs": [],
   "source": [
    "import folium"
   ]
  },
  {
   "cell_type": "code",
   "execution_count": null,
   "id": "5dcbaabe",
   "metadata": {},
   "outputs": [],
   "source": [
    "umap=folium.Map(location=[37.503386, 127.049797], zoom_start=15)    # 기본 맵 생성, zoom_start=15 :확대/축소\n",
    "\n",
    "### 생성된 맵에 Marker(위치기호)를 추가한다.\n",
    "folium.Marker(location=[37.503386, 127.049797], \n",
    "              icon=folium.Icon(color='red'), \n",
    "              popup='강의장').add_to(umap)\n",
    "\n",
    "umap.save('c:/pydata/강의장.html')"
   ]
  },
  {
   "cell_type": "code",
   "execution_count": null,
   "id": "32406453",
   "metadata": {},
   "outputs": [],
   "source": [
    "df2=df1[(df1['위도']!=0)&(df1['시작년']==2021)]\n",
    "\n",
    "umap=folium.Map(location=[37.503386, 127.049797], zoom_start=15)\n",
    "\n",
    "for inx in df2.index:\n",
    "    folium.Marker(location=[df2.loc[inx,\"위도\"], df2.loc[inx,'경도']], \n",
    "                  icon=folium.Icon(color='red'), \n",
    "                  popup=df2.loc[inx,\"축제명\"]).add_to(umap)\n",
    "\n",
    "umap.save('c:/pydata/2021년_축제정보.html')"
   ]
  },
  {
   "cell_type": "code",
   "execution_count": null,
   "id": "722605c7",
   "metadata": {},
   "outputs": [],
   "source": [
    "umap=folium.Map(location=[37.503386, 127.049797], zoom_start=15) \n",
    "\n",
    "### 지도에 동그라미 표시\n",
    "folium.CircleMarker([37.503386, 127.049797],\n",
    "                    color=\"red\",\n",
    "                    fill_color=\"#ffffgg\",\n",
    "                    radius = 10, \n",
    "                    popup=\"강의장\").add_to(umap)\n",
    "\n",
    "umap"
   ]
  },
  {
   "cell_type": "code",
   "execution_count": null,
   "id": "e6a55878",
   "metadata": {},
   "outputs": [],
   "source": []
  },
  {
   "cell_type": "code",
   "execution_count": null,
   "id": "0fb21ff8",
   "metadata": {},
   "outputs": [],
   "source": []
  }
 ],
 "metadata": {
  "kernelspec": {
   "display_name": "Python 3",
   "language": "python",
   "name": "python3"
  },
  "language_info": {
   "codemirror_mode": {
    "name": "ipython",
    "version": 3
   },
   "file_extension": ".py",
   "mimetype": "text/x-python",
   "name": "python",
   "nbconvert_exporter": "python",
   "pygments_lexer": "ipython3",
   "version": "3.9.5"
  }
 },
 "nbformat": 4,
 "nbformat_minor": 5
}
