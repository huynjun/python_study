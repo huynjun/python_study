{
 "cells": [
  {
   "cell_type": "markdown",
   "id": "0090c97d",
   "metadata": {},
   "source": [
    "### 조회를 위한 시작/종료일 입력 및 확인"
   ]
  },
  {
   "cell_type": "code",
   "execution_count": null,
   "id": "abc518ed",
   "metadata": {},
   "outputs": [],
   "source": [
    "def main():\n",
    "    #시작일 입력\n",
    "    while True:\n",
    "        sDate=input('시작일을 입력하세요.(예:20210401)')  #'20210301' \n",
    "        \n",
    "        if len(sDate)!=8:\n",
    "            print('\"20210401\"과 같이 8자리로 입력해주세요')\n",
    "            continue\n",
    "        try:\n",
    "            sd=int(sDate)\n",
    "            break\n",
    "        except:\n",
    "            print('문자가 포함되어 있습니다. 다시 입력해주세요.')\n",
    "            continue\n",
    "    #종료일 입력\n",
    "    while True:\n",
    "        eDate=input('종료일을 입력하세요.(예:20210401)') # '20210331'\n",
    "        if len(eDate)!=8:\n",
    "            print('\"20210401\"과 같이 8자리로 입력해주세요')\n",
    "            continue          \n",
    "        try:\n",
    "            sd=int(eDate)\n",
    "            today=datetime.today()\n",
    "            newDate = today.strftime('%Y%m%d')\n",
    "            if sd >= int(newDate):\n",
    "                print('데이터는 당일 이전 자료까지만 제공됩닏.\\n다시 입력해주세요')\n",
    "                continue\n",
    "                \n",
    "            if int(sDate)> sd:\n",
    "                print('종료일이 시작일보다 이전 날짜입니다.\\n다시 입력해주세요')\n",
    "                continue\n",
    "            break\n",
    "        except:\n",
    "            print('문자가 포함되어 있습니다. 다시 입력해주세요.')\n",
    "            continue\n",
    "    \n",
    "    regionName=input('검색할 지점명을 입력하세요.')\n",
    "    if regionName==\"\":\n",
    "        startWeatherData(sDate, eDate)\n",
    "    else:\n",
    "        startWeatherData(sDate, eDate, regionName)\n",
    "\n"
   ]
  },
  {
   "cell_type": "markdown",
   "id": "1b930c58",
   "metadata": {},
   "source": [
    "### 요청 지역 날씨 데이터 가져오기"
   ]
  },
  {
   "cell_type": "code",
   "execution_count": null,
   "id": "e5dc6d85",
   "metadata": {},
   "outputs": [],
   "source": [
    "def startWeatherData(sDate, eDate, regionName='서울'):   # 데이터 처리\n",
    "    pointID=getRegionalCode(regionName)        # 지점코드 \n",
    "    \n",
    "    url=getRegionalUrl(sDate, eDate, pointID)  # 기본 url 생성\n",
    "    response = urllib.request.urlopen(url)     # url을 이용한 정보 요청\n",
    "    rescode = response.getcode()               # 요청값 가져오기\n",
    "    if(rescode!=200):                          # 요청값 정상 여부 확인\n",
    "        raise Exception(\"Error Code:\" + rescode)\n",
    "        \n",
    "    numRows = int(json.loads(response.read())['response']['body']['totalCount']) # 전체 조회 데이터 개수 추출\n",
    "    urlNew=getRegionalUrl(sDate, eDate, pointID, numRows)  # 전체 조회데이터 개수를 이용한 새로운 url 생성\n",
    "    items=getJson(urlNew)      # 전체 데이터 url을 이용한 데이터 추출\n",
    "    # print(items)\n",
    "    return_df=getWeatherData(items)   # 가져온 데이터를 이용한 원하는 값 DataFrame 형식으로 출력\n",
    "    \n",
    "    saveWeatherData(sDate, eDate, regionName, return_df) # 데이터 저장\n",
    "    print('저장되었습니다.')\n"
   ]
  },
  {
   "cell_type": "markdown",
   "id": "39271a62",
   "metadata": {},
   "source": [
    "### 데이터 저장"
   ]
  },
  {
   "cell_type": "code",
   "execution_count": null,
   "id": "7946b9f5",
   "metadata": {},
   "outputs": [],
   "source": [
    "def saveWeatherData(sDate, eDate, regionName, return_df):  \n",
    "    filename = \"\"\n",
    "    if sDate == eDate:\n",
    "        filename = f\"{regionName}_일별기상정보_{sDate}.csv\"   # 시작일과 종료일이 같은 경우\n",
    "    else:\n",
    "        filename = f\"{regionName}_일별기상정보_{sDate}_{eDate}.csv\"  # 시작일과 종료일이 다른 경우\n",
    "        \n",
    "    return_df.to_csv('c:/pydata/' + filename, encoding='cp949', index=False)\n"
   ]
  },
  {
   "cell_type": "markdown",
   "id": "65274964",
   "metadata": {},
   "source": [
    "### 연결 데이터에서 원하는 데이터 가져오기"
   ]
  },
  {
   "cell_type": "code",
   "execution_count": null,
   "id": "eade2860",
   "metadata": {},
   "outputs": [],
   "source": [
    "def getWeatherData(items):\n",
    "    tmpList = []\n",
    "    for item in items:\n",
    "        tmpList.append([item['stnNm'], item['tm'], item['avgTa'], item['minTa'], item['maxTa'], item['sumRn']])\n",
    "    return pd.DataFrame(tmpList, columns=['지점명', '날짜', '평균기온', '최저기온', '최고기온', '일강수량'])\n"
   ]
  },
  {
   "cell_type": "markdown",
   "id": "f0cdf1d5",
   "metadata": {},
   "source": [
    "### Json 파일 읽어오기"
   ]
  },
  {
   "cell_type": "code",
   "execution_count": null,
   "id": "58b057d4",
   "metadata": {},
   "outputs": [],
   "source": [
    "def getJson(urlNew):\n",
    "    response = urllib.request.urlopen(urlNew)\n",
    "    rescode = response.getcode()\n",
    "    if(rescode==200):\n",
    "        return json.loads(response.read())['response']['body']['items']['item']\n",
    "    else:\n",
    "        raise Exception(\"Error Code:\" + rescode)\n"
   ]
  },
  {
   "cell_type": "markdown",
   "id": "dea5fc83",
   "metadata": {},
   "source": [
    "### url 생성하기"
   ]
  },
  {
   "cell_type": "code",
   "execution_count": null,
   "id": "9428900f",
   "metadata": {},
   "outputs": [],
   "source": [
    "def getRegionalUrl(sDate, eDate, pointID, numRow=10):  # url 생성\n",
    "    Key='5oaL5XF7nxzVRPO3HpIwVCoC4CQBQx9tcB5WqEJnT%2FFA9KUyD7HAktzqQFC6xRqGSstXpp%2BSNVA6MjfX6%2BJlEQ%3D%3D'\n",
    "    url='http://apis.data.go.kr/1360000/AsosDalyInfoService/getWthrDataList?serviceKey='\n",
    "    url=url+Key+'&dataType=JSON&numOfRows='+str(numRow)+'&pageNo=1&dataCd=ASOS&dateCd=DAY&startDt='+sDate+'&endDt='+eDate+'&stnIds='+str(pointID)\n",
    "    #print(url)\n",
    "    return url\n"
   ]
  },
  {
   "cell_type": "markdown",
   "id": "bd1f19fb",
   "metadata": {},
   "source": [
    "### 지점 코드 가져오기"
   ]
  },
  {
   "cell_type": "code",
   "execution_count": null,
   "id": "ab27bfad",
   "metadata": {},
   "outputs": [],
   "source": [
    "def getRegionalCode(inputRegName):  # 검측 지점코드 취득\n",
    "    \n",
    "    df_RegCode = pd.read_csv('c:/pydata/지역코드.csv', encoding='cp949')\n",
    "    regCode=df_RegCode[df_RegCode['지점명']==inputRegName]\n",
    "    \n",
    "    if len(regCode)== 1:\n",
    "        return int(regCode['지점'].values)\n",
    "    else:\n",
    "        # 사용자에 의해서 강제로 에러 발생\n",
    "        raise Exception(f\"해당 지역명이 없습니다.\\n지역명을 확인하고 다시 입력해주세요\\n\\n{inputRegName}\")\n"
   ]
  },
  {
   "cell_type": "markdown",
   "id": "5304f4d4",
   "metadata": {},
   "source": [
    "### 코드 실행부분"
   ]
  },
  {
   "cell_type": "code",
   "execution_count": 32,
   "id": "24a90866",
   "metadata": {},
   "outputs": [
    {
     "name": "stdout",
     "output_type": "stream",
     "text": [
      "시작일을 입력하세요.(예:20210401)20210101\n",
      "종료일을 입력하세요.(예:20210401)20210710\n",
      "검색할 지점명을 입력하세요.부산\n",
      "저장되었습니다.\n"
     ]
    }
   ],
   "source": [
    "import pandas as pd\n",
    "import os\n",
    "from datetime import datetime, timedelta\n",
    "import urllib.request\n",
    "import json\n",
    "\n",
    "if __name__=='__main__':\n",
    "    main()"
   ]
  },
  {
   "cell_type": "code",
   "execution_count": null,
   "id": "f463b970",
   "metadata": {},
   "outputs": [],
   "source": []
  }
 ],
 "metadata": {
  "kernelspec": {
   "display_name": "Python 3",
   "language": "python",
   "name": "python3"
  },
  "language_info": {
   "codemirror_mode": {
    "name": "ipython",
    "version": 3
   },
   "file_extension": ".py",
   "mimetype": "text/x-python",
   "name": "python",
   "nbconvert_exporter": "python",
   "pygments_lexer": "ipython3",
   "version": "3.9.5"
  }
 },
 "nbformat": 4,
 "nbformat_minor": 5
}
