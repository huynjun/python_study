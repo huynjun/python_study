{
 "cells": [
  {
   "cell_type": "markdown",
   "id": "10b6448c",
   "metadata": {},
   "source": [
    "### API를 이용한 지하철 탑승현황 분석 기본"
   ]
  },
  {
   "cell_type": "code",
   "execution_count": 3,
   "id": "5e90b366",
   "metadata": {},
   "outputs": [],
   "source": [
    "import pandas as pd\n",
    "import requests\n",
    "from bs4 import BeautifulSoup as bs\n",
    "from tqdm import tqdm\n"
   ]
  },
  {
   "cell_type": "code",
   "execution_count": 29,
   "id": "f9669e64",
   "metadata": {},
   "outputs": [
    {
     "name": "stdout",
     "output_type": "stream",
     "text": [
      "조회 시작일 입력(예:20210708: 20200108\n",
      "          사용일   라인    역명     승차     하차\n",
      "0    20200108  1호선   서울역  58754  53792\n",
      "1    20200108  1호선    시청  27996  28663\n",
      "2    20200108  1호선    종각  49926  48608\n",
      "3    20200108  1호선  종로3가  37405  35497\n",
      "4    20200108  1호선  종로5가  29338  29116\n",
      "..        ...  ...   ...    ...    ...\n",
      "587  20200108  중앙선    오빈    325    302\n",
      "588  20200108  중앙선    양평   3562   3679\n",
      "589  20200108  중앙선    원덕    391    390\n",
      "590  20200108  중앙선    용문   1719   1721\n",
      "591  20200108  중앙선    지평     55     33\n",
      "\n",
      "[592 rows x 5 columns]\n"
     ]
    }
   ],
   "source": [
    "def url_print(tdate, uRow=5):\n",
    "    uKey=\"7672746155736a6436336451676175\"\n",
    "    url_gibon=\"http://openapi.seoul.go.kr:8088/\"+uKey\n",
    "    url_obj=\"/xml/CardSubwayStatsNew/\"\n",
    "    url_row=\"1/\"+str(uRow)+'/'\n",
    "    url_date=str(tdate)\n",
    "    url=url_gibon+url_obj+url_row+url_date\n",
    "    return url\n",
    "\n",
    "\n",
    "\n",
    "def html_parser(url):\n",
    "    # url을 이용한 사이트 파씽\n",
    "    url_xml=requests.get(url)\n",
    "\n",
    "    if url_xml.status_code != 200:\n",
    "        print('데이터를 가져오지 못했습니다.')\n",
    "        efit()\n",
    "\n",
    "    seoul_sw_soup=bs(url_xml.content, 'html.parser')\n",
    "    return seoul_sw_soup\n",
    "\n",
    "def seoul_sw_pandas(seoul_sw_soup):\n",
    "    xml_row=seoul_sw_soup.find_all('row')\n",
    "    xml_txt=[]\n",
    "    for row in xml_row:\n",
    "        dt=row.find('use_dt').text\n",
    "        line=row.find('line_num').text\n",
    "        sub_sta=row.find('sub_sta_nm').text\n",
    "        ride=row.find('ride_pasgr_num').text\n",
    "        alight=row.find('alight_pasgr_num').text\n",
    "        xml_txt.append([dt, line, sub_sta, ride, alight])\n",
    "\n",
    "    df=pd.DataFrame(xml_txt, columns=['사용일', '라인', '역명', '승차', '하차'])\n",
    "    return df\n",
    "\n",
    "    \n",
    "    \n",
    "    \n",
    "    \n",
    "    \n",
    "    \n",
    "    \n",
    "    \n",
    "sDt=input('조회 시작일 입력(예:20210708: ')\n",
    "eDt=input('조회 종료일 입력(예:20210708: ')\n",
    "url=url_print(sDt, 5)\n",
    "seoul_sw_soup=html_parser(url)    # 한페이지에 5개의 데이터가 출력된 url 정보 가져오기\n",
    "#print(url)\n",
    "#print(\"========================================================================================\")\n",
    "uRow=seoul_sw_soup.find('list_total_count').text   # 조회된 전체 데이터 개수 추출하기\n",
    "url=url_print(sDt, uRow)          # 전체 데이터가 출력되는 url 생성\n",
    "seoul_sw_soup=html_parser(url)    # 한페이지에 추출한 전체 데이터 출력 url 정보 가져오기\n",
    "#print(url)\n",
    "df=seoul_sw_pandas(seoul_sw_soup)\n",
    "print(df)\n",
    "\n",
    "\n"
   ]
  },
  {
   "cell_type": "code",
   "execution_count": null,
   "id": "e9782c64",
   "metadata": {},
   "outputs": [],
   "source": []
  },
  {
   "cell_type": "code",
   "execution_count": null,
   "id": "5cec6a7a",
   "metadata": {},
   "outputs": [],
   "source": []
  },
  {
   "cell_type": "code",
   "execution_count": null,
   "id": "2921f964",
   "metadata": {},
   "outputs": [],
   "source": []
  },
  {
   "cell_type": "code",
   "execution_count": null,
   "id": "cd1b4ada",
   "metadata": {},
   "outputs": [],
   "source": []
  },
  {
   "cell_type": "code",
   "execution_count": null,
   "id": "bec74cdf",
   "metadata": {},
   "outputs": [],
   "source": []
  },
  {
   "cell_type": "code",
   "execution_count": null,
   "id": "0430acd8",
   "metadata": {},
   "outputs": [],
   "source": []
  },
  {
   "cell_type": "code",
   "execution_count": null,
   "id": "56133a36",
   "metadata": {},
   "outputs": [],
   "source": []
  },
  {
   "cell_type": "code",
   "execution_count": null,
   "id": "ab3630c0",
   "metadata": {},
   "outputs": [],
   "source": []
  },
  {
   "cell_type": "code",
   "execution_count": null,
   "id": "b447a71b",
   "metadata": {},
   "outputs": [],
   "source": []
  },
  {
   "cell_type": "code",
   "execution_count": null,
   "id": "c52e0a10",
   "metadata": {},
   "outputs": [],
   "source": []
  }
 ],
 "metadata": {
  "kernelspec": {
   "display_name": "Python 3",
   "language": "python",
   "name": "python3"
  },
  "language_info": {
   "codemirror_mode": {
    "name": "ipython",
    "version": 3
   },
   "file_extension": ".py",
   "mimetype": "text/x-python",
   "name": "python",
   "nbconvert_exporter": "python",
   "pygments_lexer": "ipython3",
   "version": "3.9.5"
  }
 },
 "nbformat": 4,
 "nbformat_minor": 5
}
