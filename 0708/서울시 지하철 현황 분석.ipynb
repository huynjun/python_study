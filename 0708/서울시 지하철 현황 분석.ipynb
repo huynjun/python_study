{
 "cells": [
  {
   "cell_type": "code",
   "execution_count": 2,
   "id": "f2195a3c",
   "metadata": {},
   "outputs": [
    {
     "name": "stdout",
     "output_type": "stream",
     "text": [
      "시작일 입력: 20210105\n",
      "종료일 입력: 20210108\n"
     ]
    },
    {
     "name": "stderr",
     "output_type": "stream",
     "text": [
      "진행율: 100%|████████████████████████████████████████████████████████████████████████████| 4/4 [00:01<00:00,  2.21it/s]"
     ]
    },
    {
     "name": "stdout",
     "output_type": "stream",
     "text": [
      "           사용일   라인    역명     승차     하차\n",
      "0     20210105  1호선   서울역  30857  28197\n",
      "1     20210105  1호선   동묘앞   5931   6084\n",
      "2     20210105  1호선    시청  17251  16970\n",
      "3     20210105  1호선    종각  27272  26181\n",
      "4     20210105  1호선  종로3가  17682  16275\n",
      "...        ...  ...   ...    ...    ...\n",
      "2389  20210108  중앙선    오빈    175    172\n",
      "2390  20210108  중앙선    양평   1802   1842\n",
      "2391  20210108  중앙선    원덕    137    138\n",
      "2392  20210108  중앙선    용문    904   1021\n",
      "2393  20210108  중앙선    지평     29     41\n",
      "\n",
      "[2394 rows x 5 columns]\n"
     ]
    },
    {
     "name": "stderr",
     "output_type": "stream",
     "text": [
      "\n"
     ]
    }
   ],
   "source": [
    "import  서울시_지하철_승하차_현황_API as sw\n",
    "\n",
    "\n",
    "sDt=input('시작일 입력: ')\n",
    "eDt=input('종료일 입력: ')\n",
    "\n",
    "df0=sw.main_api(sDt, eDt)\n",
    "print(df0)"
   ]
  },
  {
   "cell_type": "code",
   "execution_count": null,
   "id": "bfa18d18",
   "metadata": {},
   "outputs": [],
   "source": []
  }
 ],
 "metadata": {
  "kernelspec": {
   "display_name": "Python 3",
   "language": "python",
   "name": "python3"
  },
  "language_info": {
   "codemirror_mode": {
    "name": "ipython",
    "version": 3
   },
   "file_extension": ".py",
   "mimetype": "text/x-python",
   "name": "python",
   "nbconvert_exporter": "python",
   "pygments_lexer": "ipython3",
   "version": "3.9.5"
  }
 },
 "nbformat": 4,
 "nbformat_minor": 5
}
